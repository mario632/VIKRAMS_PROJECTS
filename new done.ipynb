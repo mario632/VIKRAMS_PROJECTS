{
 "cells": [
  {
   "cell_type": "code",
   "execution_count": 1,
   "id": "485b1c99",
   "metadata": {},
   "outputs": [],
   "source": [
    "import pandas as pd\n",
    "import numpy as np\n",
    "import requests\n",
    "from bs4 import BeautifulSoup\n",
    "import re\n",
    "#Here we imported the libraries which are to be used for the Web Scraping."
   ]
  },
  {
   "cell_type": "code",
   "execution_count": 11,
   "id": "de81ac40",
   "metadata": {},
   "outputs": [
    {
     "ename": "MissingSchema",
     "evalue": "Invalid URL '': No scheme supplied. Perhaps you meant http://?",
     "output_type": "error",
     "traceback": [
      "\u001b[1;31m---------------------------------------------------------------------------\u001b[0m",
      "\u001b[1;31mMissingSchema\u001b[0m                             Traceback (most recent call last)",
      "\u001b[1;32m~\\AppData\\Local\\Temp\\ipykernel_16736\\3552048175.py\u001b[0m in \u001b[0;36m<module>\u001b[1;34m\u001b[0m\n\u001b[0;32m      1\u001b[0m \u001b[0murl\u001b[0m \u001b[1;33m=\u001b[0m \u001b[1;34m\"\"\u001b[0m\u001b[1;33m\u001b[0m\u001b[1;33m\u001b[0m\u001b[0m\n\u001b[1;32m----> 2\u001b[1;33m \u001b[0mpage\u001b[0m \u001b[1;33m=\u001b[0m \u001b[0mrequests\u001b[0m\u001b[1;33m.\u001b[0m\u001b[0mget\u001b[0m\u001b[1;33m(\u001b[0m\u001b[0murl\u001b[0m\u001b[1;33m)\u001b[0m\u001b[1;33m\u001b[0m\u001b[1;33m\u001b[0m\u001b[0m\n\u001b[0m\u001b[0;32m      3\u001b[0m \u001b[0mpage\u001b[0m\u001b[1;33m\u001b[0m\u001b[1;33m\u001b[0m\u001b[0m\n",
      "\u001b[1;32m~\\anaconda3\\lib\\site-packages\\requests\\api.py\u001b[0m in \u001b[0;36mget\u001b[1;34m(url, params, **kwargs)\u001b[0m\n\u001b[0;32m     71\u001b[0m     \"\"\"\n\u001b[0;32m     72\u001b[0m \u001b[1;33m\u001b[0m\u001b[0m\n\u001b[1;32m---> 73\u001b[1;33m     \u001b[1;32mreturn\u001b[0m \u001b[0mrequest\u001b[0m\u001b[1;33m(\u001b[0m\u001b[1;34m\"get\"\u001b[0m\u001b[1;33m,\u001b[0m \u001b[0murl\u001b[0m\u001b[1;33m,\u001b[0m \u001b[0mparams\u001b[0m\u001b[1;33m=\u001b[0m\u001b[0mparams\u001b[0m\u001b[1;33m,\u001b[0m \u001b[1;33m**\u001b[0m\u001b[0mkwargs\u001b[0m\u001b[1;33m)\u001b[0m\u001b[1;33m\u001b[0m\u001b[1;33m\u001b[0m\u001b[0m\n\u001b[0m\u001b[0;32m     74\u001b[0m \u001b[1;33m\u001b[0m\u001b[0m\n\u001b[0;32m     75\u001b[0m \u001b[1;33m\u001b[0m\u001b[0m\n",
      "\u001b[1;32m~\\anaconda3\\lib\\site-packages\\requests\\api.py\u001b[0m in \u001b[0;36mrequest\u001b[1;34m(method, url, **kwargs)\u001b[0m\n\u001b[0;32m     57\u001b[0m     \u001b[1;31m# cases, and look like a memory leak in others.\u001b[0m\u001b[1;33m\u001b[0m\u001b[1;33m\u001b[0m\u001b[0m\n\u001b[0;32m     58\u001b[0m     \u001b[1;32mwith\u001b[0m \u001b[0msessions\u001b[0m\u001b[1;33m.\u001b[0m\u001b[0mSession\u001b[0m\u001b[1;33m(\u001b[0m\u001b[1;33m)\u001b[0m \u001b[1;32mas\u001b[0m \u001b[0msession\u001b[0m\u001b[1;33m:\u001b[0m\u001b[1;33m\u001b[0m\u001b[1;33m\u001b[0m\u001b[0m\n\u001b[1;32m---> 59\u001b[1;33m         \u001b[1;32mreturn\u001b[0m \u001b[0msession\u001b[0m\u001b[1;33m.\u001b[0m\u001b[0mrequest\u001b[0m\u001b[1;33m(\u001b[0m\u001b[0mmethod\u001b[0m\u001b[1;33m=\u001b[0m\u001b[0mmethod\u001b[0m\u001b[1;33m,\u001b[0m \u001b[0murl\u001b[0m\u001b[1;33m=\u001b[0m\u001b[0murl\u001b[0m\u001b[1;33m,\u001b[0m \u001b[1;33m**\u001b[0m\u001b[0mkwargs\u001b[0m\u001b[1;33m)\u001b[0m\u001b[1;33m\u001b[0m\u001b[1;33m\u001b[0m\u001b[0m\n\u001b[0m\u001b[0;32m     60\u001b[0m \u001b[1;33m\u001b[0m\u001b[0m\n\u001b[0;32m     61\u001b[0m \u001b[1;33m\u001b[0m\u001b[0m\n",
      "\u001b[1;32m~\\anaconda3\\lib\\site-packages\\requests\\sessions.py\u001b[0m in \u001b[0;36mrequest\u001b[1;34m(self, method, url, params, data, headers, cookies, files, auth, timeout, allow_redirects, proxies, hooks, stream, verify, cert, json)\u001b[0m\n\u001b[0;32m    571\u001b[0m             \u001b[0mhooks\u001b[0m\u001b[1;33m=\u001b[0m\u001b[0mhooks\u001b[0m\u001b[1;33m,\u001b[0m\u001b[1;33m\u001b[0m\u001b[1;33m\u001b[0m\u001b[0m\n\u001b[0;32m    572\u001b[0m         )\n\u001b[1;32m--> 573\u001b[1;33m         \u001b[0mprep\u001b[0m \u001b[1;33m=\u001b[0m \u001b[0mself\u001b[0m\u001b[1;33m.\u001b[0m\u001b[0mprepare_request\u001b[0m\u001b[1;33m(\u001b[0m\u001b[0mreq\u001b[0m\u001b[1;33m)\u001b[0m\u001b[1;33m\u001b[0m\u001b[1;33m\u001b[0m\u001b[0m\n\u001b[0m\u001b[0;32m    574\u001b[0m \u001b[1;33m\u001b[0m\u001b[0m\n\u001b[0;32m    575\u001b[0m         \u001b[0mproxies\u001b[0m \u001b[1;33m=\u001b[0m \u001b[0mproxies\u001b[0m \u001b[1;32mor\u001b[0m \u001b[1;33m{\u001b[0m\u001b[1;33m}\u001b[0m\u001b[1;33m\u001b[0m\u001b[1;33m\u001b[0m\u001b[0m\n",
      "\u001b[1;32m~\\anaconda3\\lib\\site-packages\\requests\\sessions.py\u001b[0m in \u001b[0;36mprepare_request\u001b[1;34m(self, request)\u001b[0m\n\u001b[0;32m    482\u001b[0m \u001b[1;33m\u001b[0m\u001b[0m\n\u001b[0;32m    483\u001b[0m         \u001b[0mp\u001b[0m \u001b[1;33m=\u001b[0m \u001b[0mPreparedRequest\u001b[0m\u001b[1;33m(\u001b[0m\u001b[1;33m)\u001b[0m\u001b[1;33m\u001b[0m\u001b[1;33m\u001b[0m\u001b[0m\n\u001b[1;32m--> 484\u001b[1;33m         p.prepare(\n\u001b[0m\u001b[0;32m    485\u001b[0m             \u001b[0mmethod\u001b[0m\u001b[1;33m=\u001b[0m\u001b[0mrequest\u001b[0m\u001b[1;33m.\u001b[0m\u001b[0mmethod\u001b[0m\u001b[1;33m.\u001b[0m\u001b[0mupper\u001b[0m\u001b[1;33m(\u001b[0m\u001b[1;33m)\u001b[0m\u001b[1;33m,\u001b[0m\u001b[1;33m\u001b[0m\u001b[1;33m\u001b[0m\u001b[0m\n\u001b[0;32m    486\u001b[0m             \u001b[0murl\u001b[0m\u001b[1;33m=\u001b[0m\u001b[0mrequest\u001b[0m\u001b[1;33m.\u001b[0m\u001b[0murl\u001b[0m\u001b[1;33m,\u001b[0m\u001b[1;33m\u001b[0m\u001b[1;33m\u001b[0m\u001b[0m\n",
      "\u001b[1;32m~\\anaconda3\\lib\\site-packages\\requests\\models.py\u001b[0m in \u001b[0;36mprepare\u001b[1;34m(self, method, url, headers, files, data, params, auth, cookies, hooks, json)\u001b[0m\n\u001b[0;32m    366\u001b[0m \u001b[1;33m\u001b[0m\u001b[0m\n\u001b[0;32m    367\u001b[0m         \u001b[0mself\u001b[0m\u001b[1;33m.\u001b[0m\u001b[0mprepare_method\u001b[0m\u001b[1;33m(\u001b[0m\u001b[0mmethod\u001b[0m\u001b[1;33m)\u001b[0m\u001b[1;33m\u001b[0m\u001b[1;33m\u001b[0m\u001b[0m\n\u001b[1;32m--> 368\u001b[1;33m         \u001b[0mself\u001b[0m\u001b[1;33m.\u001b[0m\u001b[0mprepare_url\u001b[0m\u001b[1;33m(\u001b[0m\u001b[0murl\u001b[0m\u001b[1;33m,\u001b[0m \u001b[0mparams\u001b[0m\u001b[1;33m)\u001b[0m\u001b[1;33m\u001b[0m\u001b[1;33m\u001b[0m\u001b[0m\n\u001b[0m\u001b[0;32m    369\u001b[0m         \u001b[0mself\u001b[0m\u001b[1;33m.\u001b[0m\u001b[0mprepare_headers\u001b[0m\u001b[1;33m(\u001b[0m\u001b[0mheaders\u001b[0m\u001b[1;33m)\u001b[0m\u001b[1;33m\u001b[0m\u001b[1;33m\u001b[0m\u001b[0m\n\u001b[0;32m    370\u001b[0m         \u001b[0mself\u001b[0m\u001b[1;33m.\u001b[0m\u001b[0mprepare_cookies\u001b[0m\u001b[1;33m(\u001b[0m\u001b[0mcookies\u001b[0m\u001b[1;33m)\u001b[0m\u001b[1;33m\u001b[0m\u001b[1;33m\u001b[0m\u001b[0m\n",
      "\u001b[1;32m~\\anaconda3\\lib\\site-packages\\requests\\models.py\u001b[0m in \u001b[0;36mprepare_url\u001b[1;34m(self, url, params)\u001b[0m\n\u001b[0;32m    437\u001b[0m \u001b[1;33m\u001b[0m\u001b[0m\n\u001b[0;32m    438\u001b[0m         \u001b[1;32mif\u001b[0m \u001b[1;32mnot\u001b[0m \u001b[0mscheme\u001b[0m\u001b[1;33m:\u001b[0m\u001b[1;33m\u001b[0m\u001b[1;33m\u001b[0m\u001b[0m\n\u001b[1;32m--> 439\u001b[1;33m             raise MissingSchema(\n\u001b[0m\u001b[0;32m    440\u001b[0m                 \u001b[1;34mf\"Invalid URL {url!r}: No scheme supplied. \"\u001b[0m\u001b[1;33m\u001b[0m\u001b[1;33m\u001b[0m\u001b[0m\n\u001b[0;32m    441\u001b[0m                 \u001b[1;34mf\"Perhaps you meant http://{url}?\"\u001b[0m\u001b[1;33m\u001b[0m\u001b[1;33m\u001b[0m\u001b[0m\n",
      "\u001b[1;31mMissingSchema\u001b[0m: Invalid URL '': No scheme supplied. Perhaps you meant http://?"
     ]
    }
   ],
   "source": [
    "url = \"\"\n",
    "page = requests.get(url)\n",
    "page"
   ]
  },
  {
   "cell_type": "code",
   "execution_count": 12,
   "id": "9ad388bf",
   "metadata": {},
   "outputs": [
    {
     "data": {
      "text/plain": [
       "<Response [403]>"
      ]
     },
     "execution_count": 12,
     "metadata": {},
     "output_type": "execute_result"
    }
   ],
   "source": []
  },
  {
   "cell_type": "code",
   "execution_count": 5,
   "id": "4f13105b",
   "metadata": {},
   "outputs": [
    {
     "ename": "IndentationError",
     "evalue": "unexpected indent (4101824364.py, line 2)",
     "output_type": "error",
     "traceback": [
      "\u001b[1;36m  File \u001b[1;32m\"C:\\Users\\vamsi\\AppData\\Local\\Temp\\ipykernel_16736\\4101824364.py\"\u001b[1;36m, line \u001b[1;32m2\u001b[0m\n\u001b[1;33m    print(url)\u001b[0m\n\u001b[1;37m    ^\u001b[0m\n\u001b[1;31mIndentationError\u001b[0m\u001b[1;31m:\u001b[0m unexpected indent\n"
     ]
    }
   ],
   "source": [
    " url=f\"https://www.imdb.com/search/title/?title_type=tv_series&num_votes=1000,&genres=animation&sort=user_rating,desc&start={i}&ref_=adv_nxt\"\n",
    "print(url)\n",
    "    headers = {\"Accept-Language\": \"en-US,en;q=0.9\"}\n",
    "    page = requests.get(url,headers=headers)\n",
    "    soup = BeautifulSoup(page.text)\n",
    "\n",
    "    "
   ]
  },
  {
   "cell_type": "code",
   "execution_count": 6,
   "id": "d13f80a9",
   "metadata": {
    "scrolled": true
   },
   "outputs": [
    {
     "name": "stdout",
     "output_type": "stream",
     "text": [
      "https://www.imdb.com/search/title/?title_type=tv_series&num_votes=1000,&genres=animation&sort=user_rating,desc&start=1&ref_=adv_nxt\n",
      "https://www.imdb.com/search/title/?title_type=tv_series&num_votes=1000,&genres=animation&sort=user_rating,desc&start=51&ref_=adv_nxt\n",
      "https://www.imdb.com/search/title/?title_type=tv_series&num_votes=1000,&genres=animation&sort=user_rating,desc&start=101&ref_=adv_nxt\n",
      "https://www.imdb.com/search/title/?title_type=tv_series&num_votes=1000,&genres=animation&sort=user_rating,desc&start=151&ref_=adv_nxt\n",
      "https://www.imdb.com/search/title/?title_type=tv_series&num_votes=1000,&genres=animation&sort=user_rating,desc&start=201&ref_=adv_nxt\n",
      "https://www.imdb.com/search/title/?title_type=tv_series&num_votes=1000,&genres=animation&sort=user_rating,desc&start=251&ref_=adv_nxt\n",
      "https://www.imdb.com/search/title/?title_type=tv_series&num_votes=1000,&genres=animation&sort=user_rating,desc&start=301&ref_=adv_nxt\n",
      "https://www.imdb.com/search/title/?title_type=tv_series&num_votes=1000,&genres=animation&sort=user_rating,desc&start=351&ref_=adv_nxt\n",
      "https://www.imdb.com/search/title/?title_type=tv_series&num_votes=1000,&genres=animation&sort=user_rating,desc&start=401&ref_=adv_nxt\n",
      "https://www.imdb.com/search/title/?title_type=tv_series&num_votes=1000,&genres=animation&sort=user_rating,desc&start=451&ref_=adv_nxt\n"
     ]
    }
   ],
   "source": [
    "title=[]\n",
    "start_year=[]\n",
    "end_year=[]\n",
    "rating=[]\n",
    "genre=[]\n",
    "runtime=[]\n",
    "casting=[]\n",
    "votes=[]\n",
    "certificate=[]\n",
    "\n",
    "#using for loop to extract the data through range.\n",
    "\n",
    "for i in range(1,500,50):\n",
    "    url=f\"https://www.imdb.com/search/title/?title_type=tv_series&num_votes=1000,&genres=animation&sort=user_rating,desc&start={i}&ref_=adv_nxt\"\n",
    "    print(url)\n",
    "    headers = {\"Accept-Language\": \"en-US,en;q=0.9\"}\n",
    "    page = requests.get(url,headers=headers)\n",
    "    soup = BeautifulSoup(page.text)\n",
    "\n",
    "#titles\n",
    "\n",
    "    titles=soup.find_all(\"h3\",class_=\"lister-item-header\")\n",
    "\n",
    "    for i in titles:\n",
    "        a=i.text\n",
    "        t_=a.split('\\n')[2]\n",
    "        if t_:\n",
    "            title.append(t_)\n",
    "        else:\n",
    "            title.append(np.nan)\n",
    "            \n",
    "#certificate \n",
    "\n",
    "    c=soup.find_all('span',class_='certificate')\n",
    "\n",
    "    for i in c:\n",
    "        d=i.text\n",
    "        certificate.append(d)\n",
    "\n",
    "#start year\n",
    "\n",
    "    d=soup.find_all('span',class_=\"lister-item-year text-muted unbold\")\n",
    "\n",
    "    for i in d:\n",
    "        b=i.text\n",
    "        c=re.findall(r'\\W(\\d+)\\W',b)\n",
    "        start_year.append(c)\n",
    "\n",
    "#end year\n",
    "\n",
    "    d=soup.find_all('span',class_=\"lister-item-year text-muted unbold\")\n",
    "\n",
    "    for i in d:\n",
    "        b=re.findall(r'\\W\\d+\\W(\\d+)|\\W(\\s)\\W',i.text)\n",
    "        end_year.append(b)\n",
    "\n",
    "#rating\n",
    "\n",
    "    r=soup.find_all('div',class_=\"inline-block ratings-imdb-rating\")\n",
    "    \n",
    "    for i in r:\n",
    "        b=i.text\n",
    "        rating.append(b.split('\\n')[2])\n",
    "        \n",
    "#genre\n",
    "\n",
    "    g=soup.find_all('span',class_=\"genre\")\n",
    "\n",
    "    for i in g:\n",
    "        d=i.text\n",
    "        a=re.findall(r'\\W+(\\w+)',d)\n",
    "        genre.append(a)\n",
    "        \n",
    "#runtime\n",
    "\n",
    "    h=soup.find_all('span',class_=\"runtime\")\n",
    "    for i in h:\n",
    "        e=i.text\n",
    "        runtime.append(e)\n",
    "        \n",
    "#casting  \n",
    "\n",
    "    l=soup.find_all('p',class_=\"\")\n",
    "\n",
    "    for i in l:\n",
    "        l=i.text\n",
    "        casting.append(l)\n",
    "        \n",
    "#votes\n",
    "\n",
    "    j=soup.find_all('p',class_=\"sort-num_votes-visible\")\n",
    "\n",
    "    for i in j:\n",
    "        e=i.text\n",
    "        votes.append(e.split('\\n')[2])\n",
    "#This code scrappes the data from the Url/Website within the given range i.e we have given a range (1,500,50) \n",
    "#We have placed some empty list with assigning to each of the column names with command \"append\""
   ]
  },
  {
   "cell_type": "markdown",
   "id": "c3b7bc84",
   "metadata": {},
   "source": [
    "Below Here we will be using \" len() \" to check if its suitable for DataFrame with all arrays of same length."
   ]
  },
  {
   "cell_type": "code",
   "execution_count": 3,
   "id": "23ebf429",
   "metadata": {},
   "outputs": [
    {
     "data": {
      "text/plain": [
       "0"
      ]
     },
     "execution_count": 3,
     "metadata": {},
     "output_type": "execute_result"
    }
   ],
   "source": [
    "len(runtime)\n",
    "len(certificate)\n",
    "len(genre)\n",
    "len(rating)\n",
    "len(casting)\n",
    "len(end_year)\n",
    "len(votes)\n",
    "len(certificate)\n",
    "len(start_year)\n",
    "len(title)\n",
    "#This displays the total number of data present in each "
   ]
  },
  {
   "cell_type": "code",
   "execution_count": 4,
   "id": "e9cac322",
   "metadata": {},
   "outputs": [],
   "source": [
    "d = {\"Titles\":title,\n",
    "    \"Start year\":start_year,\n",
    "    \"Rating\":rating,\n",
    "    \"Genre\":genre,\n",
    "    \"Runtime (min)\":runtime,\n",
    "    \"Casting\":casting,\n",
    "    \"Votes\":votes,\n",
    "    \"Certificate\":certificate}\n",
    "#Here we are giving the names for the columns with thier respective list's."
   ]
  },
  {
   "cell_type": "code",
   "execution_count": 5,
   "id": "f78ccadf",
   "metadata": {},
   "outputs": [
    {
     "data": {
      "text/html": [
       "<div>\n",
       "<style scoped>\n",
       "    .dataframe tbody tr th:only-of-type {\n",
       "        vertical-align: middle;\n",
       "    }\n",
       "\n",
       "    .dataframe tbody tr th {\n",
       "        vertical-align: top;\n",
       "    }\n",
       "\n",
       "    .dataframe thead th {\n",
       "        text-align: right;\n",
       "    }\n",
       "</style>\n",
       "<table border=\"1\" class=\"dataframe\">\n",
       "  <thead>\n",
       "    <tr style=\"text-align: right;\">\n",
       "      <th></th>\n",
       "      <th>Titles</th>\n",
       "      <th>Start year</th>\n",
       "      <th>Rating</th>\n",
       "      <th>Genre</th>\n",
       "      <th>Runtime (min)</th>\n",
       "      <th>Casting</th>\n",
       "      <th>Votes</th>\n",
       "      <th>Certificate</th>\n",
       "    </tr>\n",
       "  </thead>\n",
       "  <tbody>\n",
       "  </tbody>\n",
       "</table>\n",
       "</div>"
      ],
      "text/plain": [
       "Empty DataFrame\n",
       "Columns: [Titles, Start year, Rating, Genre, Runtime (min), Casting, Votes, Certificate]\n",
       "Index: []"
      ]
     },
     "execution_count": 5,
     "metadata": {},
     "output_type": "execute_result"
    }
   ],
   "source": [
    "df=pd.DataFrame(d)\n",
    "df\n",
    "#This gives us the DataFrame of the data we've Scrapped. "
   ]
  },
  {
   "cell_type": "code",
   "execution_count": 405,
   "id": "e8ad1132",
   "metadata": {},
   "outputs": [
    {
     "name": "stdout",
     "output_type": "stream",
     "text": [
      "Duplicate rows:\n",
      "                           Titles Start year Rating  \\\n",
      "28                  Dragon Ball Z     [1989]    8.8   \n",
      "58                    Dragon Ball     [1995]    8.6   \n",
      "60                Hunter x Hunter     [1999]    8.6   \n",
      "285                      Doraemon     [1979]    8.1   \n",
      "315                     DuckTales     [1987]    8.0   \n",
      "352                      Doraemon     [1973]    8.0   \n",
      "360  Teenage Mutant Ninja Turtles     [1987]    7.9   \n",
      "391               Captain Tsubasa     [1983]    7.9   \n",
      "395                 Fruits Basket     [2001]    7.9   \n",
      "411                       Ranma ½     [1989]    7.9   \n",
      "422  Teenage Mutant Ninja Turtles     [2003]    7.8   \n",
      "435                    Animaniacs     [2020]    7.8   \n",
      "436                   Thundercats     [2011]    7.8   \n",
      "\n",
      "                              Genre Runtime (min)  \\\n",
      "28   [Animation, Action, Adventure]        24 min   \n",
      "58   [Animation, Action, Adventure]        24 min   \n",
      "60   [Animation, Action, Adventure]        24 min   \n",
      "285  [Animation, Adventure, Comedy]        30 min   \n",
      "315  [Animation, Action, Adventure]        30 min   \n",
      "352     [Animation, Comedy, Family]        24 min   \n",
      "360  [Animation, Action, Adventure]        24 min   \n",
      "391      [Animation, Comedy, Drama]        24 min   \n",
      "395      [Animation, Comedy, Drama]        22 min   \n",
      "411     [Animation, Action, Comedy]        24 min   \n",
      "422  [Animation, Action, Adventure]        24 min   \n",
      "435   [Animation, Short, Adventure]        50 min   \n",
      "436  [Animation, Action, Adventure]        30 min   \n",
      "\n",
      "                                               Casting   Votes Certificate  \n",
      "28   \\n            \\n    Stars:\\nJôji Yanami, \\nKyl...  83,173       TV-14  \n",
      "58   \\n            \\n    Stars:\\nBrice Armstrong, \\...  62,209       TV-MA  \n",
      "60   \\n            \\n    Stars:\\nJunko Takeuchi, \\n...   8,840       TV-14  \n",
      "285  \\n            \\n    Stars:\\nNobuyo Ôyama, \\nNo...   4,595       TV-PG  \n",
      "315  \\n            \\n    Stars:\\nAlan Young, \\nRuss...  33,586          UA  \n",
      "352  \\n            \\n    Stars:\\nYoshiko Ôta, \\nMas...   1,419       TV-PG  \n",
      "360  \\n            \\n    Stars:\\nCam Clarke, \\nBarr...  35,667       TV-MA  \n",
      "391  \\n            \\n    Stars:\\nAkari Hibino, \\nKa...   7,041       TV-MA  \n",
      "395  \\n            \\n    Stars:\\nEric Vale, \\nLaura...   6,030       TV-14  \n",
      "411  \\n            \\n    Stars:\\nKappei Yamaguchi, ...   5,386       TV-14  \n",
      "422  \\n            \\n    Stars:\\nMichael Sinternikl...  11,540       TV-14  \n",
      "435  \\n            \\n    Stars:\\nJess Harnell, \\nTr...   3,591       TV-14  \n",
      "436  \\n            \\n    Stars:\\nWill Friedle, \\nMa...   7,406       TV-MA  \n",
      "Number of duplicates: 13\n"
     ]
    }
   ],
   "source": [
    "import pandas as pd\n",
    "\n",
    "\n",
    "duplicates = df.duplicated('Titles')\n",
    "duplicate_rows = df[duplicates]\n",
    "num_duplicates = duplicate_rows.shape[0]\n",
    "\n",
    "print(\"Duplicate rows:\")\n",
    "print(duplicate_rows)\n",
    "print(\"Number of duplicates:\", num_duplicates)\n",
    "\n",
    "#checking for duplicates"
   ]
  },
  {
   "cell_type": "code",
   "execution_count": 6,
   "id": "ceb7b97b",
   "metadata": {},
   "outputs": [
    {
     "data": {
      "text/plain": [
       "Titles           0.0\n",
       "Start year       0.0\n",
       "Rating           0.0\n",
       "Genre            0.0\n",
       "Runtime (min)    0.0\n",
       "Casting          0.0\n",
       "Votes            0.0\n",
       "Certificate      0.0\n",
       "dtype: float64"
      ]
     },
     "execution_count": 6,
     "metadata": {},
     "output_type": "execute_result"
    }
   ],
   "source": [
    "df.isnull().sum()\n",
    "#we are checking if there are any null values present in the DataFrame."
   ]
  },
  {
   "cell_type": "code",
   "execution_count": 7,
   "id": "bcaaf56e",
   "metadata": {},
   "outputs": [
    {
     "ename": "KeyError",
     "evalue": "0",
     "output_type": "error",
     "traceback": [
      "\u001b[1;31m---------------------------------------------------------------------------\u001b[0m",
      "\u001b[1;31mValueError\u001b[0m                                Traceback (most recent call last)",
      "\u001b[1;32m~\\anaconda3\\lib\\site-packages\\pandas\\core\\indexes\\range.py\u001b[0m in \u001b[0;36mget_loc\u001b[1;34m(self, key, method, tolerance)\u001b[0m\n\u001b[0;32m    384\u001b[0m                 \u001b[1;32mtry\u001b[0m\u001b[1;33m:\u001b[0m\u001b[1;33m\u001b[0m\u001b[1;33m\u001b[0m\u001b[0m\n\u001b[1;32m--> 385\u001b[1;33m                     \u001b[1;32mreturn\u001b[0m \u001b[0mself\u001b[0m\u001b[1;33m.\u001b[0m\u001b[0m_range\u001b[0m\u001b[1;33m.\u001b[0m\u001b[0mindex\u001b[0m\u001b[1;33m(\u001b[0m\u001b[0mnew_key\u001b[0m\u001b[1;33m)\u001b[0m\u001b[1;33m\u001b[0m\u001b[1;33m\u001b[0m\u001b[0m\n\u001b[0m\u001b[0;32m    386\u001b[0m                 \u001b[1;32mexcept\u001b[0m \u001b[0mValueError\u001b[0m \u001b[1;32mas\u001b[0m \u001b[0merr\u001b[0m\u001b[1;33m:\u001b[0m\u001b[1;33m\u001b[0m\u001b[1;33m\u001b[0m\u001b[0m\n",
      "\u001b[1;31mValueError\u001b[0m: 0 is not in range",
      "\nThe above exception was the direct cause of the following exception:\n",
      "\u001b[1;31mKeyError\u001b[0m                                  Traceback (most recent call last)",
      "\u001b[1;32m~\\AppData\\Local\\Temp\\ipykernel_1312\\2082764099.py\u001b[0m in \u001b[0;36m<module>\u001b[1;34m\u001b[0m\n\u001b[1;32m----> 1\u001b[1;33m \u001b[0mdf\u001b[0m\u001b[1;33m[\u001b[0m\u001b[1;34m'Runtime (min)'\u001b[0m\u001b[1;33m]\u001b[0m \u001b[1;33m=\u001b[0m \u001b[0mdf\u001b[0m\u001b[1;33m[\u001b[0m\u001b[1;34m'Runtime (min)'\u001b[0m\u001b[1;33m]\u001b[0m\u001b[1;33m.\u001b[0m\u001b[0mreplace\u001b[0m\u001b[1;33m(\u001b[0m\u001b[1;34m'Nan'\u001b[0m\u001b[1;33m,\u001b[0m \u001b[0mdf\u001b[0m\u001b[1;33m[\u001b[0m\u001b[1;34m'Runtime (min)'\u001b[0m\u001b[1;33m]\u001b[0m\u001b[1;33m.\u001b[0m\u001b[0mmode\u001b[0m\u001b[1;33m(\u001b[0m\u001b[1;33m)\u001b[0m\u001b[1;33m[\u001b[0m\u001b[1;36m0\u001b[0m\u001b[1;33m]\u001b[0m\u001b[1;33m)\u001b[0m\u001b[1;33m\u001b[0m\u001b[1;33m\u001b[0m\u001b[0m\n\u001b[0m\u001b[0;32m      2\u001b[0m \u001b[0mdf\u001b[0m\u001b[1;33m\u001b[0m\u001b[1;33m\u001b[0m\u001b[0m\n\u001b[0;32m      3\u001b[0m \u001b[1;31m#replaces the Nan values\u001b[0m\u001b[1;33m\u001b[0m\u001b[1;33m\u001b[0m\u001b[0m\n",
      "\u001b[1;32m~\\anaconda3\\lib\\site-packages\\pandas\\core\\series.py\u001b[0m in \u001b[0;36m__getitem__\u001b[1;34m(self, key)\u001b[0m\n\u001b[0;32m    956\u001b[0m \u001b[1;33m\u001b[0m\u001b[0m\n\u001b[0;32m    957\u001b[0m         \u001b[1;32melif\u001b[0m \u001b[0mkey_is_scalar\u001b[0m\u001b[1;33m:\u001b[0m\u001b[1;33m\u001b[0m\u001b[1;33m\u001b[0m\u001b[0m\n\u001b[1;32m--> 958\u001b[1;33m             \u001b[1;32mreturn\u001b[0m \u001b[0mself\u001b[0m\u001b[1;33m.\u001b[0m\u001b[0m_get_value\u001b[0m\u001b[1;33m(\u001b[0m\u001b[0mkey\u001b[0m\u001b[1;33m)\u001b[0m\u001b[1;33m\u001b[0m\u001b[1;33m\u001b[0m\u001b[0m\n\u001b[0m\u001b[0;32m    959\u001b[0m \u001b[1;33m\u001b[0m\u001b[0m\n\u001b[0;32m    960\u001b[0m         \u001b[1;32mif\u001b[0m \u001b[0mis_hashable\u001b[0m\u001b[1;33m(\u001b[0m\u001b[0mkey\u001b[0m\u001b[1;33m)\u001b[0m\u001b[1;33m:\u001b[0m\u001b[1;33m\u001b[0m\u001b[1;33m\u001b[0m\u001b[0m\n",
      "\u001b[1;32m~\\anaconda3\\lib\\site-packages\\pandas\\core\\series.py\u001b[0m in \u001b[0;36m_get_value\u001b[1;34m(self, label, takeable)\u001b[0m\n\u001b[0;32m   1067\u001b[0m \u001b[1;33m\u001b[0m\u001b[0m\n\u001b[0;32m   1068\u001b[0m         \u001b[1;31m# Similar to Index.get_value, but we do not fall back to positional\u001b[0m\u001b[1;33m\u001b[0m\u001b[1;33m\u001b[0m\u001b[0m\n\u001b[1;32m-> 1069\u001b[1;33m         \u001b[0mloc\u001b[0m \u001b[1;33m=\u001b[0m \u001b[0mself\u001b[0m\u001b[1;33m.\u001b[0m\u001b[0mindex\u001b[0m\u001b[1;33m.\u001b[0m\u001b[0mget_loc\u001b[0m\u001b[1;33m(\u001b[0m\u001b[0mlabel\u001b[0m\u001b[1;33m)\u001b[0m\u001b[1;33m\u001b[0m\u001b[1;33m\u001b[0m\u001b[0m\n\u001b[0m\u001b[0;32m   1070\u001b[0m         \u001b[1;32mreturn\u001b[0m \u001b[0mself\u001b[0m\u001b[1;33m.\u001b[0m\u001b[0mindex\u001b[0m\u001b[1;33m.\u001b[0m\u001b[0m_get_values_for_loc\u001b[0m\u001b[1;33m(\u001b[0m\u001b[0mself\u001b[0m\u001b[1;33m,\u001b[0m \u001b[0mloc\u001b[0m\u001b[1;33m,\u001b[0m \u001b[0mlabel\u001b[0m\u001b[1;33m)\u001b[0m\u001b[1;33m\u001b[0m\u001b[1;33m\u001b[0m\u001b[0m\n\u001b[0;32m   1071\u001b[0m \u001b[1;33m\u001b[0m\u001b[0m\n",
      "\u001b[1;32m~\\anaconda3\\lib\\site-packages\\pandas\\core\\indexes\\range.py\u001b[0m in \u001b[0;36mget_loc\u001b[1;34m(self, key, method, tolerance)\u001b[0m\n\u001b[0;32m    385\u001b[0m                     \u001b[1;32mreturn\u001b[0m \u001b[0mself\u001b[0m\u001b[1;33m.\u001b[0m\u001b[0m_range\u001b[0m\u001b[1;33m.\u001b[0m\u001b[0mindex\u001b[0m\u001b[1;33m(\u001b[0m\u001b[0mnew_key\u001b[0m\u001b[1;33m)\u001b[0m\u001b[1;33m\u001b[0m\u001b[1;33m\u001b[0m\u001b[0m\n\u001b[0;32m    386\u001b[0m                 \u001b[1;32mexcept\u001b[0m \u001b[0mValueError\u001b[0m \u001b[1;32mas\u001b[0m \u001b[0merr\u001b[0m\u001b[1;33m:\u001b[0m\u001b[1;33m\u001b[0m\u001b[1;33m\u001b[0m\u001b[0m\n\u001b[1;32m--> 387\u001b[1;33m                     \u001b[1;32mraise\u001b[0m \u001b[0mKeyError\u001b[0m\u001b[1;33m(\u001b[0m\u001b[0mkey\u001b[0m\u001b[1;33m)\u001b[0m \u001b[1;32mfrom\u001b[0m \u001b[0merr\u001b[0m\u001b[1;33m\u001b[0m\u001b[1;33m\u001b[0m\u001b[0m\n\u001b[0m\u001b[0;32m    388\u001b[0m             \u001b[0mself\u001b[0m\u001b[1;33m.\u001b[0m\u001b[0m_check_indexing_error\u001b[0m\u001b[1;33m(\u001b[0m\u001b[0mkey\u001b[0m\u001b[1;33m)\u001b[0m\u001b[1;33m\u001b[0m\u001b[1;33m\u001b[0m\u001b[0m\n\u001b[0;32m    389\u001b[0m             \u001b[1;32mraise\u001b[0m \u001b[0mKeyError\u001b[0m\u001b[1;33m(\u001b[0m\u001b[0mkey\u001b[0m\u001b[1;33m)\u001b[0m\u001b[1;33m\u001b[0m\u001b[1;33m\u001b[0m\u001b[0m\n",
      "\u001b[1;31mKeyError\u001b[0m: 0"
     ]
    }
   ],
   "source": [
    "df['Runtime (min)'] = df['Runtime (min)'].replace('Nan', df['Runtime (min)'].mode()[0])\n",
    "df\n",
    "#replaces the Nan values"
   ]
  },
  {
   "cell_type": "code",
   "execution_count": 8,
   "id": "511513b7",
   "metadata": {},
   "outputs": [
    {
     "data": {
      "text/html": [
       "<div>\n",
       "<style scoped>\n",
       "    .dataframe tbody tr th:only-of-type {\n",
       "        vertical-align: middle;\n",
       "    }\n",
       "\n",
       "    .dataframe tbody tr th {\n",
       "        vertical-align: top;\n",
       "    }\n",
       "\n",
       "    .dataframe thead th {\n",
       "        text-align: right;\n",
       "    }\n",
       "</style>\n",
       "<table border=\"1\" class=\"dataframe\">\n",
       "  <thead>\n",
       "    <tr style=\"text-align: right;\">\n",
       "      <th></th>\n",
       "      <th>Titles</th>\n",
       "      <th>Start year</th>\n",
       "      <th>Rating</th>\n",
       "      <th>Genre</th>\n",
       "      <th>Runtime (min)</th>\n",
       "      <th>Casting</th>\n",
       "      <th>Votes</th>\n",
       "      <th>Certificate</th>\n",
       "    </tr>\n",
       "  </thead>\n",
       "  <tbody>\n",
       "  </tbody>\n",
       "</table>\n",
       "</div>"
      ],
      "text/plain": [
       "Empty DataFrame\n",
       "Columns: [Titles, Start year, Rating, Genre, Runtime (min), Casting, Votes, Certificate]\n",
       "Index: []"
      ]
     },
     "execution_count": 8,
     "metadata": {},
     "output_type": "execute_result"
    }
   ],
   "source": [
    "df"
   ]
  },
  {
   "cell_type": "code",
   "execution_count": 9,
   "id": "e40bc455",
   "metadata": {},
   "outputs": [
    {
     "data": {
      "text/plain": [
       "Titles           0.0\n",
       "Start year       0.0\n",
       "Rating           0.0\n",
       "Genre            0.0\n",
       "Runtime (min)    0.0\n",
       "Casting          0.0\n",
       "Votes            0.0\n",
       "Certificate      0.0\n",
       "dtype: float64"
      ]
     },
     "execution_count": 9,
     "metadata": {},
     "output_type": "execute_result"
    }
   ],
   "source": [
    "df.isnull().sum()\n",
    "#checking if there any null values or not."
   ]
  },
  {
   "cell_type": "code",
   "execution_count": 10,
   "id": "9af723c7",
   "metadata": {},
   "outputs": [],
   "source": [
    "df.to_csv(\"finalll.csv\")\n",
    "#Converting DataFrame to csv file."
   ]
  },
  {
   "cell_type": "code",
   "execution_count": 11,
   "id": "9bad2d15",
   "metadata": {},
   "outputs": [],
   "source": [
    "df=pd.read_csv('finalll.csv')\n",
    "df.drop(columns='Unnamed: 0',inplace=True)\n",
    "#drops the column named unnamed with \"inplace=True\" for permanent change."
   ]
  },
  {
   "cell_type": "code",
   "execution_count": 12,
   "id": "745b8be4",
   "metadata": {},
   "outputs": [
    {
     "data": {
      "text/html": [
       "<div>\n",
       "<style scoped>\n",
       "    .dataframe tbody tr th:only-of-type {\n",
       "        vertical-align: middle;\n",
       "    }\n",
       "\n",
       "    .dataframe tbody tr th {\n",
       "        vertical-align: top;\n",
       "    }\n",
       "\n",
       "    .dataframe thead th {\n",
       "        text-align: right;\n",
       "    }\n",
       "</style>\n",
       "<table border=\"1\" class=\"dataframe\">\n",
       "  <thead>\n",
       "    <tr style=\"text-align: right;\">\n",
       "      <th></th>\n",
       "      <th>Titles</th>\n",
       "      <th>Start year</th>\n",
       "      <th>Rating</th>\n",
       "      <th>Genre</th>\n",
       "      <th>Runtime (min)</th>\n",
       "      <th>Casting</th>\n",
       "      <th>Votes</th>\n",
       "      <th>Certificate</th>\n",
       "    </tr>\n",
       "  </thead>\n",
       "  <tbody>\n",
       "  </tbody>\n",
       "</table>\n",
       "</div>"
      ],
      "text/plain": [
       "Empty DataFrame\n",
       "Columns: [Titles, Start year, Rating, Genre, Runtime (min), Casting, Votes, Certificate]\n",
       "Index: []"
      ]
     },
     "execution_count": 12,
     "metadata": {},
     "output_type": "execute_result"
    }
   ],
   "source": [
    "df.head()\n",
    "#Head shows first 5 values in the DataFrame."
   ]
  },
  {
   "cell_type": "code",
   "execution_count": 373,
   "id": "8afe7ec2",
   "metadata": {},
   "outputs": [
    {
     "data": {
      "text/plain": [
       "24 min     150\n",
       "30 min      76\n",
       "23 min      76\n",
       "25 min      62\n",
       "22 min      44\n",
       "11 min      16\n",
       "15 min       9\n",
       "12 min       7\n",
       "7 min        6\n",
       "21 min       6\n",
       "26 min       5\n",
       "10 min       5\n",
       "5 min        3\n",
       "20 min       3\n",
       "3 min        2\n",
       "22 min       2\n",
       "55 min       2\n",
       "41 min       2\n",
       "50 min       2\n",
       "4 min        1\n",
       "360 min      1\n",
       "32 min       1\n",
       "8 min        1\n",
       "701 min      1\n",
       "133 min      1\n",
       "384 min      1\n",
       "99 min       1\n",
       "522 min      1\n",
       "6 min        1\n",
       "174 min      1\n",
       "90 min       1\n",
       "2 min        1\n",
       "900 min      1\n",
       "45 min       1\n",
       "27 min       1\n",
       "60 min       1\n",
       "325 min      1\n",
       "29 min       1\n",
       "203 min      1\n",
       "28 min       1\n",
       "13 min       1\n",
       "Name: Runtime (min), dtype: int64"
      ]
     },
     "execution_count": 373,
     "metadata": {},
     "output_type": "execute_result"
    }
   ],
   "source": [
    "df['Runtime (min)'].value_counts()\n",
    "#The no. of count on runtime."
   ]
  },
  {
   "cell_type": "code",
   "execution_count": 13,
   "id": "aadccbe2",
   "metadata": {},
   "outputs": [
    {
     "data": {
      "text/html": [
       "<div>\n",
       "<style scoped>\n",
       "    .dataframe tbody tr th:only-of-type {\n",
       "        vertical-align: middle;\n",
       "    }\n",
       "\n",
       "    .dataframe tbody tr th {\n",
       "        vertical-align: top;\n",
       "    }\n",
       "\n",
       "    .dataframe thead th {\n",
       "        text-align: right;\n",
       "    }\n",
       "</style>\n",
       "<table border=\"1\" class=\"dataframe\">\n",
       "  <thead>\n",
       "    <tr style=\"text-align: right;\">\n",
       "      <th></th>\n",
       "      <th>Titles</th>\n",
       "      <th>Start year</th>\n",
       "      <th>Rating</th>\n",
       "      <th>Genre</th>\n",
       "      <th>Runtime (min)</th>\n",
       "      <th>Casting</th>\n",
       "      <th>Votes</th>\n",
       "      <th>Certificate</th>\n",
       "    </tr>\n",
       "  </thead>\n",
       "  <tbody>\n",
       "  </tbody>\n",
       "</table>\n",
       "</div>"
      ],
      "text/plain": [
       "Empty DataFrame\n",
       "Columns: [Titles, Start year, Rating, Genre, Runtime (min), Casting, Votes, Certificate]\n",
       "Index: []"
      ]
     },
     "execution_count": 13,
     "metadata": {},
     "output_type": "execute_result"
    }
   ],
   "source": [
    "df[df['Titles']==\"One Piece\"]\n",
    "#To search for a certain Anime using a particular column and the record it has."
   ]
  },
  {
   "cell_type": "code",
   "execution_count": 14,
   "id": "e6955a86",
   "metadata": {},
   "outputs": [
    {
     "ename": "IndexError",
     "evalue": "index 108 is out of bounds for axis 0 with size 0",
     "output_type": "error",
     "traceback": [
      "\u001b[1;31m---------------------------------------------------------------------------\u001b[0m",
      "\u001b[1;31mIndexError\u001b[0m                                Traceback (most recent call last)",
      "\u001b[1;32m~\\AppData\\Local\\Temp\\ipykernel_1312\\2994880633.py\u001b[0m in \u001b[0;36m<module>\u001b[1;34m\u001b[0m\n\u001b[1;32m----> 1\u001b[1;33m \u001b[0mdf\u001b[0m\u001b[1;33m[\u001b[0m\u001b[1;34m'Titles'\u001b[0m\u001b[1;33m]\u001b[0m\u001b[1;33m[\u001b[0m\u001b[1;36m108\u001b[0m\u001b[1;33m]\u001b[0m\u001b[1;33m\u001b[0m\u001b[1;33m\u001b[0m\u001b[0m\n\u001b[0m\u001b[0;32m      2\u001b[0m \u001b[1;31m#Picking out the title of anime through a index number.\u001b[0m\u001b[1;33m\u001b[0m\u001b[1;33m\u001b[0m\u001b[0m\n",
      "\u001b[1;32m~\\anaconda3\\lib\\site-packages\\pandas\\core\\series.py\u001b[0m in \u001b[0;36m__getitem__\u001b[1;34m(self, key)\u001b[0m\n\u001b[0;32m    953\u001b[0m \u001b[1;33m\u001b[0m\u001b[0m\n\u001b[0;32m    954\u001b[0m         \u001b[1;32mif\u001b[0m \u001b[0mis_integer\u001b[0m\u001b[1;33m(\u001b[0m\u001b[0mkey\u001b[0m\u001b[1;33m)\u001b[0m \u001b[1;32mand\u001b[0m \u001b[0mself\u001b[0m\u001b[1;33m.\u001b[0m\u001b[0mindex\u001b[0m\u001b[1;33m.\u001b[0m\u001b[0m_should_fallback_to_positional\u001b[0m\u001b[1;33m:\u001b[0m\u001b[1;33m\u001b[0m\u001b[1;33m\u001b[0m\u001b[0m\n\u001b[1;32m--> 955\u001b[1;33m             \u001b[1;32mreturn\u001b[0m \u001b[0mself\u001b[0m\u001b[1;33m.\u001b[0m\u001b[0m_values\u001b[0m\u001b[1;33m[\u001b[0m\u001b[0mkey\u001b[0m\u001b[1;33m]\u001b[0m\u001b[1;33m\u001b[0m\u001b[1;33m\u001b[0m\u001b[0m\n\u001b[0m\u001b[0;32m    956\u001b[0m \u001b[1;33m\u001b[0m\u001b[0m\n\u001b[0;32m    957\u001b[0m         \u001b[1;32melif\u001b[0m \u001b[0mkey_is_scalar\u001b[0m\u001b[1;33m:\u001b[0m\u001b[1;33m\u001b[0m\u001b[1;33m\u001b[0m\u001b[0m\n",
      "\u001b[1;31mIndexError\u001b[0m: index 108 is out of bounds for axis 0 with size 0"
     ]
    }
   ],
   "source": [
    "df['Titles'][108]\n",
    "#Picking out the title of anime through a index number."
   ]
  },
  {
   "cell_type": "code",
   "execution_count": 417,
   "id": "9e35c357",
   "metadata": {},
   "outputs": [
    {
     "data": {
      "text/html": [
       "<div>\n",
       "<style scoped>\n",
       "    .dataframe tbody tr th:only-of-type {\n",
       "        vertical-align: middle;\n",
       "    }\n",
       "\n",
       "    .dataframe tbody tr th {\n",
       "        vertical-align: top;\n",
       "    }\n",
       "\n",
       "    .dataframe thead th {\n",
       "        text-align: right;\n",
       "    }\n",
       "</style>\n",
       "<table border=\"1\" class=\"dataframe\">\n",
       "  <thead>\n",
       "    <tr style=\"text-align: right;\">\n",
       "      <th></th>\n",
       "      <th>Titles</th>\n",
       "      <th>Start year</th>\n",
       "      <th>Rating</th>\n",
       "      <th>Genre</th>\n",
       "      <th>Runtime (min)</th>\n",
       "      <th>Casting</th>\n",
       "      <th>Votes</th>\n",
       "      <th>Certificate</th>\n",
       "    </tr>\n",
       "  </thead>\n",
       "  <tbody>\n",
       "    <tr>\n",
       "      <th>0</th>\n",
       "      <td>Bluey</td>\n",
       "      <td>2018</td>\n",
       "      <td>9.5</td>\n",
       "      <td>['Animation', 'Family']</td>\n",
       "      <td>7 min</td>\n",
       "      <td>\\n            \\n    Stars:\\nDavid McCormack, \\...</td>\n",
       "      <td>16,393</td>\n",
       "      <td>TV-Y</td>\n",
       "    </tr>\n",
       "    <tr>\n",
       "      <th>1</th>\n",
       "      <td>Avatar: The Last Airbender</td>\n",
       "      <td>2005</td>\n",
       "      <td>9.3</td>\n",
       "      <td>['Animation', 'Action', 'Adventure']</td>\n",
       "      <td>23 min</td>\n",
       "      <td>\\n            \\n    Stars:\\nDee Bradley Baker,...</td>\n",
       "      <td>334,062</td>\n",
       "      <td>TV-Y7-FV</td>\n",
       "    </tr>\n",
       "    <tr>\n",
       "      <th>2</th>\n",
       "      <td>The Big Lez Show</td>\n",
       "      <td>2012</td>\n",
       "      <td>9.2</td>\n",
       "      <td>['Animation', 'Adventure', 'Comedy']</td>\n",
       "      <td>10 min</td>\n",
       "      <td>\\n            \\n    Stars:\\nJarrad Wright, \\nT...</td>\n",
       "      <td>1,906</td>\n",
       "      <td>TV-MA</td>\n",
       "    </tr>\n",
       "    <tr>\n",
       "      <th>3</th>\n",
       "      <td>Dragon Ball Z Abridged</td>\n",
       "      <td>2008</td>\n",
       "      <td>9.2</td>\n",
       "      <td>['Animation', 'Action', 'Comedy']</td>\n",
       "      <td>23 min</td>\n",
       "      <td>\\n            \\n    Stars:\\nLawrence Simpson, ...</td>\n",
       "      <td>1,250</td>\n",
       "      <td>TV-14</td>\n",
       "    </tr>\n",
       "    <tr>\n",
       "      <th>4</th>\n",
       "      <td>Rick and Morty</td>\n",
       "      <td>2013</td>\n",
       "      <td>9.1</td>\n",
       "      <td>['Animation', 'Adventure', 'Comedy']</td>\n",
       "      <td>24 min</td>\n",
       "      <td>\\n            \\n    Stars:\\nJustin Roiland, \\n...</td>\n",
       "      <td>555,228</td>\n",
       "      <td>TV-MA</td>\n",
       "    </tr>\n",
       "  </tbody>\n",
       "</table>\n",
       "</div>"
      ],
      "text/plain": [
       "                       Titles Start year  Rating  \\\n",
       "0                       Bluey       2018     9.5   \n",
       "1  Avatar: The Last Airbender       2005     9.3   \n",
       "2            The Big Lez Show       2012     9.2   \n",
       "3      Dragon Ball Z Abridged       2008     9.2   \n",
       "4              Rick and Morty       2013     9.1   \n",
       "\n",
       "                                  Genre Runtime (min)  \\\n",
       "0               ['Animation', 'Family']         7 min   \n",
       "1  ['Animation', 'Action', 'Adventure']        23 min   \n",
       "2  ['Animation', 'Adventure', 'Comedy']        10 min   \n",
       "3     ['Animation', 'Action', 'Comedy']        23 min   \n",
       "4  ['Animation', 'Adventure', 'Comedy']        24 min   \n",
       "\n",
       "                                             Casting    Votes Certificate  \n",
       "0  \\n            \\n    Stars:\\nDavid McCormack, \\...   16,393        TV-Y  \n",
       "1  \\n            \\n    Stars:\\nDee Bradley Baker,...  334,062    TV-Y7-FV  \n",
       "2  \\n            \\n    Stars:\\nJarrad Wright, \\nT...    1,906       TV-MA  \n",
       "3  \\n            \\n    Stars:\\nLawrence Simpson, ...    1,250       TV-14  \n",
       "4  \\n            \\n    Stars:\\nJustin Roiland, \\n...  555,228       TV-MA  "
      ]
     },
     "execution_count": 417,
     "metadata": {},
     "output_type": "execute_result"
    }
   ],
   "source": [
    "l=[]\n",
    "for i in df['Start year']:\n",
    "    a=str(i).strip('[]')\n",
    "    l.append(a)\n",
    "df['Start year']=l\n",
    "df['Start year']=df['Start year'].apply(lambda x:x.replace(\"'\",\"\"))\n",
    "df.head()\n",
    "#Removing the Square bracket of the records in \"Start year\" column."
   ]
  },
  {
   "cell_type": "code",
   "execution_count": 418,
   "id": "c714c7e5",
   "metadata": {},
   "outputs": [
    {
     "data": {
      "text/html": [
       "<div>\n",
       "<style scoped>\n",
       "    .dataframe tbody tr th:only-of-type {\n",
       "        vertical-align: middle;\n",
       "    }\n",
       "\n",
       "    .dataframe tbody tr th {\n",
       "        vertical-align: top;\n",
       "    }\n",
       "\n",
       "    .dataframe thead th {\n",
       "        text-align: right;\n",
       "    }\n",
       "</style>\n",
       "<table border=\"1\" class=\"dataframe\">\n",
       "  <thead>\n",
       "    <tr style=\"text-align: right;\">\n",
       "      <th></th>\n",
       "      <th>Titles</th>\n",
       "      <th>Start year</th>\n",
       "      <th>Rating</th>\n",
       "      <th>Genre</th>\n",
       "      <th>Runtime (min)</th>\n",
       "      <th>Casting</th>\n",
       "      <th>Votes</th>\n",
       "      <th>Certificate</th>\n",
       "    </tr>\n",
       "  </thead>\n",
       "  <tbody>\n",
       "    <tr>\n",
       "      <th>0</th>\n",
       "      <td>Bluey</td>\n",
       "      <td>2018</td>\n",
       "      <td>9.5</td>\n",
       "      <td>Animation, Family</td>\n",
       "      <td>7 min</td>\n",
       "      <td>\\n            \\n    Stars:\\nDavid McCormack, \\...</td>\n",
       "      <td>16,393</td>\n",
       "      <td>TV-Y</td>\n",
       "    </tr>\n",
       "    <tr>\n",
       "      <th>1</th>\n",
       "      <td>Avatar: The Last Airbender</td>\n",
       "      <td>2005</td>\n",
       "      <td>9.3</td>\n",
       "      <td>Animation, Action, Adventure</td>\n",
       "      <td>23 min</td>\n",
       "      <td>\\n            \\n    Stars:\\nDee Bradley Baker,...</td>\n",
       "      <td>334,062</td>\n",
       "      <td>TV-Y7-FV</td>\n",
       "    </tr>\n",
       "    <tr>\n",
       "      <th>2</th>\n",
       "      <td>The Big Lez Show</td>\n",
       "      <td>2012</td>\n",
       "      <td>9.2</td>\n",
       "      <td>Animation, Adventure, Comedy</td>\n",
       "      <td>10 min</td>\n",
       "      <td>\\n            \\n    Stars:\\nJarrad Wright, \\nT...</td>\n",
       "      <td>1,906</td>\n",
       "      <td>TV-MA</td>\n",
       "    </tr>\n",
       "    <tr>\n",
       "      <th>3</th>\n",
       "      <td>Dragon Ball Z Abridged</td>\n",
       "      <td>2008</td>\n",
       "      <td>9.2</td>\n",
       "      <td>Animation, Action, Comedy</td>\n",
       "      <td>23 min</td>\n",
       "      <td>\\n            \\n    Stars:\\nLawrence Simpson, ...</td>\n",
       "      <td>1,250</td>\n",
       "      <td>TV-14</td>\n",
       "    </tr>\n",
       "    <tr>\n",
       "      <th>4</th>\n",
       "      <td>Rick and Morty</td>\n",
       "      <td>2013</td>\n",
       "      <td>9.1</td>\n",
       "      <td>Animation, Adventure, Comedy</td>\n",
       "      <td>24 min</td>\n",
       "      <td>\\n            \\n    Stars:\\nJustin Roiland, \\n...</td>\n",
       "      <td>555,228</td>\n",
       "      <td>TV-MA</td>\n",
       "    </tr>\n",
       "  </tbody>\n",
       "</table>\n",
       "</div>"
      ],
      "text/plain": [
       "                       Titles Start year  Rating  \\\n",
       "0                       Bluey       2018     9.5   \n",
       "1  Avatar: The Last Airbender       2005     9.3   \n",
       "2            The Big Lez Show       2012     9.2   \n",
       "3      Dragon Ball Z Abridged       2008     9.2   \n",
       "4              Rick and Morty       2013     9.1   \n",
       "\n",
       "                          Genre Runtime (min)  \\\n",
       "0             Animation, Family         7 min   \n",
       "1  Animation, Action, Adventure        23 min   \n",
       "2  Animation, Adventure, Comedy        10 min   \n",
       "3     Animation, Action, Comedy        23 min   \n",
       "4  Animation, Adventure, Comedy        24 min   \n",
       "\n",
       "                                             Casting    Votes Certificate  \n",
       "0  \\n            \\n    Stars:\\nDavid McCormack, \\...   16,393        TV-Y  \n",
       "1  \\n            \\n    Stars:\\nDee Bradley Baker,...  334,062    TV-Y7-FV  \n",
       "2  \\n            \\n    Stars:\\nJarrad Wright, \\nT...    1,906       TV-MA  \n",
       "3  \\n            \\n    Stars:\\nLawrence Simpson, ...    1,250       TV-14  \n",
       "4  \\n            \\n    Stars:\\nJustin Roiland, \\n...  555,228       TV-MA  "
      ]
     },
     "execution_count": 418,
     "metadata": {},
     "output_type": "execute_result"
    }
   ],
   "source": [
    "l=[]\n",
    "for i in df['Genre']:\n",
    "    a=str(i).strip('[]')\n",
    "    l.append(a)\n",
    "df['Genre']=l\n",
    "df['Genre']=df['Genre'].apply(lambda x:x.replace(\"'\",\"\"))\n",
    "df.head()\n",
    "#Removing the Square bracket of the records in \"Genre\" column."
   ]
  },
  {
   "cell_type": "code",
   "execution_count": 419,
   "id": "5de38853",
   "metadata": {},
   "outputs": [
    {
     "data": {
      "text/html": [
       "<div>\n",
       "<style scoped>\n",
       "    .dataframe tbody tr th:only-of-type {\n",
       "        vertical-align: middle;\n",
       "    }\n",
       "\n",
       "    .dataframe tbody tr th {\n",
       "        vertical-align: top;\n",
       "    }\n",
       "\n",
       "    .dataframe thead th {\n",
       "        text-align: right;\n",
       "    }\n",
       "</style>\n",
       "<table border=\"1\" class=\"dataframe\">\n",
       "  <thead>\n",
       "    <tr style=\"text-align: right;\">\n",
       "      <th></th>\n",
       "      <th>Titles</th>\n",
       "      <th>Start year</th>\n",
       "      <th>Rating</th>\n",
       "      <th>Genre</th>\n",
       "      <th>Runtime (min)</th>\n",
       "      <th>Casting</th>\n",
       "      <th>Votes</th>\n",
       "      <th>Certificate</th>\n",
       "      <th>Genre1</th>\n",
       "      <th>Genre2</th>\n",
       "      <th>Genre3</th>\n",
       "    </tr>\n",
       "  </thead>\n",
       "  <tbody>\n",
       "    <tr>\n",
       "      <th>0</th>\n",
       "      <td>Bluey</td>\n",
       "      <td>2018</td>\n",
       "      <td>9.5</td>\n",
       "      <td>Animation, Family</td>\n",
       "      <td>7 min</td>\n",
       "      <td>\\n            \\n    Stars:\\nDavid McCormack, \\...</td>\n",
       "      <td>16,393</td>\n",
       "      <td>TV-Y</td>\n",
       "      <td>Animation</td>\n",
       "      <td>Family</td>\n",
       "      <td>Family</td>\n",
       "    </tr>\n",
       "    <tr>\n",
       "      <th>1</th>\n",
       "      <td>Avatar: The Last Airbender</td>\n",
       "      <td>2005</td>\n",
       "      <td>9.3</td>\n",
       "      <td>Animation, Action, Adventure</td>\n",
       "      <td>23 min</td>\n",
       "      <td>\\n            \\n    Stars:\\nDee Bradley Baker,...</td>\n",
       "      <td>334,062</td>\n",
       "      <td>TV-Y7-FV</td>\n",
       "      <td>Animation</td>\n",
       "      <td>Action</td>\n",
       "      <td>Adventure</td>\n",
       "    </tr>\n",
       "    <tr>\n",
       "      <th>2</th>\n",
       "      <td>The Big Lez Show</td>\n",
       "      <td>2012</td>\n",
       "      <td>9.2</td>\n",
       "      <td>Animation, Adventure, Comedy</td>\n",
       "      <td>10 min</td>\n",
       "      <td>\\n            \\n    Stars:\\nJarrad Wright, \\nT...</td>\n",
       "      <td>1,906</td>\n",
       "      <td>TV-MA</td>\n",
       "      <td>Animation</td>\n",
       "      <td>Adventure</td>\n",
       "      <td>Comedy</td>\n",
       "    </tr>\n",
       "    <tr>\n",
       "      <th>3</th>\n",
       "      <td>Dragon Ball Z Abridged</td>\n",
       "      <td>2008</td>\n",
       "      <td>9.2</td>\n",
       "      <td>Animation, Action, Comedy</td>\n",
       "      <td>23 min</td>\n",
       "      <td>\\n            \\n    Stars:\\nLawrence Simpson, ...</td>\n",
       "      <td>1,250</td>\n",
       "      <td>TV-14</td>\n",
       "      <td>Animation</td>\n",
       "      <td>Action</td>\n",
       "      <td>Comedy</td>\n",
       "    </tr>\n",
       "    <tr>\n",
       "      <th>4</th>\n",
       "      <td>Rick and Morty</td>\n",
       "      <td>2013</td>\n",
       "      <td>9.1</td>\n",
       "      <td>Animation, Adventure, Comedy</td>\n",
       "      <td>24 min</td>\n",
       "      <td>\\n            \\n    Stars:\\nJustin Roiland, \\n...</td>\n",
       "      <td>555,228</td>\n",
       "      <td>TV-MA</td>\n",
       "      <td>Animation</td>\n",
       "      <td>Adventure</td>\n",
       "      <td>Comedy</td>\n",
       "    </tr>\n",
       "  </tbody>\n",
       "</table>\n",
       "</div>"
      ],
      "text/plain": [
       "                       Titles Start year  Rating  \\\n",
       "0                       Bluey       2018     9.5   \n",
       "1  Avatar: The Last Airbender       2005     9.3   \n",
       "2            The Big Lez Show       2012     9.2   \n",
       "3      Dragon Ball Z Abridged       2008     9.2   \n",
       "4              Rick and Morty       2013     9.1   \n",
       "\n",
       "                          Genre Runtime (min)  \\\n",
       "0             Animation, Family         7 min   \n",
       "1  Animation, Action, Adventure        23 min   \n",
       "2  Animation, Adventure, Comedy        10 min   \n",
       "3     Animation, Action, Comedy        23 min   \n",
       "4  Animation, Adventure, Comedy        24 min   \n",
       "\n",
       "                                             Casting    Votes Certificate  \\\n",
       "0  \\n            \\n    Stars:\\nDavid McCormack, \\...   16,393        TV-Y   \n",
       "1  \\n            \\n    Stars:\\nDee Bradley Baker,...  334,062    TV-Y7-FV   \n",
       "2  \\n            \\n    Stars:\\nJarrad Wright, \\nT...    1,906       TV-MA   \n",
       "3  \\n            \\n    Stars:\\nLawrence Simpson, ...    1,250       TV-14   \n",
       "4  \\n            \\n    Stars:\\nJustin Roiland, \\n...  555,228       TV-MA   \n",
       "\n",
       "      Genre1      Genre2      Genre3  \n",
       "0  Animation      Family      Family  \n",
       "1  Animation      Action   Adventure  \n",
       "2  Animation   Adventure      Comedy  \n",
       "3  Animation      Action      Comedy  \n",
       "4  Animation   Adventure      Comedy  "
      ]
     },
     "execution_count": 419,
     "metadata": {},
     "output_type": "execute_result"
    }
   ],
   "source": [
    "temp=df.Genre.str.split(',',expand=True).iloc[:,0:3]\n",
    "temp.columns=['Genre1','Genre2','Genre3']\n",
    "temp.Genre3.fillna(temp.Genre2,inplace=True)\n",
    "df=pd.concat([df,temp],axis=1)\n",
    "df.head()\n",
    "#splitting the genre into 3 "
   ]
  },
  {
   "cell_type": "code",
   "execution_count": 420,
   "id": "f47d5fc2",
   "metadata": {},
   "outputs": [],
   "source": [
    "df.drop(columns=['Genre1','Genre'],inplace=True)\n",
    "#dropping genre1 and genre2"
   ]
  },
  {
   "cell_type": "code",
   "execution_count": 422,
   "id": "8396bf8b",
   "metadata": {},
   "outputs": [
    {
     "data": {
      "text/html": [
       "<div>\n",
       "<style scoped>\n",
       "    .dataframe tbody tr th:only-of-type {\n",
       "        vertical-align: middle;\n",
       "    }\n",
       "\n",
       "    .dataframe tbody tr th {\n",
       "        vertical-align: top;\n",
       "    }\n",
       "\n",
       "    .dataframe thead th {\n",
       "        text-align: right;\n",
       "    }\n",
       "</style>\n",
       "<table border=\"1\" class=\"dataframe\">\n",
       "  <thead>\n",
       "    <tr style=\"text-align: right;\">\n",
       "      <th></th>\n",
       "      <th>Titles</th>\n",
       "      <th>Start year</th>\n",
       "      <th>Rating</th>\n",
       "      <th>Runtime (min)</th>\n",
       "      <th>Casting</th>\n",
       "      <th>Votes</th>\n",
       "      <th>Certificate</th>\n",
       "      <th>Genre2</th>\n",
       "      <th>Genre3</th>\n",
       "    </tr>\n",
       "  </thead>\n",
       "  <tbody>\n",
       "    <tr>\n",
       "      <th>0</th>\n",
       "      <td>Bluey</td>\n",
       "      <td>2018</td>\n",
       "      <td>9.5</td>\n",
       "      <td>7 min</td>\n",
       "      <td>\\n            \\n    Stars:\\nDavid McCormack, \\...</td>\n",
       "      <td>16,393</td>\n",
       "      <td>TV-Y</td>\n",
       "      <td>Family</td>\n",
       "      <td>Family</td>\n",
       "    </tr>\n",
       "    <tr>\n",
       "      <th>1</th>\n",
       "      <td>Avatar: The Last Airbender</td>\n",
       "      <td>2005</td>\n",
       "      <td>9.3</td>\n",
       "      <td>23 min</td>\n",
       "      <td>\\n            \\n    Stars:\\nDee Bradley Baker,...</td>\n",
       "      <td>334,062</td>\n",
       "      <td>TV-Y7-FV</td>\n",
       "      <td>Action</td>\n",
       "      <td>Adventure</td>\n",
       "    </tr>\n",
       "    <tr>\n",
       "      <th>2</th>\n",
       "      <td>The Big Lez Show</td>\n",
       "      <td>2012</td>\n",
       "      <td>9.2</td>\n",
       "      <td>10 min</td>\n",
       "      <td>\\n            \\n    Stars:\\nJarrad Wright, \\nT...</td>\n",
       "      <td>1,906</td>\n",
       "      <td>TV-MA</td>\n",
       "      <td>Adventure</td>\n",
       "      <td>Comedy</td>\n",
       "    </tr>\n",
       "    <tr>\n",
       "      <th>3</th>\n",
       "      <td>Dragon Ball Z Abridged</td>\n",
       "      <td>2008</td>\n",
       "      <td>9.2</td>\n",
       "      <td>23 min</td>\n",
       "      <td>\\n            \\n    Stars:\\nLawrence Simpson, ...</td>\n",
       "      <td>1,250</td>\n",
       "      <td>TV-14</td>\n",
       "      <td>Action</td>\n",
       "      <td>Comedy</td>\n",
       "    </tr>\n",
       "    <tr>\n",
       "      <th>4</th>\n",
       "      <td>Rick and Morty</td>\n",
       "      <td>2013</td>\n",
       "      <td>9.1</td>\n",
       "      <td>24 min</td>\n",
       "      <td>\\n            \\n    Stars:\\nJustin Roiland, \\n...</td>\n",
       "      <td>555,228</td>\n",
       "      <td>TV-MA</td>\n",
       "      <td>Adventure</td>\n",
       "      <td>Comedy</td>\n",
       "    </tr>\n",
       "    <tr>\n",
       "      <th>...</th>\n",
       "      <td>...</td>\n",
       "      <td>...</td>\n",
       "      <td>...</td>\n",
       "      <td>...</td>\n",
       "      <td>...</td>\n",
       "      <td>...</td>\n",
       "      <td>...</td>\n",
       "      <td>...</td>\n",
       "      <td>...</td>\n",
       "    </tr>\n",
       "    <tr>\n",
       "      <th>495</th>\n",
       "      <td>Overlord</td>\n",
       "      <td>2015</td>\n",
       "      <td>7.7</td>\n",
       "      <td>30 min</td>\n",
       "      <td>\\n            \\n    Stars:\\nSatoshi Hino, \\nCh...</td>\n",
       "      <td>11,880</td>\n",
       "      <td>TV-MA</td>\n",
       "      <td>Action</td>\n",
       "      <td>Adventure</td>\n",
       "    </tr>\n",
       "    <tr>\n",
       "      <th>496</th>\n",
       "      <td>Calls</td>\n",
       "      <td>2021</td>\n",
       "      <td>7.7</td>\n",
       "      <td>12 min</td>\n",
       "      <td>\\n            \\n    Stars:\\nAubrey Plaza, \\nCl...</td>\n",
       "      <td>6,359</td>\n",
       "      <td>TV-MA</td>\n",
       "      <td>Drama</td>\n",
       "      <td>Horror</td>\n",
       "    </tr>\n",
       "    <tr>\n",
       "      <th>497</th>\n",
       "      <td>Sailor Moon</td>\n",
       "      <td>1992</td>\n",
       "      <td>7.7</td>\n",
       "      <td>30 min</td>\n",
       "      <td>\\n            \\n    Stars:\\nStephanie Sheh, \\n...</td>\n",
       "      <td>6,937</td>\n",
       "      <td>TV-PG</td>\n",
       "      <td>Action</td>\n",
       "      <td>Adventure</td>\n",
       "    </tr>\n",
       "    <tr>\n",
       "      <th>498</th>\n",
       "      <td>Rapunzel's Tangled Adventure</td>\n",
       "      <td>2017</td>\n",
       "      <td>7.7</td>\n",
       "      <td>21 min</td>\n",
       "      <td>\\n            \\n    Stars:\\nMandy Moore, \\nZac...</td>\n",
       "      <td>3,100</td>\n",
       "      <td>TV-Y7</td>\n",
       "      <td>Action</td>\n",
       "      <td>Adventure</td>\n",
       "    </tr>\n",
       "    <tr>\n",
       "      <th>499</th>\n",
       "      <td>RWBY</td>\n",
       "      <td>2012</td>\n",
       "      <td>7.7</td>\n",
       "      <td>13 min</td>\n",
       "      <td>\\n            \\n    Stars:\\nLindsay Jones, \\nK...</td>\n",
       "      <td>7,327</td>\n",
       "      <td>TV-PG</td>\n",
       "      <td>Action</td>\n",
       "      <td>Adventure</td>\n",
       "    </tr>\n",
       "  </tbody>\n",
       "</table>\n",
       "<p>500 rows × 9 columns</p>\n",
       "</div>"
      ],
      "text/plain": [
       "                           Titles Start year  Rating Runtime (min)  \\\n",
       "0                           Bluey       2018     9.5         7 min   \n",
       "1      Avatar: The Last Airbender       2005     9.3        23 min   \n",
       "2                The Big Lez Show       2012     9.2        10 min   \n",
       "3          Dragon Ball Z Abridged       2008     9.2        23 min   \n",
       "4                  Rick and Morty       2013     9.1        24 min   \n",
       "..                            ...        ...     ...           ...   \n",
       "495                      Overlord       2015     7.7        30 min   \n",
       "496                         Calls       2021     7.7        12 min   \n",
       "497                   Sailor Moon       1992     7.7        30 min   \n",
       "498  Rapunzel's Tangled Adventure       2017     7.7        21 min   \n",
       "499                          RWBY       2012     7.7        13 min   \n",
       "\n",
       "                                               Casting    Votes Certificate  \\\n",
       "0    \\n            \\n    Stars:\\nDavid McCormack, \\...   16,393        TV-Y   \n",
       "1    \\n            \\n    Stars:\\nDee Bradley Baker,...  334,062    TV-Y7-FV   \n",
       "2    \\n            \\n    Stars:\\nJarrad Wright, \\nT...    1,906       TV-MA   \n",
       "3    \\n            \\n    Stars:\\nLawrence Simpson, ...    1,250       TV-14   \n",
       "4    \\n            \\n    Stars:\\nJustin Roiland, \\n...  555,228       TV-MA   \n",
       "..                                                 ...      ...         ...   \n",
       "495  \\n            \\n    Stars:\\nSatoshi Hino, \\nCh...   11,880       TV-MA   \n",
       "496  \\n            \\n    Stars:\\nAubrey Plaza, \\nCl...    6,359       TV-MA   \n",
       "497  \\n            \\n    Stars:\\nStephanie Sheh, \\n...    6,937       TV-PG   \n",
       "498  \\n            \\n    Stars:\\nMandy Moore, \\nZac...    3,100       TV-Y7   \n",
       "499  \\n            \\n    Stars:\\nLindsay Jones, \\nK...    7,327       TV-PG   \n",
       "\n",
       "         Genre2      Genre3  \n",
       "0        Family      Family  \n",
       "1        Action   Adventure  \n",
       "2     Adventure      Comedy  \n",
       "3        Action      Comedy  \n",
       "4     Adventure      Comedy  \n",
       "..          ...         ...  \n",
       "495      Action   Adventure  \n",
       "496       Drama      Horror  \n",
       "497      Action   Adventure  \n",
       "498      Action   Adventure  \n",
       "499      Action   Adventure  \n",
       "\n",
       "[500 rows x 9 columns]"
      ]
     },
     "execution_count": 422,
     "metadata": {},
     "output_type": "execute_result"
    }
   ],
   "source": [
    "df"
   ]
  },
  {
   "cell_type": "code",
   "execution_count": 423,
   "id": "186ee8d9",
   "metadata": {},
   "outputs": [
    {
     "data": {
      "text/html": [
       "<div>\n",
       "<style scoped>\n",
       "    .dataframe tbody tr th:only-of-type {\n",
       "        vertical-align: middle;\n",
       "    }\n",
       "\n",
       "    .dataframe tbody tr th {\n",
       "        vertical-align: top;\n",
       "    }\n",
       "\n",
       "    .dataframe thead th {\n",
       "        text-align: right;\n",
       "    }\n",
       "</style>\n",
       "<table border=\"1\" class=\"dataframe\">\n",
       "  <thead>\n",
       "    <tr style=\"text-align: right;\">\n",
       "      <th></th>\n",
       "      <th>Titles</th>\n",
       "      <th>Start year</th>\n",
       "      <th>Rating</th>\n",
       "      <th>Runtime (min)</th>\n",
       "      <th>Casting</th>\n",
       "      <th>Votes</th>\n",
       "      <th>Certificate</th>\n",
       "      <th>Genre2</th>\n",
       "      <th>Genre3</th>\n",
       "    </tr>\n",
       "  </thead>\n",
       "  <tbody>\n",
       "    <tr>\n",
       "      <th>0</th>\n",
       "      <td>Bluey</td>\n",
       "      <td>2018</td>\n",
       "      <td>9.5</td>\n",
       "      <td>7</td>\n",
       "      <td>\\n            \\n    Stars:\\nDavid McCormack, \\...</td>\n",
       "      <td>16,393</td>\n",
       "      <td>TV-Y</td>\n",
       "      <td>Family</td>\n",
       "      <td>Family</td>\n",
       "    </tr>\n",
       "    <tr>\n",
       "      <th>1</th>\n",
       "      <td>Avatar: The Last Airbender</td>\n",
       "      <td>2005</td>\n",
       "      <td>9.3</td>\n",
       "      <td>23</td>\n",
       "      <td>\\n            \\n    Stars:\\nDee Bradley Baker,...</td>\n",
       "      <td>334,062</td>\n",
       "      <td>TV-Y7-FV</td>\n",
       "      <td>Action</td>\n",
       "      <td>Adventure</td>\n",
       "    </tr>\n",
       "    <tr>\n",
       "      <th>2</th>\n",
       "      <td>The Big Lez Show</td>\n",
       "      <td>2012</td>\n",
       "      <td>9.2</td>\n",
       "      <td>10</td>\n",
       "      <td>\\n            \\n    Stars:\\nJarrad Wright, \\nT...</td>\n",
       "      <td>1,906</td>\n",
       "      <td>TV-MA</td>\n",
       "      <td>Adventure</td>\n",
       "      <td>Comedy</td>\n",
       "    </tr>\n",
       "    <tr>\n",
       "      <th>3</th>\n",
       "      <td>Dragon Ball Z Abridged</td>\n",
       "      <td>2008</td>\n",
       "      <td>9.2</td>\n",
       "      <td>23</td>\n",
       "      <td>\\n            \\n    Stars:\\nLawrence Simpson, ...</td>\n",
       "      <td>1,250</td>\n",
       "      <td>TV-14</td>\n",
       "      <td>Action</td>\n",
       "      <td>Comedy</td>\n",
       "    </tr>\n",
       "    <tr>\n",
       "      <th>4</th>\n",
       "      <td>Rick and Morty</td>\n",
       "      <td>2013</td>\n",
       "      <td>9.1</td>\n",
       "      <td>24</td>\n",
       "      <td>\\n            \\n    Stars:\\nJustin Roiland, \\n...</td>\n",
       "      <td>555,228</td>\n",
       "      <td>TV-MA</td>\n",
       "      <td>Adventure</td>\n",
       "      <td>Comedy</td>\n",
       "    </tr>\n",
       "  </tbody>\n",
       "</table>\n",
       "</div>"
      ],
      "text/plain": [
       "                       Titles Start year  Rating Runtime (min)  \\\n",
       "0                       Bluey       2018     9.5            7    \n",
       "1  Avatar: The Last Airbender       2005     9.3           23    \n",
       "2            The Big Lez Show       2012     9.2           10    \n",
       "3      Dragon Ball Z Abridged       2008     9.2           23    \n",
       "4              Rick and Morty       2013     9.1           24    \n",
       "\n",
       "                                             Casting    Votes Certificate  \\\n",
       "0  \\n            \\n    Stars:\\nDavid McCormack, \\...   16,393        TV-Y   \n",
       "1  \\n            \\n    Stars:\\nDee Bradley Baker,...  334,062    TV-Y7-FV   \n",
       "2  \\n            \\n    Stars:\\nJarrad Wright, \\nT...    1,906       TV-MA   \n",
       "3  \\n            \\n    Stars:\\nLawrence Simpson, ...    1,250       TV-14   \n",
       "4  \\n            \\n    Stars:\\nJustin Roiland, \\n...  555,228       TV-MA   \n",
       "\n",
       "       Genre2      Genre3  \n",
       "0      Family      Family  \n",
       "1      Action   Adventure  \n",
       "2   Adventure      Comedy  \n",
       "3      Action      Comedy  \n",
       "4   Adventure      Comedy  "
      ]
     },
     "execution_count": 423,
     "metadata": {},
     "output_type": "execute_result"
    }
   ],
   "source": [
    "df['Runtime (min)']=df['Runtime (min)'].str.replace('min','')\n",
    "df.head()\n",
    "#Removing \"min\" from the records of column Runtime(min)."
   ]
  },
  {
   "cell_type": "code",
   "execution_count": 424,
   "id": "38f89eaa",
   "metadata": {},
   "outputs": [
    {
     "data": {
      "text/html": [
       "<div>\n",
       "<style scoped>\n",
       "    .dataframe tbody tr th:only-of-type {\n",
       "        vertical-align: middle;\n",
       "    }\n",
       "\n",
       "    .dataframe tbody tr th {\n",
       "        vertical-align: top;\n",
       "    }\n",
       "\n",
       "    .dataframe thead th {\n",
       "        text-align: right;\n",
       "    }\n",
       "</style>\n",
       "<table border=\"1\" class=\"dataframe\">\n",
       "  <thead>\n",
       "    <tr style=\"text-align: right;\">\n",
       "      <th></th>\n",
       "      <th>Titles</th>\n",
       "      <th>Start year</th>\n",
       "      <th>Rating</th>\n",
       "      <th>Runtime (min)</th>\n",
       "      <th>Casting</th>\n",
       "      <th>Votes</th>\n",
       "      <th>Certificate</th>\n",
       "      <th>Genre2</th>\n",
       "      <th>Genre3</th>\n",
       "    </tr>\n",
       "  </thead>\n",
       "  <tbody>\n",
       "    <tr>\n",
       "      <th>0</th>\n",
       "      <td>Bluey</td>\n",
       "      <td>2018</td>\n",
       "      <td>9.5</td>\n",
       "      <td>7</td>\n",
       "      <td>David McCormack, Melanie Zanet...</td>\n",
       "      <td>16,393</td>\n",
       "      <td>TV-Y</td>\n",
       "      <td>Family</td>\n",
       "      <td>Family</td>\n",
       "    </tr>\n",
       "    <tr>\n",
       "      <th>1</th>\n",
       "      <td>Avatar: The Last Airbender</td>\n",
       "      <td>2005</td>\n",
       "      <td>9.3</td>\n",
       "      <td>23</td>\n",
       "      <td>Dee Bradley Baker, Zach Tyler ...</td>\n",
       "      <td>334,062</td>\n",
       "      <td>TV-Y7-FV</td>\n",
       "      <td>Action</td>\n",
       "      <td>Adventure</td>\n",
       "    </tr>\n",
       "    <tr>\n",
       "      <th>2</th>\n",
       "      <td>The Big Lez Show</td>\n",
       "      <td>2012</td>\n",
       "      <td>9.2</td>\n",
       "      <td>10</td>\n",
       "      <td>Jarrad Wright, Tom Hollis, Cod...</td>\n",
       "      <td>1,906</td>\n",
       "      <td>TV-MA</td>\n",
       "      <td>Adventure</td>\n",
       "      <td>Comedy</td>\n",
       "    </tr>\n",
       "    <tr>\n",
       "      <th>3</th>\n",
       "      <td>Dragon Ball Z Abridged</td>\n",
       "      <td>2008</td>\n",
       "      <td>9.2</td>\n",
       "      <td>23</td>\n",
       "      <td>Lawrence Simpson, Nick Landis,...</td>\n",
       "      <td>1,250</td>\n",
       "      <td>TV-14</td>\n",
       "      <td>Action</td>\n",
       "      <td>Comedy</td>\n",
       "    </tr>\n",
       "    <tr>\n",
       "      <th>4</th>\n",
       "      <td>Rick and Morty</td>\n",
       "      <td>2013</td>\n",
       "      <td>9.1</td>\n",
       "      <td>24</td>\n",
       "      <td>Justin Roiland, Chris Parnell,...</td>\n",
       "      <td>555,228</td>\n",
       "      <td>TV-MA</td>\n",
       "      <td>Adventure</td>\n",
       "      <td>Comedy</td>\n",
       "    </tr>\n",
       "  </tbody>\n",
       "</table>\n",
       "</div>"
      ],
      "text/plain": [
       "                       Titles Start year  Rating Runtime (min)  \\\n",
       "0                       Bluey       2018     9.5            7    \n",
       "1  Avatar: The Last Airbender       2005     9.3           23    \n",
       "2            The Big Lez Show       2012     9.2           10    \n",
       "3      Dragon Ball Z Abridged       2008     9.2           23    \n",
       "4              Rick and Morty       2013     9.1           24    \n",
       "\n",
       "                                             Casting    Votes Certificate  \\\n",
       "0                  David McCormack, Melanie Zanet...   16,393        TV-Y   \n",
       "1                  Dee Bradley Baker, Zach Tyler ...  334,062    TV-Y7-FV   \n",
       "2                  Jarrad Wright, Tom Hollis, Cod...    1,906       TV-MA   \n",
       "3                  Lawrence Simpson, Nick Landis,...    1,250       TV-14   \n",
       "4                  Justin Roiland, Chris Parnell,...  555,228       TV-MA   \n",
       "\n",
       "       Genre2      Genre3  \n",
       "0      Family      Family  \n",
       "1      Action   Adventure  \n",
       "2   Adventure      Comedy  \n",
       "3      Action      Comedy  \n",
       "4   Adventure      Comedy  "
      ]
     },
     "execution_count": 424,
     "metadata": {},
     "output_type": "execute_result"
    }
   ],
   "source": [
    "df['Casting']=df['Casting'].str.replace('\\n','')\n",
    "df['Casting']=df['Casting'].str.replace('Stars:','')\n",
    "df.head()\n",
    "#Replacing the \"\\n\" with empty string for clean data in column \"Casting\"."
   ]
  },
  {
   "cell_type": "code",
   "execution_count": 425,
   "id": "2395a183",
   "metadata": {},
   "outputs": [
    {
     "data": {
      "text/html": [
       "<div>\n",
       "<style scoped>\n",
       "    .dataframe tbody tr th:only-of-type {\n",
       "        vertical-align: middle;\n",
       "    }\n",
       "\n",
       "    .dataframe tbody tr th {\n",
       "        vertical-align: top;\n",
       "    }\n",
       "\n",
       "    .dataframe thead th {\n",
       "        text-align: right;\n",
       "    }\n",
       "</style>\n",
       "<table border=\"1\" class=\"dataframe\">\n",
       "  <thead>\n",
       "    <tr style=\"text-align: right;\">\n",
       "      <th></th>\n",
       "      <th>Titles</th>\n",
       "      <th>Start year</th>\n",
       "      <th>Rating</th>\n",
       "      <th>Runtime (min)</th>\n",
       "      <th>Casting</th>\n",
       "      <th>Votes</th>\n",
       "      <th>Certificate</th>\n",
       "      <th>Genre2</th>\n",
       "      <th>Genre3</th>\n",
       "    </tr>\n",
       "  </thead>\n",
       "  <tbody>\n",
       "    <tr>\n",
       "      <th>0</th>\n",
       "      <td>Bluey</td>\n",
       "      <td>2018</td>\n",
       "      <td>9.5</td>\n",
       "      <td>7</td>\n",
       "      <td>David McCormack, Melanie Zanet...</td>\n",
       "      <td>16393</td>\n",
       "      <td>TV-Y</td>\n",
       "      <td>Family</td>\n",
       "      <td>Family</td>\n",
       "    </tr>\n",
       "    <tr>\n",
       "      <th>1</th>\n",
       "      <td>Avatar: The Last Airbender</td>\n",
       "      <td>2005</td>\n",
       "      <td>9.3</td>\n",
       "      <td>23</td>\n",
       "      <td>Dee Bradley Baker, Zach Tyler ...</td>\n",
       "      <td>334062</td>\n",
       "      <td>TV-Y7-FV</td>\n",
       "      <td>Action</td>\n",
       "      <td>Adventure</td>\n",
       "    </tr>\n",
       "    <tr>\n",
       "      <th>2</th>\n",
       "      <td>The Big Lez Show</td>\n",
       "      <td>2012</td>\n",
       "      <td>9.2</td>\n",
       "      <td>10</td>\n",
       "      <td>Jarrad Wright, Tom Hollis, Cod...</td>\n",
       "      <td>1906</td>\n",
       "      <td>TV-MA</td>\n",
       "      <td>Adventure</td>\n",
       "      <td>Comedy</td>\n",
       "    </tr>\n",
       "    <tr>\n",
       "      <th>3</th>\n",
       "      <td>Dragon Ball Z Abridged</td>\n",
       "      <td>2008</td>\n",
       "      <td>9.2</td>\n",
       "      <td>23</td>\n",
       "      <td>Lawrence Simpson, Nick Landis,...</td>\n",
       "      <td>1250</td>\n",
       "      <td>TV-14</td>\n",
       "      <td>Action</td>\n",
       "      <td>Comedy</td>\n",
       "    </tr>\n",
       "    <tr>\n",
       "      <th>4</th>\n",
       "      <td>Rick and Morty</td>\n",
       "      <td>2013</td>\n",
       "      <td>9.1</td>\n",
       "      <td>24</td>\n",
       "      <td>Justin Roiland, Chris Parnell,...</td>\n",
       "      <td>555228</td>\n",
       "      <td>TV-MA</td>\n",
       "      <td>Adventure</td>\n",
       "      <td>Comedy</td>\n",
       "    </tr>\n",
       "  </tbody>\n",
       "</table>\n",
       "</div>"
      ],
      "text/plain": [
       "                       Titles Start year  Rating Runtime (min)  \\\n",
       "0                       Bluey       2018     9.5            7    \n",
       "1  Avatar: The Last Airbender       2005     9.3           23    \n",
       "2            The Big Lez Show       2012     9.2           10    \n",
       "3      Dragon Ball Z Abridged       2008     9.2           23    \n",
       "4              Rick and Morty       2013     9.1           24    \n",
       "\n",
       "                                             Casting   Votes Certificate  \\\n",
       "0                  David McCormack, Melanie Zanet...   16393        TV-Y   \n",
       "1                  Dee Bradley Baker, Zach Tyler ...  334062    TV-Y7-FV   \n",
       "2                  Jarrad Wright, Tom Hollis, Cod...    1906       TV-MA   \n",
       "3                  Lawrence Simpson, Nick Landis,...    1250       TV-14   \n",
       "4                  Justin Roiland, Chris Parnell,...  555228       TV-MA   \n",
       "\n",
       "       Genre2      Genre3  \n",
       "0      Family      Family  \n",
       "1      Action   Adventure  \n",
       "2   Adventure      Comedy  \n",
       "3      Action      Comedy  \n",
       "4   Adventure      Comedy  "
      ]
     },
     "execution_count": 425,
     "metadata": {},
     "output_type": "execute_result"
    }
   ],
   "source": [
    "df['Votes']=df['Votes'].str.replace(',','')\n",
    "df.head()\n",
    "#Removing the \",\" from the records of column \"Votes\"."
   ]
  },
  {
   "cell_type": "code",
   "execution_count": 426,
   "id": "dae385ce",
   "metadata": {},
   "outputs": [
    {
     "data": {
      "text/html": [
       "<div>\n",
       "<style scoped>\n",
       "    .dataframe tbody tr th:only-of-type {\n",
       "        vertical-align: middle;\n",
       "    }\n",
       "\n",
       "    .dataframe tbody tr th {\n",
       "        vertical-align: top;\n",
       "    }\n",
       "\n",
       "    .dataframe thead th {\n",
       "        text-align: right;\n",
       "    }\n",
       "</style>\n",
       "<table border=\"1\" class=\"dataframe\">\n",
       "  <thead>\n",
       "    <tr style=\"text-align: right;\">\n",
       "      <th></th>\n",
       "      <th>Titles</th>\n",
       "      <th>Start year</th>\n",
       "      <th>Rating</th>\n",
       "      <th>Runtime (min)</th>\n",
       "      <th>Casting</th>\n",
       "      <th>Votes</th>\n",
       "      <th>Certificate</th>\n",
       "      <th>Genre1</th>\n",
       "      <th>Genre2</th>\n",
       "    </tr>\n",
       "  </thead>\n",
       "  <tbody>\n",
       "    <tr>\n",
       "      <th>0</th>\n",
       "      <td>Bluey</td>\n",
       "      <td>2018</td>\n",
       "      <td>9.5</td>\n",
       "      <td>7</td>\n",
       "      <td>David McCormack, Melanie Zanet...</td>\n",
       "      <td>16393</td>\n",
       "      <td>TV-Y</td>\n",
       "      <td>Family</td>\n",
       "      <td>Family</td>\n",
       "    </tr>\n",
       "    <tr>\n",
       "      <th>1</th>\n",
       "      <td>Avatar: The Last Airbender</td>\n",
       "      <td>2005</td>\n",
       "      <td>9.3</td>\n",
       "      <td>23</td>\n",
       "      <td>Dee Bradley Baker, Zach Tyler ...</td>\n",
       "      <td>334062</td>\n",
       "      <td>TV-Y7-FV</td>\n",
       "      <td>Action</td>\n",
       "      <td>Adventure</td>\n",
       "    </tr>\n",
       "    <tr>\n",
       "      <th>2</th>\n",
       "      <td>The Big Lez Show</td>\n",
       "      <td>2012</td>\n",
       "      <td>9.2</td>\n",
       "      <td>10</td>\n",
       "      <td>Jarrad Wright, Tom Hollis, Cod...</td>\n",
       "      <td>1906</td>\n",
       "      <td>TV-MA</td>\n",
       "      <td>Adventure</td>\n",
       "      <td>Comedy</td>\n",
       "    </tr>\n",
       "    <tr>\n",
       "      <th>3</th>\n",
       "      <td>Dragon Ball Z Abridged</td>\n",
       "      <td>2008</td>\n",
       "      <td>9.2</td>\n",
       "      <td>23</td>\n",
       "      <td>Lawrence Simpson, Nick Landis,...</td>\n",
       "      <td>1250</td>\n",
       "      <td>TV-14</td>\n",
       "      <td>Action</td>\n",
       "      <td>Comedy</td>\n",
       "    </tr>\n",
       "    <tr>\n",
       "      <th>4</th>\n",
       "      <td>Rick and Morty</td>\n",
       "      <td>2013</td>\n",
       "      <td>9.1</td>\n",
       "      <td>24</td>\n",
       "      <td>Justin Roiland, Chris Parnell,...</td>\n",
       "      <td>555228</td>\n",
       "      <td>TV-MA</td>\n",
       "      <td>Adventure</td>\n",
       "      <td>Comedy</td>\n",
       "    </tr>\n",
       "  </tbody>\n",
       "</table>\n",
       "</div>"
      ],
      "text/plain": [
       "                       Titles Start year  Rating Runtime (min)  \\\n",
       "0                       Bluey       2018     9.5            7    \n",
       "1  Avatar: The Last Airbender       2005     9.3           23    \n",
       "2            The Big Lez Show       2012     9.2           10    \n",
       "3      Dragon Ball Z Abridged       2008     9.2           23    \n",
       "4              Rick and Morty       2013     9.1           24    \n",
       "\n",
       "                                             Casting   Votes Certificate  \\\n",
       "0                  David McCormack, Melanie Zanet...   16393        TV-Y   \n",
       "1                  Dee Bradley Baker, Zach Tyler ...  334062    TV-Y7-FV   \n",
       "2                  Jarrad Wright, Tom Hollis, Cod...    1906       TV-MA   \n",
       "3                  Lawrence Simpson, Nick Landis,...    1250       TV-14   \n",
       "4                  Justin Roiland, Chris Parnell,...  555228       TV-MA   \n",
       "\n",
       "       Genre1      Genre2  \n",
       "0      Family      Family  \n",
       "1      Action   Adventure  \n",
       "2   Adventure      Comedy  \n",
       "3      Action      Comedy  \n",
       "4   Adventure      Comedy  "
      ]
     },
     "execution_count": 426,
     "metadata": {},
     "output_type": "execute_result"
    }
   ],
   "source": [
    "df.rename(columns = {'Genre2':'Genre1','Genre3':'Genre2'}, inplace = True)\n",
    "df.head()\n",
    "#Renaming the columns of Genre"
   ]
  },
  {
   "cell_type": "code",
   "execution_count": 427,
   "id": "4887649d",
   "metadata": {},
   "outputs": [
    {
     "data": {
      "text/html": [
       "<div>\n",
       "<style scoped>\n",
       "    .dataframe tbody tr th:only-of-type {\n",
       "        vertical-align: middle;\n",
       "    }\n",
       "\n",
       "    .dataframe tbody tr th {\n",
       "        vertical-align: top;\n",
       "    }\n",
       "\n",
       "    .dataframe thead th {\n",
       "        text-align: right;\n",
       "    }\n",
       "</style>\n",
       "<table border=\"1\" class=\"dataframe\">\n",
       "  <thead>\n",
       "    <tr style=\"text-align: right;\">\n",
       "      <th></th>\n",
       "      <th>Titles</th>\n",
       "      <th>Start year</th>\n",
       "      <th>Rating</th>\n",
       "      <th>Runtime (min)</th>\n",
       "      <th>Casting</th>\n",
       "      <th>Votes</th>\n",
       "      <th>Certificate</th>\n",
       "      <th>Genre1</th>\n",
       "      <th>Genre2</th>\n",
       "    </tr>\n",
       "  </thead>\n",
       "  <tbody>\n",
       "    <tr>\n",
       "      <th>0</th>\n",
       "      <td>Bluey</td>\n",
       "      <td>2018</td>\n",
       "      <td>9.5</td>\n",
       "      <td>7</td>\n",
       "      <td>David McCormack, Melanie Zanet...</td>\n",
       "      <td>16393</td>\n",
       "      <td>TV-Y</td>\n",
       "      <td>Family</td>\n",
       "      <td>Family</td>\n",
       "    </tr>\n",
       "    <tr>\n",
       "      <th>1</th>\n",
       "      <td>Avatar: The Last Airbender</td>\n",
       "      <td>2005</td>\n",
       "      <td>9.3</td>\n",
       "      <td>23</td>\n",
       "      <td>Dee Bradley Baker, Zach Tyler ...</td>\n",
       "      <td>334062</td>\n",
       "      <td>TV-Y7-FV</td>\n",
       "      <td>Action</td>\n",
       "      <td>Adventure</td>\n",
       "    </tr>\n",
       "    <tr>\n",
       "      <th>2</th>\n",
       "      <td>The Big Lez Show</td>\n",
       "      <td>2012</td>\n",
       "      <td>9.2</td>\n",
       "      <td>10</td>\n",
       "      <td>Jarrad Wright, Tom Hollis, Cod...</td>\n",
       "      <td>1906</td>\n",
       "      <td>TV-MA</td>\n",
       "      <td>Adventure</td>\n",
       "      <td>Comedy</td>\n",
       "    </tr>\n",
       "    <tr>\n",
       "      <th>3</th>\n",
       "      <td>Dragon Ball Z Abridged</td>\n",
       "      <td>2008</td>\n",
       "      <td>9.2</td>\n",
       "      <td>23</td>\n",
       "      <td>Lawrence Simpson, Nick Landis,...</td>\n",
       "      <td>1250</td>\n",
       "      <td>TV-14</td>\n",
       "      <td>Action</td>\n",
       "      <td>Comedy</td>\n",
       "    </tr>\n",
       "    <tr>\n",
       "      <th>4</th>\n",
       "      <td>Rick and Morty</td>\n",
       "      <td>2013</td>\n",
       "      <td>9.1</td>\n",
       "      <td>24</td>\n",
       "      <td>Justin Roiland, Chris Parnell,...</td>\n",
       "      <td>555228</td>\n",
       "      <td>TV-MA</td>\n",
       "      <td>Adventure</td>\n",
       "      <td>Comedy</td>\n",
       "    </tr>\n",
       "  </tbody>\n",
       "</table>\n",
       "</div>"
      ],
      "text/plain": [
       "                       Titles Start year  Rating Runtime (min)  \\\n",
       "0                       Bluey       2018     9.5            7    \n",
       "1  Avatar: The Last Airbender       2005     9.3           23    \n",
       "2            The Big Lez Show       2012     9.2           10    \n",
       "3      Dragon Ball Z Abridged       2008     9.2           23    \n",
       "4              Rick and Morty       2013     9.1           24    \n",
       "\n",
       "                                             Casting   Votes Certificate  \\\n",
       "0                  David McCormack, Melanie Zanet...   16393        TV-Y   \n",
       "1                  Dee Bradley Baker, Zach Tyler ...  334062    TV-Y7-FV   \n",
       "2                  Jarrad Wright, Tom Hollis, Cod...    1906       TV-MA   \n",
       "3                  Lawrence Simpson, Nick Landis,...    1250       TV-14   \n",
       "4                  Justin Roiland, Chris Parnell,...  555228       TV-MA   \n",
       "\n",
       "       Genre1      Genre2  \n",
       "0      Family      Family  \n",
       "1      Action   Adventure  \n",
       "2   Adventure      Comedy  \n",
       "3      Action      Comedy  \n",
       "4   Adventure      Comedy  "
      ]
     },
     "execution_count": 427,
     "metadata": {},
     "output_type": "execute_result"
    }
   ],
   "source": [
    "df.to_csv('Cleaned_data.csv')\n",
    "df.head()\n",
    "#Converted this DataFrame into an csv file."
   ]
  },
  {
   "cell_type": "code",
   "execution_count": 428,
   "id": "e5da3f27",
   "metadata": {},
   "outputs": [
    {
     "data": {
      "text/plain": [
       "Index(['Titles', 'Start year', 'Rating', 'Runtime (min)', 'Casting', 'Votes',\n",
       "       'Certificate', 'Genre1', 'Genre2'],\n",
       "      dtype='object')"
      ]
     },
     "execution_count": 428,
     "metadata": {},
     "output_type": "execute_result"
    }
   ],
   "source": [
    "df.columns\n",
    "#inspecting columns."
   ]
  },
  {
   "cell_type": "code",
   "execution_count": 176,
   "id": "444b310d",
   "metadata": {},
   "outputs": [
    {
     "name": "stdout",
     "output_type": "stream",
     "text": [
      "<class 'pandas.core.frame.DataFrame'>\n",
      "RangeIndex: 400 entries, 0 to 399\n",
      "Data columns (total 9 columns):\n",
      " #   Column         Non-Null Count  Dtype  \n",
      "---  ------         --------------  -----  \n",
      " 0   Titles         400 non-null    object \n",
      " 1   Start year     400 non-null    int32  \n",
      " 2   Rating         392 non-null    float64\n",
      " 3   Runtime (min)  376 non-null    float64\n",
      " 4   Casting        400 non-null    object \n",
      " 5   Votes          400 non-null    int32  \n",
      " 6   Certificate    392 non-null    object \n",
      " 7   Genre1         400 non-null    object \n",
      " 8   Genre2         400 non-null    object \n",
      "dtypes: float64(2), int32(2), object(5)\n",
      "memory usage: 25.1+ KB\n"
     ]
    }
   ],
   "source": [
    "df.info()\n",
    "#information of dataframe."
   ]
  },
  {
   "cell_type": "code",
   "execution_count": 169,
   "id": "b1889730",
   "metadata": {},
   "outputs": [],
   "source": [
    "df['Start year'] = df['Start year'].astype('int')"
   ]
  },
  {
   "cell_type": "code",
   "execution_count": 170,
   "id": "00d0f3fe",
   "metadata": {},
   "outputs": [],
   "source": [
    "df['Rating'] = df['Rating'].fillna(0).astype('float')\n",
    "\n",
    "df['Rating'] = df['Rating'].replace(0,df['Rating'].mode()[0])"
   ]
  },
  {
   "cell_type": "code",
   "execution_count": 171,
   "id": "3a7418e4",
   "metadata": {},
   "outputs": [],
   "source": [
    "df['Runtime (min)'] = df['Runtime (min)'].fillna(0).astype(int)\n",
    "\n",
    "df['Runtime (min)'] = df['Runtime (min)'].replace(0,df['Runtime (min)'].mode()[0])"
   ]
  },
  {
   "cell_type": "code",
   "execution_count": 172,
   "id": "91457b4c",
   "metadata": {},
   "outputs": [],
   "source": [
    "df['Votes'] = df['Votes'].fillna(0).astype(int)\n",
    "\n",
    "df['Votes'] = df['Votes'].replace(0, df['Votes'].mode()[0]).astype(int)"
   ]
  },
  {
   "cell_type": "code",
   "execution_count": 173,
   "id": "57d1cfea",
   "metadata": {},
   "outputs": [],
   "source": [
    "df['Certificate'] = df['Certificate'].fillna(df['Certificate'].mode()[0])"
   ]
  },
  {
   "cell_type": "code",
   "execution_count": 174,
   "id": "29343f5a",
   "metadata": {},
   "outputs": [
    {
     "data": {
      "text/plain": [
       "Titles           0\n",
       "Start year       0\n",
       "Rating           0\n",
       "Runtime (min)    0\n",
       "Casting          0\n",
       "Votes            0\n",
       "Certificate      0\n",
       "Genre1           1\n",
       "Genre2           1\n",
       "dtype: int64"
      ]
     },
     "execution_count": 174,
     "metadata": {},
     "output_type": "execute_result"
    }
   ],
   "source": [
    "df.isnull().sum()\n",
    "#checking null values."
   ]
  },
  {
   "cell_type": "code",
   "execution_count": 176,
   "id": "e6fcd66b",
   "metadata": {},
   "outputs": [
    {
     "data": {
      "text/plain": [
       "Titles            object\n",
       "Start year         int32\n",
       "Rating           float64\n",
       "Runtime (min)      int32\n",
       "Casting           object\n",
       "Votes              int32\n",
       "Certificate       object\n",
       "Genre1            object\n",
       "Genre2            object\n",
       "dtype: object"
      ]
     },
     "execution_count": 176,
     "metadata": {},
     "output_type": "execute_result"
    }
   ],
   "source": [
    "df.dtypes\n",
    "#checking datatypes"
   ]
  },
  {
   "cell_type": "code",
   "execution_count": 177,
   "id": "60b40600",
   "metadata": {},
   "outputs": [],
   "source": [
    "df.to_csv(\"finally_csv\")"
   ]
  },
  {
   "cell_type": "code",
   "execution_count": 430,
   "id": "39fe5f04",
   "metadata": {},
   "outputs": [
    {
     "data": {
      "text/html": [
       "<div>\n",
       "<style scoped>\n",
       "    .dataframe tbody tr th:only-of-type {\n",
       "        vertical-align: middle;\n",
       "    }\n",
       "\n",
       "    .dataframe tbody tr th {\n",
       "        vertical-align: top;\n",
       "    }\n",
       "\n",
       "    .dataframe thead th {\n",
       "        text-align: right;\n",
       "    }\n",
       "</style>\n",
       "<table border=\"1\" class=\"dataframe\">\n",
       "  <thead>\n",
       "    <tr style=\"text-align: right;\">\n",
       "      <th></th>\n",
       "      <th>Unnamed: 0</th>\n",
       "      <th>Titles</th>\n",
       "      <th>Start year</th>\n",
       "      <th>Rating</th>\n",
       "      <th>Runtime (min)</th>\n",
       "      <th>Casting</th>\n",
       "      <th>Votes</th>\n",
       "      <th>Certificate</th>\n",
       "      <th>Genre1</th>\n",
       "      <th>Genre2</th>\n",
       "    </tr>\n",
       "  </thead>\n",
       "  <tbody>\n",
       "    <tr>\n",
       "      <th>0</th>\n",
       "      <td>0</td>\n",
       "      <td>Bluey</td>\n",
       "      <td>2018</td>\n",
       "      <td>9.5</td>\n",
       "      <td>7</td>\n",
       "      <td>David McCormack, Melanie Zanet...</td>\n",
       "      <td>16331</td>\n",
       "      <td>TV-Y</td>\n",
       "      <td>Family</td>\n",
       "      <td>Family</td>\n",
       "    </tr>\n",
       "    <tr>\n",
       "      <th>1</th>\n",
       "      <td>1</td>\n",
       "      <td>Avatar: The Last Airbender</td>\n",
       "      <td>2005</td>\n",
       "      <td>9.3</td>\n",
       "      <td>23</td>\n",
       "      <td>Dee Bradley Baker, Zach Tyler ...</td>\n",
       "      <td>333861</td>\n",
       "      <td>TV-Y7-FV</td>\n",
       "      <td>Action</td>\n",
       "      <td>Adventure</td>\n",
       "    </tr>\n",
       "    <tr>\n",
       "      <th>2</th>\n",
       "      <td>2</td>\n",
       "      <td>The Big Lez Show</td>\n",
       "      <td>2012</td>\n",
       "      <td>9.2</td>\n",
       "      <td>10</td>\n",
       "      <td>Jarrad Wright, Tom Hollis, Cod...</td>\n",
       "      <td>1903</td>\n",
       "      <td>TV-MA</td>\n",
       "      <td>Adventure</td>\n",
       "      <td>Comedy</td>\n",
       "    </tr>\n",
       "    <tr>\n",
       "      <th>3</th>\n",
       "      <td>3</td>\n",
       "      <td>Dragon Ball Z Abridged</td>\n",
       "      <td>2008</td>\n",
       "      <td>9.2</td>\n",
       "      <td>23</td>\n",
       "      <td>Lawrence Simpson, Nick Landis,...</td>\n",
       "      <td>1249</td>\n",
       "      <td>TV-14</td>\n",
       "      <td>Action</td>\n",
       "      <td>Comedy</td>\n",
       "    </tr>\n",
       "    <tr>\n",
       "      <th>4</th>\n",
       "      <td>4</td>\n",
       "      <td>Rick and Morty</td>\n",
       "      <td>2013</td>\n",
       "      <td>9.1</td>\n",
       "      <td>24</td>\n",
       "      <td>Justin Roiland, Chris Parnell,...</td>\n",
       "      <td>554944</td>\n",
       "      <td>TV-MA</td>\n",
       "      <td>Adventure</td>\n",
       "      <td>Comedy</td>\n",
       "    </tr>\n",
       "    <tr>\n",
       "      <th>...</th>\n",
       "      <td>...</td>\n",
       "      <td>...</td>\n",
       "      <td>...</td>\n",
       "      <td>...</td>\n",
       "      <td>...</td>\n",
       "      <td>...</td>\n",
       "      <td>...</td>\n",
       "      <td>...</td>\n",
       "      <td>...</td>\n",
       "      <td>...</td>\n",
       "    </tr>\n",
       "    <tr>\n",
       "      <th>495</th>\n",
       "      <td>495</td>\n",
       "      <td>Calls</td>\n",
       "      <td>2021</td>\n",
       "      <td>7.7</td>\n",
       "      <td>12</td>\n",
       "      <td>Aubrey Plaza, Clancy Brown, Ni...</td>\n",
       "      <td>6352</td>\n",
       "      <td>TV-MA</td>\n",
       "      <td>Drama</td>\n",
       "      <td>Horror</td>\n",
       "    </tr>\n",
       "    <tr>\n",
       "      <th>496</th>\n",
       "      <td>496</td>\n",
       "      <td>Sailor Moon</td>\n",
       "      <td>1992</td>\n",
       "      <td>7.7</td>\n",
       "      <td>30</td>\n",
       "      <td>Stephanie Sheh, Kotono Mitsuis...</td>\n",
       "      <td>6934</td>\n",
       "      <td>TV-PG</td>\n",
       "      <td>Action</td>\n",
       "      <td>Adventure</td>\n",
       "    </tr>\n",
       "    <tr>\n",
       "      <th>497</th>\n",
       "      <td>497</td>\n",
       "      <td>Rapunzel's Tangled Adventure</td>\n",
       "      <td>2017</td>\n",
       "      <td>7.7</td>\n",
       "      <td>21</td>\n",
       "      <td>Mandy Moore, Zachary Levi, Ede...</td>\n",
       "      <td>3095</td>\n",
       "      <td>TV-Y7</td>\n",
       "      <td>Action</td>\n",
       "      <td>Adventure</td>\n",
       "    </tr>\n",
       "    <tr>\n",
       "      <th>498</th>\n",
       "      <td>498</td>\n",
       "      <td>RWBY</td>\n",
       "      <td>2012</td>\n",
       "      <td>7.7</td>\n",
       "      <td>13</td>\n",
       "      <td>Lindsay Jones, Kara Eberle, Ba...</td>\n",
       "      <td>7327</td>\n",
       "      <td>TV-PG</td>\n",
       "      <td>Action</td>\n",
       "      <td>Adventure</td>\n",
       "    </tr>\n",
       "    <tr>\n",
       "      <th>499</th>\n",
       "      <td>499</td>\n",
       "      <td>Black Butler</td>\n",
       "      <td>2008</td>\n",
       "      <td>7.7</td>\n",
       "      <td>24</td>\n",
       "      <td>J. Michael Tatum, Michael C. P...</td>\n",
       "      <td>8642</td>\n",
       "      <td>TV-14</td>\n",
       "      <td>Action</td>\n",
       "      <td>Comedy</td>\n",
       "    </tr>\n",
       "  </tbody>\n",
       "</table>\n",
       "<p>500 rows × 10 columns</p>\n",
       "</div>"
      ],
      "text/plain": [
       "     Unnamed: 0                        Titles  Start year  Rating  \\\n",
       "0             0                         Bluey        2018     9.5   \n",
       "1             1    Avatar: The Last Airbender        2005     9.3   \n",
       "2             2              The Big Lez Show        2012     9.2   \n",
       "3             3        Dragon Ball Z Abridged        2008     9.2   \n",
       "4             4                Rick and Morty        2013     9.1   \n",
       "..          ...                           ...         ...     ...   \n",
       "495         495                         Calls        2021     7.7   \n",
       "496         496                   Sailor Moon        1992     7.7   \n",
       "497         497  Rapunzel's Tangled Adventure        2017     7.7   \n",
       "498         498                          RWBY        2012     7.7   \n",
       "499         499                  Black Butler        2008     7.7   \n",
       "\n",
       "     Runtime (min)                                            Casting   Votes  \\\n",
       "0                7                  David McCormack, Melanie Zanet...   16331   \n",
       "1               23                  Dee Bradley Baker, Zach Tyler ...  333861   \n",
       "2               10                  Jarrad Wright, Tom Hollis, Cod...    1903   \n",
       "3               23                  Lawrence Simpson, Nick Landis,...    1249   \n",
       "4               24                  Justin Roiland, Chris Parnell,...  554944   \n",
       "..             ...                                                ...     ...   \n",
       "495             12                  Aubrey Plaza, Clancy Brown, Ni...    6352   \n",
       "496             30                  Stephanie Sheh, Kotono Mitsuis...    6934   \n",
       "497             21                  Mandy Moore, Zachary Levi, Ede...    3095   \n",
       "498             13                  Lindsay Jones, Kara Eberle, Ba...    7327   \n",
       "499             24                  J. Michael Tatum, Michael C. P...    8642   \n",
       "\n",
       "    Certificate      Genre1      Genre2  \n",
       "0          TV-Y      Family      Family  \n",
       "1      TV-Y7-FV      Action   Adventure  \n",
       "2         TV-MA   Adventure      Comedy  \n",
       "3         TV-14      Action      Comedy  \n",
       "4         TV-MA   Adventure      Comedy  \n",
       "..          ...         ...         ...  \n",
       "495       TV-MA       Drama      Horror  \n",
       "496       TV-PG      Action   Adventure  \n",
       "497       TV-Y7      Action   Adventure  \n",
       "498       TV-PG      Action   Adventure  \n",
       "499       TV-14      Action      Comedy  \n",
       "\n",
       "[500 rows x 10 columns]"
      ]
     },
     "execution_count": 430,
     "metadata": {},
     "output_type": "execute_result"
    }
   ],
   "source": [
    "df = pd.read_csv(\"finally_csv\")\n",
    "df\n",
    "#cleaned data for data visualization."
   ]
  },
  {
   "cell_type": "code",
   "execution_count": 431,
   "id": "95da13b5",
   "metadata": {},
   "outputs": [
    {
     "data": {
      "text/html": [
       "<div>\n",
       "<style scoped>\n",
       "    .dataframe tbody tr th:only-of-type {\n",
       "        vertical-align: middle;\n",
       "    }\n",
       "\n",
       "    .dataframe tbody tr th {\n",
       "        vertical-align: top;\n",
       "    }\n",
       "\n",
       "    .dataframe thead th {\n",
       "        text-align: right;\n",
       "    }\n",
       "</style>\n",
       "<table border=\"1\" class=\"dataframe\">\n",
       "  <thead>\n",
       "    <tr style=\"text-align: right;\">\n",
       "      <th></th>\n",
       "      <th>Unnamed: 0</th>\n",
       "      <th>Titles</th>\n",
       "      <th>Start year</th>\n",
       "      <th>Rating</th>\n",
       "      <th>Runtime (min)</th>\n",
       "      <th>Casting</th>\n",
       "      <th>Votes</th>\n",
       "      <th>Certificate</th>\n",
       "      <th>Genre</th>\n",
       "    </tr>\n",
       "  </thead>\n",
       "  <tbody>\n",
       "    <tr>\n",
       "      <th>0</th>\n",
       "      <td>0</td>\n",
       "      <td>Bluey</td>\n",
       "      <td>2018</td>\n",
       "      <td>9.5</td>\n",
       "      <td>7</td>\n",
       "      <td>David McCormack, Melanie Zanet...</td>\n",
       "      <td>16331</td>\n",
       "      <td>TV-Y</td>\n",
       "      <td>Family, Family</td>\n",
       "    </tr>\n",
       "    <tr>\n",
       "      <th>1</th>\n",
       "      <td>1</td>\n",
       "      <td>Avatar: The Last Airbender</td>\n",
       "      <td>2005</td>\n",
       "      <td>9.3</td>\n",
       "      <td>23</td>\n",
       "      <td>Dee Bradley Baker, Zach Tyler ...</td>\n",
       "      <td>333861</td>\n",
       "      <td>TV-Y7-FV</td>\n",
       "      <td>Action, Adventure</td>\n",
       "    </tr>\n",
       "    <tr>\n",
       "      <th>2</th>\n",
       "      <td>2</td>\n",
       "      <td>The Big Lez Show</td>\n",
       "      <td>2012</td>\n",
       "      <td>9.2</td>\n",
       "      <td>10</td>\n",
       "      <td>Jarrad Wright, Tom Hollis, Cod...</td>\n",
       "      <td>1903</td>\n",
       "      <td>TV-MA</td>\n",
       "      <td>Adventure, Comedy</td>\n",
       "    </tr>\n",
       "    <tr>\n",
       "      <th>3</th>\n",
       "      <td>3</td>\n",
       "      <td>Dragon Ball Z Abridged</td>\n",
       "      <td>2008</td>\n",
       "      <td>9.2</td>\n",
       "      <td>23</td>\n",
       "      <td>Lawrence Simpson, Nick Landis,...</td>\n",
       "      <td>1249</td>\n",
       "      <td>TV-14</td>\n",
       "      <td>Action, Comedy</td>\n",
       "    </tr>\n",
       "    <tr>\n",
       "      <th>4</th>\n",
       "      <td>4</td>\n",
       "      <td>Rick and Morty</td>\n",
       "      <td>2013</td>\n",
       "      <td>9.1</td>\n",
       "      <td>24</td>\n",
       "      <td>Justin Roiland, Chris Parnell,...</td>\n",
       "      <td>554944</td>\n",
       "      <td>TV-MA</td>\n",
       "      <td>Adventure, Comedy</td>\n",
       "    </tr>\n",
       "    <tr>\n",
       "      <th>...</th>\n",
       "      <td>...</td>\n",
       "      <td>...</td>\n",
       "      <td>...</td>\n",
       "      <td>...</td>\n",
       "      <td>...</td>\n",
       "      <td>...</td>\n",
       "      <td>...</td>\n",
       "      <td>...</td>\n",
       "      <td>...</td>\n",
       "    </tr>\n",
       "    <tr>\n",
       "      <th>495</th>\n",
       "      <td>495</td>\n",
       "      <td>Calls</td>\n",
       "      <td>2021</td>\n",
       "      <td>7.7</td>\n",
       "      <td>12</td>\n",
       "      <td>Aubrey Plaza, Clancy Brown, Ni...</td>\n",
       "      <td>6352</td>\n",
       "      <td>TV-MA</td>\n",
       "      <td>Drama, Horror</td>\n",
       "    </tr>\n",
       "    <tr>\n",
       "      <th>496</th>\n",
       "      <td>496</td>\n",
       "      <td>Sailor Moon</td>\n",
       "      <td>1992</td>\n",
       "      <td>7.7</td>\n",
       "      <td>30</td>\n",
       "      <td>Stephanie Sheh, Kotono Mitsuis...</td>\n",
       "      <td>6934</td>\n",
       "      <td>TV-PG</td>\n",
       "      <td>Action, Adventure</td>\n",
       "    </tr>\n",
       "    <tr>\n",
       "      <th>497</th>\n",
       "      <td>497</td>\n",
       "      <td>Rapunzel's Tangled Adventure</td>\n",
       "      <td>2017</td>\n",
       "      <td>7.7</td>\n",
       "      <td>21</td>\n",
       "      <td>Mandy Moore, Zachary Levi, Ede...</td>\n",
       "      <td>3095</td>\n",
       "      <td>TV-Y7</td>\n",
       "      <td>Action, Adventure</td>\n",
       "    </tr>\n",
       "    <tr>\n",
       "      <th>498</th>\n",
       "      <td>498</td>\n",
       "      <td>RWBY</td>\n",
       "      <td>2012</td>\n",
       "      <td>7.7</td>\n",
       "      <td>13</td>\n",
       "      <td>Lindsay Jones, Kara Eberle, Ba...</td>\n",
       "      <td>7327</td>\n",
       "      <td>TV-PG</td>\n",
       "      <td>Action, Adventure</td>\n",
       "    </tr>\n",
       "    <tr>\n",
       "      <th>499</th>\n",
       "      <td>499</td>\n",
       "      <td>Black Butler</td>\n",
       "      <td>2008</td>\n",
       "      <td>7.7</td>\n",
       "      <td>24</td>\n",
       "      <td>J. Michael Tatum, Michael C. P...</td>\n",
       "      <td>8642</td>\n",
       "      <td>TV-14</td>\n",
       "      <td>Action, Comedy</td>\n",
       "    </tr>\n",
       "  </tbody>\n",
       "</table>\n",
       "<p>500 rows × 9 columns</p>\n",
       "</div>"
      ],
      "text/plain": [
       "     Unnamed: 0                        Titles  Start year  Rating  \\\n",
       "0             0                         Bluey        2018     9.5   \n",
       "1             1    Avatar: The Last Airbender        2005     9.3   \n",
       "2             2              The Big Lez Show        2012     9.2   \n",
       "3             3        Dragon Ball Z Abridged        2008     9.2   \n",
       "4             4                Rick and Morty        2013     9.1   \n",
       "..          ...                           ...         ...     ...   \n",
       "495         495                         Calls        2021     7.7   \n",
       "496         496                   Sailor Moon        1992     7.7   \n",
       "497         497  Rapunzel's Tangled Adventure        2017     7.7   \n",
       "498         498                          RWBY        2012     7.7   \n",
       "499         499                  Black Butler        2008     7.7   \n",
       "\n",
       "     Runtime (min)                                            Casting   Votes  \\\n",
       "0                7                  David McCormack, Melanie Zanet...   16331   \n",
       "1               23                  Dee Bradley Baker, Zach Tyler ...  333861   \n",
       "2               10                  Jarrad Wright, Tom Hollis, Cod...    1903   \n",
       "3               23                  Lawrence Simpson, Nick Landis,...    1249   \n",
       "4               24                  Justin Roiland, Chris Parnell,...  554944   \n",
       "..             ...                                                ...     ...   \n",
       "495             12                  Aubrey Plaza, Clancy Brown, Ni...    6352   \n",
       "496             30                  Stephanie Sheh, Kotono Mitsuis...    6934   \n",
       "497             21                  Mandy Moore, Zachary Levi, Ede...    3095   \n",
       "498             13                  Lindsay Jones, Kara Eberle, Ba...    7327   \n",
       "499             24                  J. Michael Tatum, Michael C. P...    8642   \n",
       "\n",
       "    Certificate               Genre  \n",
       "0          TV-Y      Family, Family  \n",
       "1      TV-Y7-FV   Action, Adventure  \n",
       "2         TV-MA   Adventure, Comedy  \n",
       "3         TV-14      Action, Comedy  \n",
       "4         TV-MA   Adventure, Comedy  \n",
       "..          ...                 ...  \n",
       "495       TV-MA       Drama, Horror  \n",
       "496       TV-PG   Action, Adventure  \n",
       "497       TV-Y7   Action, Adventure  \n",
       "498       TV-PG   Action, Adventure  \n",
       "499       TV-14      Action, Comedy  \n",
       "\n",
       "[500 rows x 9 columns]"
      ]
     },
     "execution_count": 431,
     "metadata": {},
     "output_type": "execute_result"
    }
   ],
   "source": [
    "df[\"Genre\"] = df['Genre1'] +\",\"+ df[\"Genre2\"]\n",
    "df.drop(columns=['Genre1','Genre2'],inplace=True)\n",
    "df\n",
    "#Merging both genre 1 and genre 2"
   ]
  },
  {
   "cell_type": "code",
   "execution_count": 180,
   "id": "b1049778",
   "metadata": {},
   "outputs": [
    {
     "data": {
      "text/plain": [
       "Unnamed: 0         int64\n",
       "Titles            object\n",
       "Start year         int64\n",
       "Rating           float64\n",
       "Runtime (min)      int64\n",
       "Casting           object\n",
       "Votes              int64\n",
       "Certificate       object\n",
       "Genre1            object\n",
       "Genre2            object\n",
       "dtype: object"
      ]
     },
     "execution_count": 180,
     "metadata": {},
     "output_type": "execute_result"
    }
   ],
   "source": [
    "df.dtypes"
   ]
  },
  {
   "cell_type": "code",
   "execution_count": 181,
   "id": "41468ee3",
   "metadata": {},
   "outputs": [
    {
     "data": {
      "text/plain": [
       "Unnamed: 0       0\n",
       "Titles           0\n",
       "Start year       0\n",
       "Rating           0\n",
       "Runtime (min)    0\n",
       "Casting          3\n",
       "Votes            0\n",
       "Certificate      0\n",
       "Genre1           1\n",
       "Genre2           1\n",
       "dtype: int64"
      ]
     },
     "execution_count": 181,
     "metadata": {},
     "output_type": "execute_result"
    }
   ],
   "source": [
    "df.isnull().sum()"
   ]
  },
  {
   "cell_type": "code",
   "execution_count": 182,
   "id": "d9ab330b",
   "metadata": {},
   "outputs": [
    {
     "data": {
      "text/plain": [
       "Unnamed: 0       0\n",
       "Titles           0\n",
       "Start year       0\n",
       "Rating           0\n",
       "Runtime (min)    0\n",
       "Casting          3\n",
       "Votes            0\n",
       "Certificate      0\n",
       "Genre1           1\n",
       "Genre2           1\n",
       "dtype: int64"
      ]
     },
     "execution_count": 182,
     "metadata": {},
     "output_type": "execute_result"
    }
   ],
   "source": [
    "df.isnull().sum()"
   ]
  },
  {
   "cell_type": "markdown",
   "id": "b5d97ac6",
   "metadata": {},
   "source": [
    "# DATA VISUALIZATION"
   ]
  },
  {
   "cell_type": "code",
   "execution_count": 433,
   "id": "d88ac24e",
   "metadata": {},
   "outputs": [],
   "source": [
    "import pandas as pd\n",
    "import numpy as np\n",
    "import matplotlib.pyplot as plt\n",
    "import seaborn as sns\n",
    "import re\n",
    "import plotly.express as px\n",
    "# needed libraries."
   ]
  },
  {
   "cell_type": "code",
   "execution_count": null,
   "id": "03b7cb46",
   "metadata": {},
   "outputs": [],
   "source": [
    "ort pandas as pd\n",
    "import numpy as np\n",
    "import matplotlib.pyplot as plt\n",
    "import seaborn as sns\n",
    "import plotly.express as px\n",
    "import requests\n",
    "from bs4 import BeautifulSoup\n",
    "import re"
   ]
  },
  {
   "cell_type": "code",
   "execution_count": 293,
   "id": "ec670482",
   "metadata": {},
   "outputs": [
    {
     "data": {
      "text/html": [
       "<div>\n",
       "<style scoped>\n",
       "    .dataframe tbody tr th:only-of-type {\n",
       "        vertical-align: middle;\n",
       "    }\n",
       "\n",
       "    .dataframe tbody tr th {\n",
       "        vertical-align: top;\n",
       "    }\n",
       "\n",
       "    .dataframe thead th {\n",
       "        text-align: right;\n",
       "    }\n",
       "</style>\n",
       "<table border=\"1\" class=\"dataframe\">\n",
       "  <thead>\n",
       "    <tr style=\"text-align: right;\">\n",
       "      <th></th>\n",
       "      <th>Titles</th>\n",
       "      <th>Start year</th>\n",
       "      <th>Rating</th>\n",
       "      <th>Runtime (min)</th>\n",
       "      <th>Casting</th>\n",
       "      <th>Votes</th>\n",
       "      <th>Certificate</th>\n",
       "      <th>Genre1</th>\n",
       "      <th>Genre2</th>\n",
       "    </tr>\n",
       "  </thead>\n",
       "  <tbody>\n",
       "    <tr>\n",
       "      <th>0</th>\n",
       "      <td>Bluey</td>\n",
       "      <td>2018</td>\n",
       "      <td>9.5</td>\n",
       "      <td>7</td>\n",
       "      <td>David McCormack, Melanie Zanet...</td>\n",
       "      <td>16331</td>\n",
       "      <td>TV-Y</td>\n",
       "      <td>Family</td>\n",
       "      <td>Family</td>\n",
       "    </tr>\n",
       "    <tr>\n",
       "      <th>1</th>\n",
       "      <td>Avatar: The Last Airbender</td>\n",
       "      <td>2005</td>\n",
       "      <td>9.3</td>\n",
       "      <td>23</td>\n",
       "      <td>Dee Bradley Baker, Zach Tyler ...</td>\n",
       "      <td>333861</td>\n",
       "      <td>TV-Y7-FV</td>\n",
       "      <td>Action</td>\n",
       "      <td>Adventure</td>\n",
       "    </tr>\n",
       "    <tr>\n",
       "      <th>2</th>\n",
       "      <td>The Big Lez Show</td>\n",
       "      <td>2012</td>\n",
       "      <td>9.2</td>\n",
       "      <td>10</td>\n",
       "      <td>Jarrad Wright, Tom Hollis, Cod...</td>\n",
       "      <td>1903</td>\n",
       "      <td>TV-MA</td>\n",
       "      <td>Adventure</td>\n",
       "      <td>Comedy</td>\n",
       "    </tr>\n",
       "    <tr>\n",
       "      <th>3</th>\n",
       "      <td>Dragon Ball Z Abridged</td>\n",
       "      <td>2008</td>\n",
       "      <td>9.2</td>\n",
       "      <td>23</td>\n",
       "      <td>Lawrence Simpson, Nick Landis,...</td>\n",
       "      <td>1249</td>\n",
       "      <td>TV-14</td>\n",
       "      <td>Action</td>\n",
       "      <td>Comedy</td>\n",
       "    </tr>\n",
       "    <tr>\n",
       "      <th>4</th>\n",
       "      <td>Rick and Morty</td>\n",
       "      <td>2013</td>\n",
       "      <td>9.1</td>\n",
       "      <td>24</td>\n",
       "      <td>Justin Roiland, Chris Parnell,...</td>\n",
       "      <td>554944</td>\n",
       "      <td>TV-MA</td>\n",
       "      <td>Adventure</td>\n",
       "      <td>Comedy</td>\n",
       "    </tr>\n",
       "  </tbody>\n",
       "</table>\n",
       "</div>"
      ],
      "text/plain": [
       "                       Titles  Start year  Rating  Runtime (min)  \\\n",
       "0                       Bluey        2018     9.5              7   \n",
       "1  Avatar: The Last Airbender        2005     9.3             23   \n",
       "2            The Big Lez Show        2012     9.2             10   \n",
       "3      Dragon Ball Z Abridged        2008     9.2             23   \n",
       "4              Rick and Morty        2013     9.1             24   \n",
       "\n",
       "                                             Casting   Votes Certificate  \\\n",
       "0                  David McCormack, Melanie Zanet...   16331        TV-Y   \n",
       "1                  Dee Bradley Baker, Zach Tyler ...  333861    TV-Y7-FV   \n",
       "2                  Jarrad Wright, Tom Hollis, Cod...    1903       TV-MA   \n",
       "3                  Lawrence Simpson, Nick Landis,...    1249       TV-14   \n",
       "4                  Justin Roiland, Chris Parnell,...  554944       TV-MA   \n",
       "\n",
       "       Genre1      Genre2  \n",
       "0      Family      Family  \n",
       "1      Action   Adventure  \n",
       "2   Adventure      Comedy  \n",
       "3      Action      Comedy  \n",
       "4   Adventure      Comedy  "
      ]
     },
     "execution_count": 293,
     "metadata": {},
     "output_type": "execute_result"
    }
   ],
   "source": [
    "df = pd.read_csv(\"finally_csv\")\n",
    "\n",
    "df.drop(columns='Unnamed: 0',inplace=True)\n",
    "df.head()\n",
    "#getting cleaned data \"finally_csv\" for data visualization."
   ]
  },
  {
   "cell_type": "code",
   "execution_count": 294,
   "id": "2941ef9d",
   "metadata": {},
   "outputs": [
    {
     "data": {
      "text/plain": [
       "Index(['Titles', 'Start year', 'Rating', 'Runtime (min)', 'Casting', 'Votes',\n",
       "       'Certificate', 'Genre1', 'Genre2'],\n",
       "      dtype='object')"
      ]
     },
     "execution_count": 294,
     "metadata": {},
     "output_type": "execute_result"
    }
   ],
   "source": [
    "df.columns\n",
    "#columns check"
   ]
  },
  {
   "cell_type": "code",
   "execution_count": 295,
   "id": "5841a7a8",
   "metadata": {},
   "outputs": [
    {
     "data": {
      "text/html": [
       "<div>\n",
       "<style scoped>\n",
       "    .dataframe tbody tr th:only-of-type {\n",
       "        vertical-align: middle;\n",
       "    }\n",
       "\n",
       "    .dataframe tbody tr th {\n",
       "        vertical-align: top;\n",
       "    }\n",
       "\n",
       "    .dataframe thead th {\n",
       "        text-align: right;\n",
       "    }\n",
       "</style>\n",
       "<table border=\"1\" class=\"dataframe\">\n",
       "  <thead>\n",
       "    <tr style=\"text-align: right;\">\n",
       "      <th></th>\n",
       "      <th>Titles</th>\n",
       "      <th>Start year</th>\n",
       "      <th>Rating</th>\n",
       "      <th>Runtime (min)</th>\n",
       "      <th>Casting</th>\n",
       "      <th>Votes</th>\n",
       "      <th>Certificate</th>\n",
       "      <th>Genre1</th>\n",
       "      <th>Genre2</th>\n",
       "    </tr>\n",
       "  </thead>\n",
       "  <tbody>\n",
       "    <tr>\n",
       "      <th>0</th>\n",
       "      <td>Bluey</td>\n",
       "      <td>2018</td>\n",
       "      <td>9.5</td>\n",
       "      <td>7</td>\n",
       "      <td>David McCormack, Melanie Zanet...</td>\n",
       "      <td>16331</td>\n",
       "      <td>TV-Y</td>\n",
       "      <td>Family</td>\n",
       "      <td>Family</td>\n",
       "    </tr>\n",
       "    <tr>\n",
       "      <th>1</th>\n",
       "      <td>Avatar: The Last Airbender</td>\n",
       "      <td>2005</td>\n",
       "      <td>9.3</td>\n",
       "      <td>23</td>\n",
       "      <td>Dee Bradley Baker, Zach Tyler ...</td>\n",
       "      <td>333861</td>\n",
       "      <td>TV-Y7-FV</td>\n",
       "      <td>Action</td>\n",
       "      <td>Adventure</td>\n",
       "    </tr>\n",
       "    <tr>\n",
       "      <th>2</th>\n",
       "      <td>The Big Lez Show</td>\n",
       "      <td>2012</td>\n",
       "      <td>9.2</td>\n",
       "      <td>10</td>\n",
       "      <td>Jarrad Wright, Tom Hollis, Cod...</td>\n",
       "      <td>1903</td>\n",
       "      <td>TV-MA</td>\n",
       "      <td>Adventure</td>\n",
       "      <td>Comedy</td>\n",
       "    </tr>\n",
       "    <tr>\n",
       "      <th>3</th>\n",
       "      <td>Dragon Ball Z Abridged</td>\n",
       "      <td>2008</td>\n",
       "      <td>9.2</td>\n",
       "      <td>23</td>\n",
       "      <td>Lawrence Simpson, Nick Landis,...</td>\n",
       "      <td>1249</td>\n",
       "      <td>TV-14</td>\n",
       "      <td>Action</td>\n",
       "      <td>Comedy</td>\n",
       "    </tr>\n",
       "    <tr>\n",
       "      <th>4</th>\n",
       "      <td>Rick and Morty</td>\n",
       "      <td>2013</td>\n",
       "      <td>9.1</td>\n",
       "      <td>24</td>\n",
       "      <td>Justin Roiland, Chris Parnell,...</td>\n",
       "      <td>554944</td>\n",
       "      <td>TV-MA</td>\n",
       "      <td>Adventure</td>\n",
       "      <td>Comedy</td>\n",
       "    </tr>\n",
       "    <tr>\n",
       "      <th>...</th>\n",
       "      <td>...</td>\n",
       "      <td>...</td>\n",
       "      <td>...</td>\n",
       "      <td>...</td>\n",
       "      <td>...</td>\n",
       "      <td>...</td>\n",
       "      <td>...</td>\n",
       "      <td>...</td>\n",
       "      <td>...</td>\n",
       "    </tr>\n",
       "    <tr>\n",
       "      <th>495</th>\n",
       "      <td>Calls</td>\n",
       "      <td>2021</td>\n",
       "      <td>7.7</td>\n",
       "      <td>12</td>\n",
       "      <td>Aubrey Plaza, Clancy Brown, Ni...</td>\n",
       "      <td>6352</td>\n",
       "      <td>TV-MA</td>\n",
       "      <td>Drama</td>\n",
       "      <td>Horror</td>\n",
       "    </tr>\n",
       "    <tr>\n",
       "      <th>496</th>\n",
       "      <td>Sailor Moon</td>\n",
       "      <td>1992</td>\n",
       "      <td>7.7</td>\n",
       "      <td>30</td>\n",
       "      <td>Stephanie Sheh, Kotono Mitsuis...</td>\n",
       "      <td>6934</td>\n",
       "      <td>TV-PG</td>\n",
       "      <td>Action</td>\n",
       "      <td>Adventure</td>\n",
       "    </tr>\n",
       "    <tr>\n",
       "      <th>497</th>\n",
       "      <td>Rapunzel's Tangled Adventure</td>\n",
       "      <td>2017</td>\n",
       "      <td>7.7</td>\n",
       "      <td>21</td>\n",
       "      <td>Mandy Moore, Zachary Levi, Ede...</td>\n",
       "      <td>3095</td>\n",
       "      <td>TV-Y7</td>\n",
       "      <td>Action</td>\n",
       "      <td>Adventure</td>\n",
       "    </tr>\n",
       "    <tr>\n",
       "      <th>498</th>\n",
       "      <td>RWBY</td>\n",
       "      <td>2012</td>\n",
       "      <td>7.7</td>\n",
       "      <td>13</td>\n",
       "      <td>Lindsay Jones, Kara Eberle, Ba...</td>\n",
       "      <td>7327</td>\n",
       "      <td>TV-PG</td>\n",
       "      <td>Action</td>\n",
       "      <td>Adventure</td>\n",
       "    </tr>\n",
       "    <tr>\n",
       "      <th>499</th>\n",
       "      <td>Black Butler</td>\n",
       "      <td>2008</td>\n",
       "      <td>7.7</td>\n",
       "      <td>24</td>\n",
       "      <td>J. Michael Tatum, Michael C. P...</td>\n",
       "      <td>8642</td>\n",
       "      <td>TV-14</td>\n",
       "      <td>Action</td>\n",
       "      <td>Comedy</td>\n",
       "    </tr>\n",
       "  </tbody>\n",
       "</table>\n",
       "<p>500 rows × 9 columns</p>\n",
       "</div>"
      ],
      "text/plain": [
       "                           Titles  Start year  Rating  Runtime (min)  \\\n",
       "0                           Bluey        2018     9.5              7   \n",
       "1      Avatar: The Last Airbender        2005     9.3             23   \n",
       "2                The Big Lez Show        2012     9.2             10   \n",
       "3          Dragon Ball Z Abridged        2008     9.2             23   \n",
       "4                  Rick and Morty        2013     9.1             24   \n",
       "..                            ...         ...     ...            ...   \n",
       "495                         Calls        2021     7.7             12   \n",
       "496                   Sailor Moon        1992     7.7             30   \n",
       "497  Rapunzel's Tangled Adventure        2017     7.7             21   \n",
       "498                          RWBY        2012     7.7             13   \n",
       "499                  Black Butler        2008     7.7             24   \n",
       "\n",
       "                                               Casting   Votes Certificate  \\\n",
       "0                    David McCormack, Melanie Zanet...   16331        TV-Y   \n",
       "1                    Dee Bradley Baker, Zach Tyler ...  333861    TV-Y7-FV   \n",
       "2                    Jarrad Wright, Tom Hollis, Cod...    1903       TV-MA   \n",
       "3                    Lawrence Simpson, Nick Landis,...    1249       TV-14   \n",
       "4                    Justin Roiland, Chris Parnell,...  554944       TV-MA   \n",
       "..                                                 ...     ...         ...   \n",
       "495                  Aubrey Plaza, Clancy Brown, Ni...    6352       TV-MA   \n",
       "496                  Stephanie Sheh, Kotono Mitsuis...    6934       TV-PG   \n",
       "497                  Mandy Moore, Zachary Levi, Ede...    3095       TV-Y7   \n",
       "498                  Lindsay Jones, Kara Eberle, Ba...    7327       TV-PG   \n",
       "499                  J. Michael Tatum, Michael C. P...    8642       TV-14   \n",
       "\n",
       "         Genre1      Genre2  \n",
       "0        Family      Family  \n",
       "1        Action   Adventure  \n",
       "2     Adventure      Comedy  \n",
       "3        Action      Comedy  \n",
       "4     Adventure      Comedy  \n",
       "..          ...         ...  \n",
       "495       Drama      Horror  \n",
       "496      Action   Adventure  \n",
       "497      Action   Adventure  \n",
       "498      Action   Adventure  \n",
       "499      Action      Comedy  \n",
       "\n",
       "[500 rows x 9 columns]"
      ]
     },
     "execution_count": 295,
     "metadata": {},
     "output_type": "execute_result"
    }
   ],
   "source": [
    "df"
   ]
  },
  {
   "cell_type": "code",
   "execution_count": null,
   "id": "5e8524e5",
   "metadata": {},
   "outputs": [],
   "source": []
  },
  {
   "cell_type": "markdown",
   "id": "ae48f02b",
   "metadata": {},
   "source": [
    "# Data Vis\n"
   ]
  },
  {
   "cell_type": "code",
   "execution_count": 296,
   "id": "675aa7ee",
   "metadata": {},
   "outputs": [
    {
     "data": {
      "image/png": "[encoded data removed]",
      "text/plain": [
       "<Figure size 640x480 with 1 Axes>"
      ]
     },
     "metadata": {},
     "output_type": "display_data"
    }
   ],
   "source": [
    "def rating(rating):\n",
    "    if rating>=8.5:\n",
    "        return 'Excellent'\n",
    "    elif rating>=7.9:\n",
    "        return 'Good'\n",
    "    else:\n",
    "        return 'Average'\n",
    "    \n",
    "df['rating_cat']=df['Rating'].apply(rating)\n",
    "\n",
    "a=df['rating_cat'].value_counts()\n",
    "plt.pie(a,labels=a.index,autopct='%0.2f%%')\n",
    "plt.title('Types of Rating_category')\n",
    "plt.show()"
   ]
  },
  {
   "cell_type": "code",
   "execution_count": 193,
   "id": "b19ce0f6",
   "metadata": {},
   "outputs": [],
   "source": [
    "# Univariant : \n",
    "# In the above picture we have used matplotlib library i.e  pie chart above\n",
    "# It shows the percentage distribution of Rating Category based on Ratings."
   ]
  },
  {
   "cell_type": "code",
   "execution_count": 434,
   "id": "794d408e",
   "metadata": {},
   "outputs": [
    {
     "data": {
      "application/vnd.plotly.v1+json": {
       "config": {
        "plotlyServerURL": "https://plot.ly"
       },
       "data": [
        {
         "alignmentgroup": "True",
         "hovertemplate": "variable=Certificate<br>index=%{x}<br>value=%{y}<extra></extra>",
         "legendgroup": "Certificate",
         "marker": {
          "color": "#636efa",
          "pattern": {
           "shape": ""
          }
         },
         "name": "Certificate",
         "offsetgroup": "Certificate",
         "orientation": "v",
         "showlegend": true,
         "textposition": "auto",
         "type": "bar",
         "x": [
          "TV-14",
          "TV-MA",
          "TV-PG",
          "TV-Y7",
          "TV-Y",
          "TV-Y7-FV",
          "TV-G",
          "Not Rated",
          "PG",
          "UA",
          "16+"
         ],
         "xaxis": "x",
         "y": [
          157,
          124,
          88,
          58,
          27,
          19,
          19,
          5,
          1,
          1,
          1
         ],
         "yaxis": "y"
        }
       ],
       "layout": {
        "barmode": "relative",
        "legend": {
         "title": {
          "text": "variable"
         },
         "tracegroupgap": 0
        },
        "template": {
         "data": {
          "bar": [
           {
            "error_x": {
             "color": "#2a3f5f"
            },
            "error_y": {
             "color": "#2a3f5f"
            },
            "marker": {
             "line": {
              "color": "#E5ECF6",
              "width": 0.5
             },
             "pattern": {
              "fillmode": "overlay",
              "size": 10,
              "solidity": 0.2
             }
            },
            "type": "bar"
           }
          ],
          "barpolar": [
           {
            "marker": {
             "line": {
              "color": "#E5ECF6",
              "width": 0.5
             },
             "pattern": {
              "fillmode": "overlay",
              "size": 10,
              "solidity": 0.2
             }
            },
            "type": "barpolar"
           }
          ],
          "carpet": [
           {
            "aaxis": {
             "endlinecolor": "#2a3f5f",
             "gridcolor": "white",
             "linecolor": "white",
             "minorgridcolor": "white",
             "startlinecolor": "#2a3f5f"
            },
            "baxis": {
             "endlinecolor": "#2a3f5f",
             "gridcolor": "white",
             "linecolor": "white",
             "minorgridcolor": "white",
             "startlinecolor": "#2a3f5f"
            },
            "type": "carpet"
           }
          ],
          "choropleth": [
           {
            "colorbar": {
             "outlinewidth": 0,
             "ticks": ""
            },
            "type": "choropleth"
           }
          ],
          "contour": [
           {
            "colorbar": {
             "outlinewidth": 0,
             "ticks": ""
            },
            "colorscale": [
             [
              0,
              "#0d0887"
             ],
             [
              0.1111111111111111,
              "#46039f"
             ],
             [
              0.2222222222222222,
              "#7201a8"
             ],
             [
              0.3333333333333333,
              "#9c179e"
             ],
             [
              0.4444444444444444,
              "#bd3786"
             ],
             [
              0.5555555555555556,
              "#d8576b"
             ],
             [
              0.6666666666666666,
              "#ed7953"
             ],
             [
              0.7777777777777778,
              "#fb9f3a"
             ],
             [
              0.8888888888888888,
              "#fdca26"
             ],
             [
              1,
              "#f0f921"
             ]
            ],
            "type": "contour"
           }
          ],
          "contourcarpet": [
           {
            "colorbar": {
             "outlinewidth": 0,
             "ticks": ""
            },
            "type": "contourcarpet"
           }
          ],
          "heatmap": [
           {
            "colorbar": {
             "outlinewidth": 0,
             "ticks": ""
            },
            "colorscale": [
             [
              0,
              "#0d0887"
             ],
             [
              0.1111111111111111,
              "#46039f"
             ],
             [
              0.2222222222222222,
              "#7201a8"
             ],
             [
              0.3333333333333333,
              "#9c179e"
             ],
             [
              0.4444444444444444,
              "#bd3786"
             ],
             [
              0.5555555555555556,
              "#d8576b"
             ],
             [
              0.6666666666666666,
              "#ed7953"
             ],
             [
              0.7777777777777778,
              "#fb9f3a"
             ],
             [
              0.8888888888888888,
              "#fdca26"
             ],
             [
              1,
              "#f0f921"
             ]
            ],
            "type": "heatmap"
           }
          ],
          "heatmapgl": [
           {
            "colorbar": {
             "outlinewidth": 0,
             "ticks": ""
            },
            "colorscale": [
             [
              0,
              "#0d0887"
             ],
             [
              0.1111111111111111,
              "#46039f"
             ],
             [
              0.2222222222222222,
              "#7201a8"
             ],
             [
              0.3333333333333333,
              "#9c179e"
             ],
             [
              0.4444444444444444,
              "#bd3786"
             ],
             [
              0.5555555555555556,
              "#d8576b"
             ],
             [
              0.6666666666666666,
              "#ed7953"
             ],
             [
              0.7777777777777778,
              "#fb9f3a"
             ],
             [
              0.8888888888888888,
              "#fdca26"
             ],
             [
              1,
              "#f0f921"
             ]
            ],
            "type": "heatmapgl"
           }
          ],
          "histogram": [
           {
            "marker": {
             "pattern": {
              "fillmode": "overlay",
              "size": 10,
              "solidity": 0.2
             }
            },
            "type": "histogram"
           }
          ],
          "histogram2d": [
           {
            "colorbar": {
             "outlinewidth": 0,
             "ticks": ""
            },
            "colorscale": [
             [
              0,
              "#0d0887"
             ],
             [
              0.1111111111111111,
              "#46039f"
             ],
             [
              0.2222222222222222,
              "#7201a8"
             ],
             [
              0.3333333333333333,
              "#9c179e"
             ],
             [
              0.4444444444444444,
              "#bd3786"
             ],
             [
              0.5555555555555556,
              "#d8576b"
             ],
             [
              0.6666666666666666,
              "#ed7953"
             ],
             [
              0.7777777777777778,
              "#fb9f3a"
             ],
             [
              0.8888888888888888,
              "#fdca26"
             ],
             [
              1,
              "#f0f921"
             ]
            ],
            "type": "histogram2d"
           }
          ],
          "histogram2dcontour": [
           {
            "colorbar": {
             "outlinewidth": 0,
             "ticks": ""
            },
            "colorscale": [
             [
              0,
              "#0d0887"
             ],
             [
              0.1111111111111111,
              "#46039f"
             ],
             [
              0.2222222222222222,
              "#7201a8"
             ],
             [
              0.3333333333333333,
              "#9c179e"
             ],
             [
              0.4444444444444444,
              "#bd3786"
             ],
             [
              0.5555555555555556,
              "#d8576b"
             ],
             [
              0.6666666666666666,
              "#ed7953"
             ],
             [
              0.7777777777777778,
              "#fb9f3a"
             ],
             [
              0.8888888888888888,
              "#fdca26"
             ],
             [
              1,
              "#f0f921"
             ]
            ],
            "type": "histogram2dcontour"
           }
          ],
          "mesh3d": [
           {
            "colorbar": {
             "outlinewidth": 0,
             "ticks": ""
            },
            "type": "mesh3d"
           }
          ],
          "parcoords": [
           {
            "line": {
             "colorbar": {
              "outlinewidth": 0,
              "ticks": ""
             }
            },
            "type": "parcoords"
           }
          ],
          "pie": [
           {
            "automargin": true,
            "type": "pie"
           }
          ],
          "scatter": [
           {
            "fillpattern": {
             "fillmode": "overlay",
             "size": 10,
             "solidity": 0.2
            },
            "type": "scatter"
           }
          ],
          "scatter3d": [
           {
            "line": {
             "colorbar": {
              "outlinewidth": 0,
              "ticks": ""
             }
            },
            "marker": {
             "colorbar": {
              "outlinewidth": 0,
              "ticks": ""
             }
            },
            "type": "scatter3d"
           }
          ],
          "scattercarpet": [
           {
            "marker": {
             "colorbar": {
              "outlinewidth": 0,
              "ticks": ""
             }
            },
            "type": "scattercarpet"
           }
          ],
          "scattergeo": [
           {
            "marker": {
             "colorbar": {
              "outlinewidth": 0,
              "ticks": ""
             }
            },
            "type": "scattergeo"
           }
          ],
          "scattergl": [
           {
            "marker": {
             "colorbar": {
              "outlinewidth": 0,
              "ticks": ""
             }
            },
            "type": "scattergl"
           }
          ],
          "scattermapbox": [
           {
            "marker": {
             "colorbar": {
              "outlinewidth": 0,
              "ticks": ""
             }
            },
            "type": "scattermapbox"
           }
          ],
          "scatterpolar": [
           {
            "marker": {
             "colorbar": {
              "outlinewidth": 0,
              "ticks": ""
             }
            },
            "type": "scatterpolar"
           }
          ],
          "scatterpolargl": [
           {
            "marker": {
             "colorbar": {
              "outlinewidth": 0,
              "ticks": ""
             }
            },
            "type": "scatterpolargl"
           }
          ],
          "scatterternary": [
           {
            "marker": {
             "colorbar": {
              "outlinewidth": 0,
              "ticks": ""
             }
            },
            "type": "scatterternary"
           }
          ],
          "surface": [
           {
            "colorbar": {
             "outlinewidth": 0,
             "ticks": ""
            },
            "colorscale": [
             [
              0,
              "#0d0887"
             ],
             [
              0.1111111111111111,
              "#46039f"
             ],
             [
              0.2222222222222222,
              "#7201a8"
             ],
             [
              0.3333333333333333,
              "#9c179e"
             ],
             [
              0.4444444444444444,
              "#bd3786"
             ],
             [
              0.5555555555555556,
              "#d8576b"
             ],
             [
              0.6666666666666666,
              "#ed7953"
             ],
             [
              0.7777777777777778,
              "#fb9f3a"
             ],
             [
              0.8888888888888888,
              "#fdca26"
             ],
             [
              1,
              "#f0f921"
             ]
            ],
            "type": "surface"
           }
          ],
          "table": [
           {
            "cells": {
             "fill": {
              "color": "#EBF0F8"
             },
             "line": {
              "color": "white"
             }
            },
            "header": {
             "fill": {
              "color": "#C8D4E3"
             },
             "line": {
              "color": "white"
             }
            },
            "type": "table"
           }
          ]
         },
         "layout": {
          "annotationdefaults": {
           "arrowcolor": "#2a3f5f",
           "arrowhead": 0,
           "arrowwidth": 1
          },
          "autotypenumbers": "strict",
          "coloraxis": {
           "colorbar": {
            "outlinewidth": 0,
            "ticks": ""
           }
          },
          "colorscale": {
           "diverging": [
            [
             0,
             "#8e0152"
            ],
            [
             0.1,
             "#c51b7d"
            ],
            [
             0.2,
             "#de77ae"
            ],
            [
             0.3,
             "#f1b6da"
            ],
            [
             0.4,
             "#fde0ef"
            ],
            [
             0.5,
             "#f7f7f7"
            ],
            [
             0.6,
             "#e6f5d0"
            ],
            [
             0.7,
             "#b8e186"
            ],
            [
             0.8,
             "#7fbc41"
            ],
            [
             0.9,
             "#4d9221"
            ],
            [
             1,
             "#276419"
            ]
           ],
           "sequential": [
            [
             0,
             "#0d0887"
            ],
            [
             0.1111111111111111,
             "#46039f"
            ],
            [
             0.2222222222222222,
             "#7201a8"
            ],
            [
             0.3333333333333333,
             "#9c179e"
            ],
            [
             0.4444444444444444,
             "#bd3786"
            ],
            [
             0.5555555555555556,
             "#d8576b"
            ],
            [
             0.6666666666666666,
             "#ed7953"
            ],
            [
             0.7777777777777778,
             "#fb9f3a"
            ],
            [
             0.8888888888888888,
             "#fdca26"
            ],
            [
             1,
             "#f0f921"
            ]
           ],
           "sequentialminus": [
            [
             0,
             "#0d0887"
            ],
            [
             0.1111111111111111,
             "#46039f"
            ],
            [
             0.2222222222222222,
             "#7201a8"
            ],
            [
             0.3333333333333333,
             "#9c179e"
            ],
            [
             0.4444444444444444,
             "#bd3786"
            ],
            [
             0.5555555555555556,
             "#d8576b"
            ],
            [
             0.6666666666666666,
             "#ed7953"
            ],
            [
             0.7777777777777778,
             "#fb9f3a"
            ],
            [
             0.8888888888888888,
             "#fdca26"
            ],
            [
             1,
             "#f0f921"
            ]
           ]
          },
          "colorway": [
           "#636efa",
           "#EF553B",
           "#00cc96",
           "#ab63fa",
           "#FFA15A",
           "#19d3f3",
           "#FF6692",
           "#B6E880",
           "#FF97FF",
           "#FECB52"
          ],
          "font": {
           "color": "#2a3f5f"
          },
          "geo": {
           "bgcolor": "white",
           "lakecolor": "white",
           "landcolor": "#E5ECF6",
           "showlakes": true,
           "showland": true,
           "subunitcolor": "white"
          },
          "hoverlabel": {
           "align": "left"
          },
          "hovermode": "closest",
          "mapbox": {
           "style": "light"
          },
          "paper_bgcolor": "white",
          "plot_bgcolor": "#E5ECF6",
          "polar": {
           "angularaxis": {
            "gridcolor": "white",
            "linecolor": "white",
            "ticks": ""
           },
           "bgcolor": "#E5ECF6",
           "radialaxis": {
            "gridcolor": "white",
            "linecolor": "white",
            "ticks": ""
           }
          },
          "scene": {
           "xaxis": {
            "backgroundcolor": "#E5ECF6",
            "gridcolor": "white",
            "gridwidth": 2,
            "linecolor": "white",
            "showbackground": true,
            "ticks": "",
            "zerolinecolor": "white"
           },
           "yaxis": {
            "backgroundcolor": "#E5ECF6",
            "gridcolor": "white",
            "gridwidth": 2,
            "linecolor": "white",
            "showbackground": true,
            "ticks": "",
            "zerolinecolor": "white"
           },
           "zaxis": {
            "backgroundcolor": "#E5ECF6",
            "gridcolor": "white",
            "gridwidth": 2,
            "linecolor": "white",
            "showbackground": true,
            "ticks": "",
            "zerolinecolor": "white"
           }
          },
          "shapedefaults": {
           "line": {
            "color": "#2a3f5f"
           }
          },
          "ternary": {
           "aaxis": {
            "gridcolor": "white",
            "linecolor": "white",
            "ticks": ""
           },
           "baxis": {
            "gridcolor": "white",
            "linecolor": "white",
            "ticks": ""
           },
           "bgcolor": "#E5ECF6",
           "caxis": {
            "gridcolor": "white",
            "linecolor": "white",
            "ticks": ""
           }
          },
          "title": {
           "x": 0.05
          },
          "xaxis": {
           "automargin": true,
           "gridcolor": "white",
           "linecolor": "white",
           "ticks": "",
           "title": {
            "standoff": 15
           },
           "zerolinecolor": "white",
           "zerolinewidth": 2
          },
          "yaxis": {
           "automargin": true,
           "gridcolor": "white",
           "linecolor": "white",
           "ticks": "",
           "title": {
            "standoff": 15
           },
           "zerolinecolor": "white",
           "zerolinewidth": 2
          }
         }
        },
        "title": {
         "text": "Types of Certifiates"
        },
        "xaxis": {
         "anchor": "y",
         "domain": [
          0,
          1
         ],
         "title": {
          "text": "index"
         }
        },
        "yaxis": {
         "anchor": "x",
         "domain": [
          0,
          1
         ],
         "title": {
          "text": "value"
         }
        }
       }
      },
      "text/html": [
       "<div>                            <div id=\"f190b62f-5334-4fb6-b43a-db44194e51bc\" class=\"plotly-graph-div\" style=\"height:525px; width:100%;\"></div>            <script type=\"text/javascript\">                require([\"plotly\"], function(Plotly) {                    window.PLOTLYENV=window.PLOTLYENV || {};                                    if (document.getElementById(\"f190b62f-5334-4fb6-b43a-db44194e51bc\")) {                    Plotly.newPlot(                        \"f190b62f-5334-4fb6-b43a-db44194e51bc\",                        [{\"alignmentgroup\":\"True\",\"hovertemplate\":\"variable=Certificate<br>index=%{x}<br>value=%{y}<extra></extra>\",\"legendgroup\":\"Certificate\",\"marker\":{\"color\":\"#636efa\",\"pattern\":{\"shape\":\"\"}},\"name\":\"Certificate\",\"offsetgroup\":\"Certificate\",\"orientation\":\"v\",\"showlegend\":true,\"textposition\":\"auto\",\"x\":[\"TV-14\",\"TV-MA\",\"TV-PG\",\"TV-Y7\",\"TV-Y\",\"TV-Y7-FV\",\"TV-G\",\"Not Rated\",\"PG\",\"UA\",\"16+\"],\"xaxis\":\"x\",\"y\":[157,124,88,58,27,19,19,5,1,1,1],\"yaxis\":\"y\",\"type\":\"bar\"}],                        {\"template\":{\"data\":{\"histogram2dcontour\":[{\"type\":\"histogram2dcontour\",\"colorbar\":{\"outlinewidth\":0,\"ticks\":\"\"},\"colorscale\":[[0.0,\"#0d0887\"],[0.1111111111111111,\"#46039f\"],[0.2222222222222222,\"#7201a8\"],[0.3333333333333333,\"#9c179e\"],[0.4444444444444444,\"#bd3786\"],[0.5555555555555556,\"#d8576b\"],[0.6666666666666666,\"#ed7953\"],[0.7777777777777778,\"#fb9f3a\"],[0.8888888888888888,\"#fdca26\"],[1.0,\"#f0f921\"]]}],\"choropleth\":[{\"type\":\"choropleth\",\"colorbar\":{\"outlinewidth\":0,\"ticks\":\"\"}}],\"histogram2d\":[{\"type\":\"histogram2d\",\"colorbar\":{\"outlinewidth\":0,\"ticks\":\"\"},\"colorscale\":[[0.0,\"#0d0887\"],[0.1111111111111111,\"#46039f\"],[0.2222222222222222,\"#7201a8\"],[0.3333333333333333,\"#9c179e\"],[0.4444444444444444,\"#bd3786\"],[0.5555555555555556,\"#d8576b\"],[0.6666666666666666,\"#ed7953\"],[0.7777777777777778,\"#fb9f3a\"],[0.8888888888888888,\"#fdca26\"],[1.0,\"#f0f921\"]]}],\"heatmap\":[{\"type\":\"heatmap\",\"colorbar\":{\"outlinewidth\":0,\"ticks\":\"\"},\"colorscale\":[[0.0,\"#0d0887\"],[0.1111111111111111,\"#46039f\"],[0.2222222222222222,\"#7201a8\"],[0.3333333333333333,\"#9c179e\"],[0.4444444444444444,\"#bd3786\"],[0.5555555555555556,\"#d8576b\"],[0.6666666666666666,\"#ed7953\"],[0.7777777777777778,\"#fb9f3a\"],[0.8888888888888888,\"#fdca26\"],[1.0,\"#f0f921\"]]}],\"heatmapgl\":[{\"type\":\"heatmapgl\",\"colorbar\":{\"outlinewidth\":0,\"ticks\":\"\"},\"colorscale\":[[0.0,\"#0d0887\"],[0.1111111111111111,\"#46039f\"],[0.2222222222222222,\"#7201a8\"],[0.3333333333333333,\"#9c179e\"],[0.4444444444444444,\"#bd3786\"],[0.5555555555555556,\"#d8576b\"],[0.6666666666666666,\"#ed7953\"],[0.7777777777777778,\"#fb9f3a\"],[0.8888888888888888,\"#fdca26\"],[1.0,\"#f0f921\"]]}],\"contourcarpet\":[{\"type\":\"contourcarpet\",\"colorbar\":{\"outlinewidth\":0,\"ticks\":\"\"}}],\"contour\":[{\"type\":\"contour\",\"colorbar\":{\"outlinewidth\":0,\"ticks\":\"\"},\"colorscale\":[[0.0,\"#0d0887\"],[0.1111111111111111,\"#46039f\"],[0.2222222222222222,\"#7201a8\"],[0.3333333333333333,\"#9c179e\"],[0.4444444444444444,\"#bd3786\"],[0.5555555555555556,\"#d8576b\"],[0.6666666666666666,\"#ed7953\"],[0.7777777777777778,\"#fb9f3a\"],[0.8888888888888888,\"#fdca26\"],[1.0,\"#f0f921\"]]}],\"surface\":[{\"type\":\"surface\",\"colorbar\":{\"outlinewidth\":0,\"ticks\":\"\"},\"colorscale\":[[0.0,\"#0d0887\"],[0.1111111111111111,\"#46039f\"],[0.2222222222222222,\"#7201a8\"],[0.3333333333333333,\"#9c179e\"],[0.4444444444444444,\"#bd3786\"],[0.5555555555555556,\"#d8576b\"],[0.6666666666666666,\"#ed7953\"],[0.7777777777777778,\"#fb9f3a\"],[0.8888888888888888,\"#fdca26\"],[1.0,\"#f0f921\"]]}],\"mesh3d\":[{\"type\":\"mesh3d\",\"colorbar\":{\"outlinewidth\":0,\"ticks\":\"\"}}],\"scatter\":[{\"fillpattern\":{\"fillmode\":\"overlay\",\"size\":10,\"solidity\":0.2},\"type\":\"scatter\"}],\"parcoords\":[{\"type\":\"parcoords\",\"line\":{\"colorbar\":{\"outlinewidth\":0,\"ticks\":\"\"}}}],\"scatterpolargl\":[{\"type\":\"scatterpolargl\",\"marker\":{\"colorbar\":{\"outlinewidth\":0,\"ticks\":\"\"}}}],\"bar\":[{\"error_x\":{\"color\":\"#2a3f5f\"},\"error_y\":{\"color\":\"#2a3f5f\"},\"marker\":{\"line\":{\"color\":\"#E5ECF6\",\"width\":0.5},\"pattern\":{\"fillmode\":\"overlay\",\"size\":10,\"solidity\":0.2}},\"type\":\"bar\"}],\"scattergeo\":[{\"type\":\"scattergeo\",\"marker\":{\"colorbar\":{\"outlinewidth\":0,\"ticks\":\"\"}}}],\"scatterpolar\":[{\"type\":\"scatterpolar\",\"marker\":{\"colorbar\":{\"outlinewidth\":0,\"ticks\":\"\"}}}],\"histogram\":[{\"marker\":{\"pattern\":{\"fillmode\":\"overlay\",\"size\":10,\"solidity\":0.2}},\"type\":\"histogram\"}],\"scattergl\":[{\"type\":\"scattergl\",\"marker\":{\"colorbar\":{\"outlinewidth\":0,\"ticks\":\"\"}}}],\"scatter3d\":[{\"type\":\"scatter3d\",\"line\":{\"colorbar\":{\"outlinewidth\":0,\"ticks\":\"\"}},\"marker\":{\"colorbar\":{\"outlinewidth\":0,\"ticks\":\"\"}}}],\"scattermapbox\":[{\"type\":\"scattermapbox\",\"marker\":{\"colorbar\":{\"outlinewidth\":0,\"ticks\":\"\"}}}],\"scatterternary\":[{\"type\":\"scatterternary\",\"marker\":{\"colorbar\":{\"outlinewidth\":0,\"ticks\":\"\"}}}],\"scattercarpet\":[{\"type\":\"scattercarpet\",\"marker\":{\"colorbar\":{\"outlinewidth\":0,\"ticks\":\"\"}}}],\"carpet\":[{\"aaxis\":{\"endlinecolor\":\"#2a3f5f\",\"gridcolor\":\"white\",\"linecolor\":\"white\",\"minorgridcolor\":\"white\",\"startlinecolor\":\"#2a3f5f\"},\"baxis\":{\"endlinecolor\":\"#2a3f5f\",\"gridcolor\":\"white\",\"linecolor\":\"white\",\"minorgridcolor\":\"white\",\"startlinecolor\":\"#2a3f5f\"},\"type\":\"carpet\"}],\"table\":[{\"cells\":{\"fill\":{\"color\":\"#EBF0F8\"},\"line\":{\"color\":\"white\"}},\"header\":{\"fill\":{\"color\":\"#C8D4E3\"},\"line\":{\"color\":\"white\"}},\"type\":\"table\"}],\"barpolar\":[{\"marker\":{\"line\":{\"color\":\"#E5ECF6\",\"width\":0.5},\"pattern\":{\"fillmode\":\"overlay\",\"size\":10,\"solidity\":0.2}},\"type\":\"barpolar\"}],\"pie\":[{\"automargin\":true,\"type\":\"pie\"}]},\"layout\":{\"autotypenumbers\":\"strict\",\"colorway\":[\"#636efa\",\"#EF553B\",\"#00cc96\",\"#ab63fa\",\"#FFA15A\",\"#19d3f3\",\"#FF6692\",\"#B6E880\",\"#FF97FF\",\"#FECB52\"],\"font\":{\"color\":\"#2a3f5f\"},\"hovermode\":\"closest\",\"hoverlabel\":{\"align\":\"left\"},\"paper_bgcolor\":\"white\",\"plot_bgcolor\":\"#E5ECF6\",\"polar\":{\"bgcolor\":\"#E5ECF6\",\"angularaxis\":{\"gridcolor\":\"white\",\"linecolor\":\"white\",\"ticks\":\"\"},\"radialaxis\":{\"gridcolor\":\"white\",\"linecolor\":\"white\",\"ticks\":\"\"}},\"ternary\":{\"bgcolor\":\"#E5ECF6\",\"aaxis\":{\"gridcolor\":\"white\",\"linecolor\":\"white\",\"ticks\":\"\"},\"baxis\":{\"gridcolor\":\"white\",\"linecolor\":\"white\",\"ticks\":\"\"},\"caxis\":{\"gridcolor\":\"white\",\"linecolor\":\"white\",\"ticks\":\"\"}},\"coloraxis\":{\"colorbar\":{\"outlinewidth\":0,\"ticks\":\"\"}},\"colorscale\":{\"sequential\":[[0.0,\"#0d0887\"],[0.1111111111111111,\"#46039f\"],[0.2222222222222222,\"#7201a8\"],[0.3333333333333333,\"#9c179e\"],[0.4444444444444444,\"#bd3786\"],[0.5555555555555556,\"#d8576b\"],[0.6666666666666666,\"#ed7953\"],[0.7777777777777778,\"#fb9f3a\"],[0.8888888888888888,\"#fdca26\"],[1.0,\"#f0f921\"]],\"sequentialminus\":[[0.0,\"#0d0887\"],[0.1111111111111111,\"#46039f\"],[0.2222222222222222,\"#7201a8\"],[0.3333333333333333,\"#9c179e\"],[0.4444444444444444,\"#bd3786\"],[0.5555555555555556,\"#d8576b\"],[0.6666666666666666,\"#ed7953\"],[0.7777777777777778,\"#fb9f3a\"],[0.8888888888888888,\"#fdca26\"],[1.0,\"#f0f921\"]],\"diverging\":[[0,\"#8e0152\"],[0.1,\"#c51b7d\"],[0.2,\"#de77ae\"],[0.3,\"#f1b6da\"],[0.4,\"#fde0ef\"],[0.5,\"#f7f7f7\"],[0.6,\"#e6f5d0\"],[0.7,\"#b8e186\"],[0.8,\"#7fbc41\"],[0.9,\"#4d9221\"],[1,\"#276419\"]]},\"xaxis\":{\"gridcolor\":\"white\",\"linecolor\":\"white\",\"ticks\":\"\",\"title\":{\"standoff\":15},\"zerolinecolor\":\"white\",\"automargin\":true,\"zerolinewidth\":2},\"yaxis\":{\"gridcolor\":\"white\",\"linecolor\":\"white\",\"ticks\":\"\",\"title\":{\"standoff\":15},\"zerolinecolor\":\"white\",\"automargin\":true,\"zerolinewidth\":2},\"scene\":{\"xaxis\":{\"backgroundcolor\":\"#E5ECF6\",\"gridcolor\":\"white\",\"linecolor\":\"white\",\"showbackground\":true,\"ticks\":\"\",\"zerolinecolor\":\"white\",\"gridwidth\":2},\"yaxis\":{\"backgroundcolor\":\"#E5ECF6\",\"gridcolor\":\"white\",\"linecolor\":\"white\",\"showbackground\":true,\"ticks\":\"\",\"zerolinecolor\":\"white\",\"gridwidth\":2},\"zaxis\":{\"backgroundcolor\":\"#E5ECF6\",\"gridcolor\":\"white\",\"linecolor\":\"white\",\"showbackground\":true,\"ticks\":\"\",\"zerolinecolor\":\"white\",\"gridwidth\":2}},\"shapedefaults\":{\"line\":{\"color\":\"#2a3f5f\"}},\"annotationdefaults\":{\"arrowcolor\":\"#2a3f5f\",\"arrowhead\":0,\"arrowwidth\":1},\"geo\":{\"bgcolor\":\"white\",\"landcolor\":\"#E5ECF6\",\"subunitcolor\":\"white\",\"showland\":true,\"showlakes\":true,\"lakecolor\":\"white\"},\"title\":{\"x\":0.05},\"mapbox\":{\"style\":\"light\"}}},\"xaxis\":{\"anchor\":\"y\",\"domain\":[0.0,1.0],\"title\":{\"text\":\"index\"}},\"yaxis\":{\"anchor\":\"x\",\"domain\":[0.0,1.0],\"title\":{\"text\":\"value\"}},\"legend\":{\"title\":{\"text\":\"variable\"},\"tracegroupgap\":0},\"title\":{\"text\":\"Types of Certifiates\"},\"barmode\":\"relative\"},                        {\"responsive\": true}                    ).then(function(){\n",
       "                            \n",
       "var gd = document.getElementById('f190b62f-5334-4fb6-b43a-db44194e51bc');\n",
       "var x = new MutationObserver(function (mutations, observer) {{\n",
       "        var display = window.getComputedStyle(gd).display;\n",
       "        if (!display || display === 'none') {{\n",
       "            console.log([gd, 'removed!']);\n",
       "            Plotly.purge(gd);\n",
       "            observer.disconnect();\n",
       "        }}\n",
       "}});\n",
       "\n",
       "// Listen for the removal of the full notebook cells\n",
       "var notebookContainer = gd.closest('#notebook-container');\n",
       "if (notebookContainer) {{\n",
       "    x.observe(notebookContainer, {childList: true});\n",
       "}}\n",
       "\n",
       "// Listen for the clearing of the current output cell\n",
       "var outputEl = gd.closest('.output');\n",
       "if (outputEl) {{\n",
       "    x.observe(outputEl, {childList: true});\n",
       "}}\n",
       "\n",
       "                        })                };                });            </script>        </div>"
      ]
     },
     "metadata": {},
     "output_type": "display_data"
    }
   ],
   "source": [
    "px.bar(df['Certificate'].value_counts(),title='Types of Certifiates')"
   ]
  },
  {
   "cell_type": "code",
   "execution_count": 435,
   "id": "c62595ed",
   "metadata": {},
   "outputs": [
    {
     "data": {
      "application/vnd.plotly.v1+json": {
       "config": {
        "plotlyServerURL": "https://plot.ly"
       },
       "data": [
        {
         "alignmentgroup": "True",
         "hovertemplate": "variable=Certificate<br>index=%{x}<br>value=%{y}<extra></extra>",
         "legendgroup": "Certificate",
         "marker": {
          "color": "#636efa",
          "pattern": {
           "shape": ""
          }
         },
         "name": "Certificate",
         "offsetgroup": "Certificate",
         "orientation": "v",
         "showlegend": true,
         "textposition": "auto",
         "type": "bar",
         "x": [
          "TV-14",
          "TV-MA",
          "TV-PG",
          "TV-Y7",
          "TV-Y",
          "TV-Y7-FV",
          "TV-G",
          "Not Rated",
          "PG",
          "UA",
          "16+"
         ],
         "xaxis": "x",
         "y": [
          157,
          124,
          88,
          58,
          27,
          19,
          19,
          5,
          1,
          1,
          1
         ],
         "yaxis": "y"
        }
       ],
       "layout": {
        "barmode": "relative",
        "legend": {
         "title": {
          "text": "variable"
         },
         "tracegroupgap": 0
        },
        "template": {
         "data": {
          "bar": [
           {
            "error_x": {
             "color": "#2a3f5f"
            },
            "error_y": {
             "color": "#2a3f5f"
            },
            "marker": {
             "line": {
              "color": "#E5ECF6",
              "width": 0.5
             },
             "pattern": {
              "fillmode": "overlay",
              "size": 10,
              "solidity": 0.2
             }
            },
            "type": "bar"
           }
          ],
          "barpolar": [
           {
            "marker": {
             "line": {
              "color": "#E5ECF6",
              "width": 0.5
             },
             "pattern": {
              "fillmode": "overlay",
              "size": 10,
              "solidity": 0.2
             }
            },
            "type": "barpolar"
           }
          ],
          "carpet": [
           {
            "aaxis": {
             "endlinecolor": "#2a3f5f",
             "gridcolor": "white",
             "linecolor": "white",
             "minorgridcolor": "white",
             "startlinecolor": "#2a3f5f"
            },
            "baxis": {
             "endlinecolor": "#2a3f5f",
             "gridcolor": "white",
             "linecolor": "white",
             "minorgridcolor": "white",
             "startlinecolor": "#2a3f5f"
            },
            "type": "carpet"
           }
          ],
          "choropleth": [
           {
            "colorbar": {
             "outlinewidth": 0,
             "ticks": ""
            },
            "type": "choropleth"
           }
          ],
          "contour": [
           {
            "colorbar": {
             "outlinewidth": 0,
             "ticks": ""
            },
            "colorscale": [
             [
              0,
              "#0d0887"
             ],
             [
              0.1111111111111111,
              "#46039f"
             ],
             [
              0.2222222222222222,
              "#7201a8"
             ],
             [
              0.3333333333333333,
              "#9c179e"
             ],
             [
              0.4444444444444444,
              "#bd3786"
             ],
             [
              0.5555555555555556,
              "#d8576b"
             ],
             [
              0.6666666666666666,
              "#ed7953"
             ],
             [
              0.7777777777777778,
              "#fb9f3a"
             ],
             [
              0.8888888888888888,
              "#fdca26"
             ],
             [
              1,
              "#f0f921"
             ]
            ],
            "type": "contour"
           }
          ],
          "contourcarpet": [
           {
            "colorbar": {
             "outlinewidth": 0,
             "ticks": ""
            },
            "type": "contourcarpet"
           }
          ],
          "heatmap": [
           {
            "colorbar": {
             "outlinewidth": 0,
             "ticks": ""
            },
            "colorscale": [
             [
              0,
              "#0d0887"
             ],
             [
              0.1111111111111111,
              "#46039f"
             ],
             [
              0.2222222222222222,
              "#7201a8"
             ],
             [
              0.3333333333333333,
              "#9c179e"
             ],
             [
              0.4444444444444444,
              "#bd3786"
             ],
             [
              0.5555555555555556,
              "#d8576b"
             ],
             [
              0.6666666666666666,
              "#ed7953"
             ],
             [
              0.7777777777777778,
              "#fb9f3a"
             ],
             [
              0.8888888888888888,
              "#fdca26"
             ],
             [
              1,
              "#f0f921"
             ]
            ],
            "type": "heatmap"
           }
          ],
          "heatmapgl": [
           {
            "colorbar": {
             "outlinewidth": 0,
             "ticks": ""
            },
            "colorscale": [
             [
              0,
              "#0d0887"
             ],
             [
              0.1111111111111111,
              "#46039f"
             ],
             [
              0.2222222222222222,
              "#7201a8"
             ],
             [
              0.3333333333333333,
              "#9c179e"
             ],
             [
              0.4444444444444444,
              "#bd3786"
             ],
             [
              0.5555555555555556,
              "#d8576b"
             ],
             [
              0.6666666666666666,
              "#ed7953"
             ],
             [
              0.7777777777777778,
              "#fb9f3a"
             ],
             [
              0.8888888888888888,
              "#fdca26"
             ],
             [
              1,
              "#f0f921"
             ]
            ],
            "type": "heatmapgl"
           }
          ],
          "histogram": [
           {
            "marker": {
             "pattern": {
              "fillmode": "overlay",
              "size": 10,
              "solidity": 0.2
             }
            },
            "type": "histogram"
           }
          ],
          "histogram2d": [
           {
            "colorbar": {
             "outlinewidth": 0,
             "ticks": ""
            },
            "colorscale": [
             [
              0,
              "#0d0887"
             ],
             [
              0.1111111111111111,
              "#46039f"
             ],
             [
              0.2222222222222222,
              "#7201a8"
             ],
             [
              0.3333333333333333,
              "#9c179e"
             ],
             [
              0.4444444444444444,
              "#bd3786"
             ],
             [
              0.5555555555555556,
              "#d8576b"
             ],
             [
              0.6666666666666666,
              "#ed7953"
             ],
             [
              0.7777777777777778,
              "#fb9f3a"
             ],
             [
              0.8888888888888888,
              "#fdca26"
             ],
             [
              1,
              "#f0f921"
             ]
            ],
            "type": "histogram2d"
           }
          ],
          "histogram2dcontour": [
           {
            "colorbar": {
             "outlinewidth": 0,
             "ticks": ""
            },
            "colorscale": [
             [
              0,
              "#0d0887"
             ],
             [
              0.1111111111111111,
              "#46039f"
             ],
             [
              0.2222222222222222,
              "#7201a8"
             ],
             [
              0.3333333333333333,
              "#9c179e"
             ],
             [
              0.4444444444444444,
              "#bd3786"
             ],
             [
              0.5555555555555556,
              "#d8576b"
             ],
             [
              0.6666666666666666,
              "#ed7953"
             ],
             [
              0.7777777777777778,
              "#fb9f3a"
             ],
             [
              0.8888888888888888,
              "#fdca26"
             ],
             [
              1,
              "#f0f921"
             ]
            ],
            "type": "histogram2dcontour"
           }
          ],
          "mesh3d": [
           {
            "colorbar": {
             "outlinewidth": 0,
             "ticks": ""
            },
            "type": "mesh3d"
           }
          ],
          "parcoords": [
           {
            "line": {
             "colorbar": {
              "outlinewidth": 0,
              "ticks": ""
             }
            },
            "type": "parcoords"
           }
          ],
          "pie": [
           {
            "automargin": true,
            "type": "pie"
           }
          ],
          "scatter": [
           {
            "fillpattern": {
             "fillmode": "overlay",
             "size": 10,
             "solidity": 0.2
            },
            "type": "scatter"
           }
          ],
          "scatter3d": [
           {
            "line": {
             "colorbar": {
              "outlinewidth": 0,
              "ticks": ""
             }
            },
            "marker": {
             "colorbar": {
              "outlinewidth": 0,
              "ticks": ""
             }
            },
            "type": "scatter3d"
           }
          ],
          "scattercarpet": [
           {
            "marker": {
             "colorbar": {
              "outlinewidth": 0,
              "ticks": ""
             }
            },
            "type": "scattercarpet"
           }
          ],
          "scattergeo": [
           {
            "marker": {
             "colorbar": {
              "outlinewidth": 0,
              "ticks": ""
             }
            },
            "type": "scattergeo"
           }
          ],
          "scattergl": [
           {
            "marker": {
             "colorbar": {
              "outlinewidth": 0,
              "ticks": ""
             }
            },
            "type": "scattergl"
           }
          ],
          "scattermapbox": [
           {
            "marker": {
             "colorbar": {
              "outlinewidth": 0,
              "ticks": ""
             }
            },
            "type": "scattermapbox"
           }
          ],
          "scatterpolar": [
           {
            "marker": {
             "colorbar": {
              "outlinewidth": 0,
              "ticks": ""
             }
            },
            "type": "scatterpolar"
           }
          ],
          "scatterpolargl": [
           {
            "marker": {
             "colorbar": {
              "outlinewidth": 0,
              "ticks": ""
             }
            },
            "type": "scatterpolargl"
           }
          ],
          "scatterternary": [
           {
            "marker": {
             "colorbar": {
              "outlinewidth": 0,
              "ticks": ""
             }
            },
            "type": "scatterternary"
           }
          ],
          "surface": [
           {
            "colorbar": {
             "outlinewidth": 0,
             "ticks": ""
            },
            "colorscale": [
             [
              0,
              "#0d0887"
             ],
             [
              0.1111111111111111,
              "#46039f"
             ],
             [
              0.2222222222222222,
              "#7201a8"
             ],
             [
              0.3333333333333333,
              "#9c179e"
             ],
             [
              0.4444444444444444,
              "#bd3786"
             ],
             [
              0.5555555555555556,
              "#d8576b"
             ],
             [
              0.6666666666666666,
              "#ed7953"
             ],
             [
              0.7777777777777778,
              "#fb9f3a"
             ],
             [
              0.8888888888888888,
              "#fdca26"
             ],
             [
              1,
              "#f0f921"
             ]
            ],
            "type": "surface"
           }
          ],
          "table": [
           {
            "cells": {
             "fill": {
              "color": "#EBF0F8"
             },
             "line": {
              "color": "white"
             }
            },
            "header": {
             "fill": {
              "color": "#C8D4E3"
             },
             "line": {
              "color": "white"
             }
            },
            "type": "table"
           }
          ]
         },
         "layout": {
          "annotationdefaults": {
           "arrowcolor": "#2a3f5f",
           "arrowhead": 0,
           "arrowwidth": 1
          },
          "autotypenumbers": "strict",
          "coloraxis": {
           "colorbar": {
            "outlinewidth": 0,
            "ticks": ""
           }
          },
          "colorscale": {
           "diverging": [
            [
             0,
             "#8e0152"
            ],
            [
             0.1,
             "#c51b7d"
            ],
            [
             0.2,
             "#de77ae"
            ],
            [
             0.3,
             "#f1b6da"
            ],
            [
             0.4,
             "#fde0ef"
            ],
            [
             0.5,
             "#f7f7f7"
            ],
            [
             0.6,
             "#e6f5d0"
            ],
            [
             0.7,
             "#b8e186"
            ],
            [
             0.8,
             "#7fbc41"
            ],
            [
             0.9,
             "#4d9221"
            ],
            [
             1,
             "#276419"
            ]
           ],
           "sequential": [
            [
             0,
             "#0d0887"
            ],
            [
             0.1111111111111111,
             "#46039f"
            ],
            [
             0.2222222222222222,
             "#7201a8"
            ],
            [
             0.3333333333333333,
             "#9c179e"
            ],
            [
             0.4444444444444444,
             "#bd3786"
            ],
            [
             0.5555555555555556,
             "#d8576b"
            ],
            [
             0.6666666666666666,
             "#ed7953"
            ],
            [
             0.7777777777777778,
             "#fb9f3a"
            ],
            [
             0.8888888888888888,
             "#fdca26"
            ],
            [
             1,
             "#f0f921"
            ]
           ],
           "sequentialminus": [
            [
             0,
             "#0d0887"
            ],
            [
             0.1111111111111111,
             "#46039f"
            ],
            [
             0.2222222222222222,
             "#7201a8"
            ],
            [
             0.3333333333333333,
             "#9c179e"
            ],
            [
             0.4444444444444444,
             "#bd3786"
            ],
            [
             0.5555555555555556,
             "#d8576b"
            ],
            [
             0.6666666666666666,
             "#ed7953"
            ],
            [
             0.7777777777777778,
             "#fb9f3a"
            ],
            [
             0.8888888888888888,
             "#fdca26"
            ],
            [
             1,
             "#f0f921"
            ]
           ]
          },
          "colorway": [
           "#636efa",
           "#EF553B",
           "#00cc96",
           "#ab63fa",
           "#FFA15A",
           "#19d3f3",
           "#FF6692",
           "#B6E880",
           "#FF97FF",
           "#FECB52"
          ],
          "font": {
           "color": "#2a3f5f"
          },
          "geo": {
           "bgcolor": "white",
           "lakecolor": "white",
           "landcolor": "#E5ECF6",
           "showlakes": true,
           "showland": true,
           "subunitcolor": "white"
          },
          "hoverlabel": {
           "align": "left"
          },
          "hovermode": "closest",
          "mapbox": {
           "style": "light"
          },
          "paper_bgcolor": "white",
          "plot_bgcolor": "#E5ECF6",
          "polar": {
           "angularaxis": {
            "gridcolor": "white",
            "linecolor": "white",
            "ticks": ""
           },
           "bgcolor": "#E5ECF6",
           "radialaxis": {
            "gridcolor": "white",
            "linecolor": "white",
            "ticks": ""
           }
          },
          "scene": {
           "xaxis": {
            "backgroundcolor": "#E5ECF6",
            "gridcolor": "white",
            "gridwidth": 2,
            "linecolor": "white",
            "showbackground": true,
            "ticks": "",
            "zerolinecolor": "white"
           },
           "yaxis": {
            "backgroundcolor": "#E5ECF6",
            "gridcolor": "white",
            "gridwidth": 2,
            "linecolor": "white",
            "showbackground": true,
            "ticks": "",
            "zerolinecolor": "white"
           },
           "zaxis": {
            "backgroundcolor": "#E5ECF6",
            "gridcolor": "white",
            "gridwidth": 2,
            "linecolor": "white",
            "showbackground": true,
            "ticks": "",
            "zerolinecolor": "white"
           }
          },
          "shapedefaults": {
           "line": {
            "color": "#2a3f5f"
           }
          },
          "ternary": {
           "aaxis": {
            "gridcolor": "white",
            "linecolor": "white",
            "ticks": ""
           },
           "baxis": {
            "gridcolor": "white",
            "linecolor": "white",
            "ticks": ""
           },
           "bgcolor": "#E5ECF6",
           "caxis": {
            "gridcolor": "white",
            "linecolor": "white",
            "ticks": ""
           }
          },
          "title": {
           "x": 0.05
          },
          "xaxis": {
           "automargin": true,
           "gridcolor": "white",
           "linecolor": "white",
           "ticks": "",
           "title": {
            "standoff": 15
           },
           "zerolinecolor": "white",
           "zerolinewidth": 2
          },
          "yaxis": {
           "automargin": true,
           "gridcolor": "white",
           "linecolor": "white",
           "ticks": "",
           "title": {
            "standoff": 15
           },
           "zerolinecolor": "white",
           "zerolinewidth": 2
          }
         }
        },
        "title": {
         "text": "Types of Anime"
        },
        "xaxis": {
         "anchor": "y",
         "domain": [
          0,
          1
         ],
         "title": {
          "text": "index"
         }
        },
        "yaxis": {
         "anchor": "x",
         "domain": [
          0,
          1
         ],
         "title": {
          "text": "value"
         }
        }
       }
      },
      "text/html": [
       "<div>                            <div id=\"55c50a57-f17f-45af-81de-a44c3619a37c\" class=\"plotly-graph-div\" style=\"height:525px; width:100%;\"></div>            <script type=\"text/javascript\">                require([\"plotly\"], function(Plotly) {                    window.PLOTLYENV=window.PLOTLYENV || {};                                    if (document.getElementById(\"55c50a57-f17f-45af-81de-a44c3619a37c\")) {                    Plotly.newPlot(                        \"55c50a57-f17f-45af-81de-a44c3619a37c\",                        [{\"alignmentgroup\":\"True\",\"hovertemplate\":\"variable=Certificate<br>index=%{x}<br>value=%{y}<extra></extra>\",\"legendgroup\":\"Certificate\",\"marker\":{\"color\":\"#636efa\",\"pattern\":{\"shape\":\"\"}},\"name\":\"Certificate\",\"offsetgroup\":\"Certificate\",\"orientation\":\"v\",\"showlegend\":true,\"textposition\":\"auto\",\"x\":[\"TV-14\",\"TV-MA\",\"TV-PG\",\"TV-Y7\",\"TV-Y\",\"TV-Y7-FV\",\"TV-G\",\"Not Rated\",\"PG\",\"UA\",\"16+\"],\"xaxis\":\"x\",\"y\":[157,124,88,58,27,19,19,5,1,1,1],\"yaxis\":\"y\",\"type\":\"bar\"}],                        {\"template\":{\"data\":{\"histogram2dcontour\":[{\"type\":\"histogram2dcontour\",\"colorbar\":{\"outlinewidth\":0,\"ticks\":\"\"},\"colorscale\":[[0.0,\"#0d0887\"],[0.1111111111111111,\"#46039f\"],[0.2222222222222222,\"#7201a8\"],[0.3333333333333333,\"#9c179e\"],[0.4444444444444444,\"#bd3786\"],[0.5555555555555556,\"#d8576b\"],[0.6666666666666666,\"#ed7953\"],[0.7777777777777778,\"#fb9f3a\"],[0.8888888888888888,\"#fdca26\"],[1.0,\"#f0f921\"]]}],\"choropleth\":[{\"type\":\"choropleth\",\"colorbar\":{\"outlinewidth\":0,\"ticks\":\"\"}}],\"histogram2d\":[{\"type\":\"histogram2d\",\"colorbar\":{\"outlinewidth\":0,\"ticks\":\"\"},\"colorscale\":[[0.0,\"#0d0887\"],[0.1111111111111111,\"#46039f\"],[0.2222222222222222,\"#7201a8\"],[0.3333333333333333,\"#9c179e\"],[0.4444444444444444,\"#bd3786\"],[0.5555555555555556,\"#d8576b\"],[0.6666666666666666,\"#ed7953\"],[0.7777777777777778,\"#fb9f3a\"],[0.8888888888888888,\"#fdca26\"],[1.0,\"#f0f921\"]]}],\"heatmap\":[{\"type\":\"heatmap\",\"colorbar\":{\"outlinewidth\":0,\"ticks\":\"\"},\"colorscale\":[[0.0,\"#0d0887\"],[0.1111111111111111,\"#46039f\"],[0.2222222222222222,\"#7201a8\"],[0.3333333333333333,\"#9c179e\"],[0.4444444444444444,\"#bd3786\"],[0.5555555555555556,\"#d8576b\"],[0.6666666666666666,\"#ed7953\"],[0.7777777777777778,\"#fb9f3a\"],[0.8888888888888888,\"#fdca26\"],[1.0,\"#f0f921\"]]}],\"heatmapgl\":[{\"type\":\"heatmapgl\",\"colorbar\":{\"outlinewidth\":0,\"ticks\":\"\"},\"colorscale\":[[0.0,\"#0d0887\"],[0.1111111111111111,\"#46039f\"],[0.2222222222222222,\"#7201a8\"],[0.3333333333333333,\"#9c179e\"],[0.4444444444444444,\"#bd3786\"],[0.5555555555555556,\"#d8576b\"],[0.6666666666666666,\"#ed7953\"],[0.7777777777777778,\"#fb9f3a\"],[0.8888888888888888,\"#fdca26\"],[1.0,\"#f0f921\"]]}],\"contourcarpet\":[{\"type\":\"contourcarpet\",\"colorbar\":{\"outlinewidth\":0,\"ticks\":\"\"}}],\"contour\":[{\"type\":\"contour\",\"colorbar\":{\"outlinewidth\":0,\"ticks\":\"\"},\"colorscale\":[[0.0,\"#0d0887\"],[0.1111111111111111,\"#46039f\"],[0.2222222222222222,\"#7201a8\"],[0.3333333333333333,\"#9c179e\"],[0.4444444444444444,\"#bd3786\"],[0.5555555555555556,\"#d8576b\"],[0.6666666666666666,\"#ed7953\"],[0.7777777777777778,\"#fb9f3a\"],[0.8888888888888888,\"#fdca26\"],[1.0,\"#f0f921\"]]}],\"surface\":[{\"type\":\"surface\",\"colorbar\":{\"outlinewidth\":0,\"ticks\":\"\"},\"colorscale\":[[0.0,\"#0d0887\"],[0.1111111111111111,\"#46039f\"],[0.2222222222222222,\"#7201a8\"],[0.3333333333333333,\"#9c179e\"],[0.4444444444444444,\"#bd3786\"],[0.5555555555555556,\"#d8576b\"],[0.6666666666666666,\"#ed7953\"],[0.7777777777777778,\"#fb9f3a\"],[0.8888888888888888,\"#fdca26\"],[1.0,\"#f0f921\"]]}],\"mesh3d\":[{\"type\":\"mesh3d\",\"colorbar\":{\"outlinewidth\":0,\"ticks\":\"\"}}],\"scatter\":[{\"fillpattern\":{\"fillmode\":\"overlay\",\"size\":10,\"solidity\":0.2},\"type\":\"scatter\"}],\"parcoords\":[{\"type\":\"parcoords\",\"line\":{\"colorbar\":{\"outlinewidth\":0,\"ticks\":\"\"}}}],\"scatterpolargl\":[{\"type\":\"scatterpolargl\",\"marker\":{\"colorbar\":{\"outlinewidth\":0,\"ticks\":\"\"}}}],\"bar\":[{\"error_x\":{\"color\":\"#2a3f5f\"},\"error_y\":{\"color\":\"#2a3f5f\"},\"marker\":{\"line\":{\"color\":\"#E5ECF6\",\"width\":0.5},\"pattern\":{\"fillmode\":\"overlay\",\"size\":10,\"solidity\":0.2}},\"type\":\"bar\"}],\"scattergeo\":[{\"type\":\"scattergeo\",\"marker\":{\"colorbar\":{\"outlinewidth\":0,\"ticks\":\"\"}}}],\"scatterpolar\":[{\"type\":\"scatterpolar\",\"marker\":{\"colorbar\":{\"outlinewidth\":0,\"ticks\":\"\"}}}],\"histogram\":[{\"marker\":{\"pattern\":{\"fillmode\":\"overlay\",\"size\":10,\"solidity\":0.2}},\"type\":\"histogram\"}],\"scattergl\":[{\"type\":\"scattergl\",\"marker\":{\"colorbar\":{\"outlinewidth\":0,\"ticks\":\"\"}}}],\"scatter3d\":[{\"type\":\"scatter3d\",\"line\":{\"colorbar\":{\"outlinewidth\":0,\"ticks\":\"\"}},\"marker\":{\"colorbar\":{\"outlinewidth\":0,\"ticks\":\"\"}}}],\"scattermapbox\":[{\"type\":\"scattermapbox\",\"marker\":{\"colorbar\":{\"outlinewidth\":0,\"ticks\":\"\"}}}],\"scatterternary\":[{\"type\":\"scatterternary\",\"marker\":{\"colorbar\":{\"outlinewidth\":0,\"ticks\":\"\"}}}],\"scattercarpet\":[{\"type\":\"scattercarpet\",\"marker\":{\"colorbar\":{\"outlinewidth\":0,\"ticks\":\"\"}}}],\"carpet\":[{\"aaxis\":{\"endlinecolor\":\"#2a3f5f\",\"gridcolor\":\"white\",\"linecolor\":\"white\",\"minorgridcolor\":\"white\",\"startlinecolor\":\"#2a3f5f\"},\"baxis\":{\"endlinecolor\":\"#2a3f5f\",\"gridcolor\":\"white\",\"linecolor\":\"white\",\"minorgridcolor\":\"white\",\"startlinecolor\":\"#2a3f5f\"},\"type\":\"carpet\"}],\"table\":[{\"cells\":{\"fill\":{\"color\":\"#EBF0F8\"},\"line\":{\"color\":\"white\"}},\"header\":{\"fill\":{\"color\":\"#C8D4E3\"},\"line\":{\"color\":\"white\"}},\"type\":\"table\"}],\"barpolar\":[{\"marker\":{\"line\":{\"color\":\"#E5ECF6\",\"width\":0.5},\"pattern\":{\"fillmode\":\"overlay\",\"size\":10,\"solidity\":0.2}},\"type\":\"barpolar\"}],\"pie\":[{\"automargin\":true,\"type\":\"pie\"}]},\"layout\":{\"autotypenumbers\":\"strict\",\"colorway\":[\"#636efa\",\"#EF553B\",\"#00cc96\",\"#ab63fa\",\"#FFA15A\",\"#19d3f3\",\"#FF6692\",\"#B6E880\",\"#FF97FF\",\"#FECB52\"],\"font\":{\"color\":\"#2a3f5f\"},\"hovermode\":\"closest\",\"hoverlabel\":{\"align\":\"left\"},\"paper_bgcolor\":\"white\",\"plot_bgcolor\":\"#E5ECF6\",\"polar\":{\"bgcolor\":\"#E5ECF6\",\"angularaxis\":{\"gridcolor\":\"white\",\"linecolor\":\"white\",\"ticks\":\"\"},\"radialaxis\":{\"gridcolor\":\"white\",\"linecolor\":\"white\",\"ticks\":\"\"}},\"ternary\":{\"bgcolor\":\"#E5ECF6\",\"aaxis\":{\"gridcolor\":\"white\",\"linecolor\":\"white\",\"ticks\":\"\"},\"baxis\":{\"gridcolor\":\"white\",\"linecolor\":\"white\",\"ticks\":\"\"},\"caxis\":{\"gridcolor\":\"white\",\"linecolor\":\"white\",\"ticks\":\"\"}},\"coloraxis\":{\"colorbar\":{\"outlinewidth\":0,\"ticks\":\"\"}},\"colorscale\":{\"sequential\":[[0.0,\"#0d0887\"],[0.1111111111111111,\"#46039f\"],[0.2222222222222222,\"#7201a8\"],[0.3333333333333333,\"#9c179e\"],[0.4444444444444444,\"#bd3786\"],[0.5555555555555556,\"#d8576b\"],[0.6666666666666666,\"#ed7953\"],[0.7777777777777778,\"#fb9f3a\"],[0.8888888888888888,\"#fdca26\"],[1.0,\"#f0f921\"]],\"sequentialminus\":[[0.0,\"#0d0887\"],[0.1111111111111111,\"#46039f\"],[0.2222222222222222,\"#7201a8\"],[0.3333333333333333,\"#9c179e\"],[0.4444444444444444,\"#bd3786\"],[0.5555555555555556,\"#d8576b\"],[0.6666666666666666,\"#ed7953\"],[0.7777777777777778,\"#fb9f3a\"],[0.8888888888888888,\"#fdca26\"],[1.0,\"#f0f921\"]],\"diverging\":[[0,\"#8e0152\"],[0.1,\"#c51b7d\"],[0.2,\"#de77ae\"],[0.3,\"#f1b6da\"],[0.4,\"#fde0ef\"],[0.5,\"#f7f7f7\"],[0.6,\"#e6f5d0\"],[0.7,\"#b8e186\"],[0.8,\"#7fbc41\"],[0.9,\"#4d9221\"],[1,\"#276419\"]]},\"xaxis\":{\"gridcolor\":\"white\",\"linecolor\":\"white\",\"ticks\":\"\",\"title\":{\"standoff\":15},\"zerolinecolor\":\"white\",\"automargin\":true,\"zerolinewidth\":2},\"yaxis\":{\"gridcolor\":\"white\",\"linecolor\":\"white\",\"ticks\":\"\",\"title\":{\"standoff\":15},\"zerolinecolor\":\"white\",\"automargin\":true,\"zerolinewidth\":2},\"scene\":{\"xaxis\":{\"backgroundcolor\":\"#E5ECF6\",\"gridcolor\":\"white\",\"linecolor\":\"white\",\"showbackground\":true,\"ticks\":\"\",\"zerolinecolor\":\"white\",\"gridwidth\":2},\"yaxis\":{\"backgroundcolor\":\"#E5ECF6\",\"gridcolor\":\"white\",\"linecolor\":\"white\",\"showbackground\":true,\"ticks\":\"\",\"zerolinecolor\":\"white\",\"gridwidth\":2},\"zaxis\":{\"backgroundcolor\":\"#E5ECF6\",\"gridcolor\":\"white\",\"linecolor\":\"white\",\"showbackground\":true,\"ticks\":\"\",\"zerolinecolor\":\"white\",\"gridwidth\":2}},\"shapedefaults\":{\"line\":{\"color\":\"#2a3f5f\"}},\"annotationdefaults\":{\"arrowcolor\":\"#2a3f5f\",\"arrowhead\":0,\"arrowwidth\":1},\"geo\":{\"bgcolor\":\"white\",\"landcolor\":\"#E5ECF6\",\"subunitcolor\":\"white\",\"showland\":true,\"showlakes\":true,\"lakecolor\":\"white\"},\"title\":{\"x\":0.05},\"mapbox\":{\"style\":\"light\"}}},\"xaxis\":{\"anchor\":\"y\",\"domain\":[0.0,1.0],\"title\":{\"text\":\"index\"}},\"yaxis\":{\"anchor\":\"x\",\"domain\":[0.0,1.0],\"title\":{\"text\":\"value\"}},\"legend\":{\"title\":{\"text\":\"variable\"},\"tracegroupgap\":0},\"title\":{\"text\":\"Types of Anime\"},\"barmode\":\"relative\"},                        {\"responsive\": true}                    ).then(function(){\n",
       "                            \n",
       "var gd = document.getElementById('55c50a57-f17f-45af-81de-a44c3619a37c');\n",
       "var x = new MutationObserver(function (mutations, observer) {{\n",
       "        var display = window.getComputedStyle(gd).display;\n",
       "        if (!display || display === 'none') {{\n",
       "            console.log([gd, 'removed!']);\n",
       "            Plotly.purge(gd);\n",
       "            observer.disconnect();\n",
       "        }}\n",
       "}});\n",
       "\n",
       "// Listen for the removal of the full notebook cells\n",
       "var notebookContainer = gd.closest('#notebook-container');\n",
       "if (notebookContainer) {{\n",
       "    x.observe(notebookContainer, {childList: true});\n",
       "}}\n",
       "\n",
       "// Listen for the clearing of the current output cell\n",
       "var outputEl = gd.closest('.output');\n",
       "if (outputEl) {{\n",
       "    x.observe(outputEl, {childList: true});\n",
       "}}\n",
       "\n",
       "                        })                };                });            </script>        </div>"
      ]
     },
     "metadata": {},
     "output_type": "display_data"
    }
   ],
   "source": [
    "px.bar(df['Certificate'].value_counts(),title='Types of Anime')"
   ]
  },
  {
   "cell_type": "code",
   "execution_count": 195,
   "id": "07af73cd",
   "metadata": {},
   "outputs": [],
   "source": [
    "# Univariant : \n",
    "# In the above picture we have used plotly library i.e bar  above\n",
    "# It shows the types of certificates and its densities.\n",
    "# Tv-14: shows may be unsuitable for children under 14, TV-MA: Mature audiences,TV-PG:Parental guidance\n",
    "# Tv-Y7:designed for chil- dren ages 7 and older,TV-G:Television Guardian"
   ]
  },
  {
   "cell_type": "markdown",
   "id": "cc1660ca",
   "metadata": {},
   "source": [
    "In the above plot we are showing the different Certificate counts in our Series dataframe"
   ]
  },
  {
   "cell_type": "code",
   "execution_count": 1,
   "id": "0e20fbe6",
   "metadata": {},
   "outputs": [
    {
     "ename": "NameError",
     "evalue": "name 'sns' is not defined",
     "output_type": "error",
     "traceback": [
      "\u001b[1;31m---------------------------------------------------------------------------\u001b[0m",
      "\u001b[1;31mNameError\u001b[0m                                 Traceback (most recent call last)",
      "\u001b[1;32m~\\AppData\\Local\\Temp\\ipykernel_13456\\1942819469.py\u001b[0m in \u001b[0;36m<module>\u001b[1;34m\u001b[0m\n\u001b[1;32m----> 1\u001b[1;33m \u001b[0msns\u001b[0m\u001b[1;33m.\u001b[0m\u001b[0mhistplot\u001b[0m\u001b[1;33m(\u001b[0m\u001b[0mdf\u001b[0m\u001b[1;33m[\u001b[0m\u001b[1;34m'Runtime (min)'\u001b[0m\u001b[1;33m]\u001b[0m\u001b[1;33m)\u001b[0m\u001b[1;33m\u001b[0m\u001b[1;33m\u001b[0m\u001b[0m\n\u001b[0m\u001b[0;32m      2\u001b[0m \u001b[0mplt\u001b[0m\u001b[1;33m.\u001b[0m\u001b[0mshow\u001b[0m\u001b[1;33m(\u001b[0m\u001b[1;33m)\u001b[0m\u001b[1;33m\u001b[0m\u001b[1;33m\u001b[0m\u001b[0m\n",
      "\u001b[1;31mNameError\u001b[0m: name 'sns' is not defined"
     ]
    }
   ],
   "source": [
    "sns.histplot(df['Runtime (min)'])\n",
    "plt.show()"
   ]
  },
  {
   "cell_type": "code",
   "execution_count": 200,
   "id": "514855bd",
   "metadata": {},
   "outputs": [
    {
     "data": {
      "text/plain": [
       "24     150\n",
       "30      76\n",
       "23      76\n",
       "25      62\n",
       "22      46\n",
       "11      16\n",
       "15       9\n",
       "12       7\n",
       "7        6\n",
       "21       6\n",
       "26       5\n",
       "10       5\n",
       "5        3\n",
       "20       3\n",
       "3        2\n",
       "55       2\n",
       "41       2\n",
       "50       2\n",
       "32       1\n",
       "360      1\n",
       "4        1\n",
       "522      1\n",
       "8        1\n",
       "701      1\n",
       "133      1\n",
       "174      1\n",
       "99       1\n",
       "384      1\n",
       "6        1\n",
       "90       1\n",
       "2        1\n",
       "900      1\n",
       "45       1\n",
       "27       1\n",
       "60       1\n",
       "325      1\n",
       "29       1\n",
       "203      1\n",
       "28       1\n",
       "13       1\n",
       "Name: Runtime (min), dtype: int64"
      ]
     },
     "execution_count": 200,
     "metadata": {},
     "output_type": "execute_result"
    }
   ],
   "source": [
    "df['Runtime (min)'].value_counts()\n",
    "#count of number of runtimes with runtime"
   ]
  },
  {
   "cell_type": "code",
   "execution_count": 201,
   "id": "b710f411",
   "metadata": {},
   "outputs": [
    {
     "name": "stderr",
     "output_type": "stream",
     "text": [
      "C:\\Users\\vamsi\\anaconda3\\lib\\site-packages\\seaborn\\distributions.py:2619: FutureWarning:\n",
      "\n",
      "`distplot` is a deprecated function and will be removed in a future version. Please adapt your code to use either `displot` (a figure-level function with similar flexibility) or `histplot` (an axes-level function for histograms).\n",
      "\n"
     ]
    },
    {
     "data": {
      "image/png": "[encoded data removed]",
      "text/plain": [
       "<Figure size 640x480 with 1 Axes>"
      ]
     },
     "metadata": {},
     "output_type": "display_data"
    }
   ],
   "source": [
    "sns.distplot(df['Rating'])\n",
    "plt.title('Density of Rating ')\n",
    "plt.show()\n",
    "#in the below plot it shows the density of ratings started over rating"
   ]
  },
  {
   "cell_type": "code",
   "execution_count": 289,
   "id": "4df83622",
   "metadata": {},
   "outputs": [
    {
     "data": {
      "image/png": "[encoded data removed]",
      "text/plain": [
       "<Figure size 640x480 with 1 Axes>"
      ]
     },
     "metadata": {},
     "output_type": "display_data"
    }
   ],
   "source": [
    "sns.histplot(df['Rating'])\n",
    "plt.title('Density of Rating ')\n",
    "plt.show()\n",
    "#density of rating according to their ratings from start to end."
   ]
  },
  {
   "cell_type": "code",
   "execution_count": 203,
   "id": "cb46e39e",
   "metadata": {},
   "outputs": [],
   "source": [
    "# Univariant : \n",
    "# In the above picture we have used Seaborn library i.e distplot  above\n",
    "# It shows the types of Rating and its densities.\n",
    "# the density is more between 7.7 to 9.5"
   ]
  },
  {
   "cell_type": "code",
   "execution_count": 436,
   "id": "6ec12baa",
   "metadata": {},
   "outputs": [
    {
     "data": {
      "text/plain": [
       " Action, Adventure    183\n",
       " Comedy, Drama         50\n",
       " Adventure, Comedy     42\n",
       " Action, Comedy        27\n",
       " Comedy, Comedy        19\n",
       " Action, Drama         15\n",
       " Adventure, Drama      14\n",
       " Short, Adventure      13\n",
       " Comedy, Family        12\n",
       " Comedy, Fantasy       11\n",
       "Name: Genre, dtype: int64"
      ]
     },
     "execution_count": 436,
     "metadata": {},
     "output_type": "execute_result"
    }
   ],
   "source": [
    "df['Genre'].value_counts().head(10)\n",
    "#count of genre in dataframe."
   ]
  },
  {
   "cell_type": "code",
   "execution_count": 438,
   "id": "2730c363",
   "metadata": {},
   "outputs": [],
   "source": [
    "#px.bar(df['Genre'].value_counts().head(10),title='Types of Genre')\n"
   ]
  },
  {
   "cell_type": "code",
   "execution_count": 295,
   "id": "66fa5030",
   "metadata": {},
   "outputs": [],
   "source": [
    "#Univariant : \n",
    "# In the above pictures we have used plotly library i.e bar  above\n",
    "# It shows the number of Genre and its counts"
   ]
  },
  {
   "cell_type": "code",
   "execution_count": 206,
   "id": "04f58487",
   "metadata": {},
   "outputs": [
    {
     "name": "stderr",
     "output_type": "stream",
     "text": [
      "C:\\Users\\vamsi\\anaconda3\\lib\\site-packages\\seaborn\\_decorators.py:36: FutureWarning:\n",
      "\n",
      "Pass the following variable as a keyword arg: x. From version 0.12, the only valid positional argument will be `data`, and passing other arguments without an explicit keyword will result in an error or misinterpretation.\n",
      "\n"
     ]
    },
    {
     "data": {
      "image/png": "[encoded data removed]",
      "text/plain": [
       "<Figure size 2500x1000 with 1 Axes>"
      ]
     },
     "metadata": {},
     "output_type": "display_data"
    }
   ],
   "source": [
    "fig, ax = plt.subplots(figsize=(25,10))\n",
    "sns.countplot('Start year', data=df)\n",
    "plt.title('Start year and its count')\n",
    "sns.set(font_scale=1)\n",
    "plt.xticks(rotation=90);\n",
    "#This plot shows the number of series released in each year."
   ]
  },
  {
   "cell_type": "markdown",
   "id": "9c27cfa3",
   "metadata": {},
   "source": [
    "# Bi Varient Analysis"
   ]
  },
  {
   "cell_type": "code",
   "execution_count": 208,
   "id": "4fe9f5ff",
   "metadata": {},
   "outputs": [
    {
     "data": {
      "text/plain": [
       "Text(0.5, 1.0, 'Highest Ratings with the year of start ')"
      ]
     },
     "execution_count": 208,
     "metadata": {},
     "output_type": "execute_result"
    },
    {
     "data": {
      "image/png": "[encoded data removed]",
      "text/plain": [
       "<Figure size 640x480 with 1 Axes>"
      ]
     },
     "metadata": {},
     "output_type": "display_data"
    }
   ],
   "source": [
    "sns.lineplot(x = 'Start year', y = 'Rating', data = df)\n",
    "plt.title('Highest Ratings with the year of start ')\n",
    "#highest rating of the show with its year."
   ]
  },
  {
   "cell_type": "code",
   "execution_count": 209,
   "id": "e799d14a",
   "metadata": {},
   "outputs": [],
   "source": [
    "# Bivariant : \n",
    "# In the above picture we have used Seaborn library i.e line plot  above\n",
    "# It shows the Highest Rating with respect to start year.\n",
    "# We can notice that there is a spike in Rating between 1986-1987"
   ]
  },
  {
   "cell_type": "code",
   "execution_count": 440,
   "id": "f954cfca",
   "metadata": {},
   "outputs": [
    {
     "data": {
      "text/html": [
       "<div>\n",
       "<style scoped>\n",
       "    .dataframe tbody tr th:only-of-type {\n",
       "        vertical-align: middle;\n",
       "    }\n",
       "\n",
       "    .dataframe tbody tr th {\n",
       "        vertical-align: top;\n",
       "    }\n",
       "\n",
       "    .dataframe thead th {\n",
       "        text-align: right;\n",
       "    }\n",
       "</style>\n",
       "<table border=\"1\" class=\"dataframe\">\n",
       "  <thead>\n",
       "    <tr style=\"text-align: right;\">\n",
       "      <th></th>\n",
       "      <th>Votes</th>\n",
       "    </tr>\n",
       "    <tr>\n",
       "      <th>Titles</th>\n",
       "      <th></th>\n",
       "    </tr>\n",
       "  </thead>\n",
       "  <tbody>\n",
       "    <tr>\n",
       "      <th>Rick and Morty</th>\n",
       "      <td>554944</td>\n",
       "    </tr>\n",
       "    <tr>\n",
       "      <th>The Simpsons</th>\n",
       "      <td>419074</td>\n",
       "    </tr>\n",
       "    <tr>\n",
       "      <th>Attack on Titan</th>\n",
       "      <td>414958</td>\n",
       "    </tr>\n",
       "    <tr>\n",
       "      <th>South Park</th>\n",
       "      <td>389624</td>\n",
       "    </tr>\n",
       "    <tr>\n",
       "      <th>Family Guy</th>\n",
       "      <td>351498</td>\n",
       "    </tr>\n",
       "    <tr>\n",
       "      <th>Death Note</th>\n",
       "      <td>345495</td>\n",
       "    </tr>\n",
       "    <tr>\n",
       "      <th>Avatar: The Last Airbender</th>\n",
       "      <td>333861</td>\n",
       "    </tr>\n",
       "    <tr>\n",
       "      <th>Futurama</th>\n",
       "      <td>246880</td>\n",
       "    </tr>\n",
       "    <tr>\n",
       "      <th>Arcane</th>\n",
       "      <td>231331</td>\n",
       "    </tr>\n",
       "    <tr>\n",
       "      <th>Love, Death &amp; Robots</th>\n",
       "      <td>180565</td>\n",
       "    </tr>\n",
       "  </tbody>\n",
       "</table>\n",
       "</div>"
      ],
      "text/plain": [
       "                             Votes\n",
       "Titles                            \n",
       "Rick and Morty              554944\n",
       "The Simpsons                419074\n",
       "Attack on Titan             414958\n",
       "South Park                  389624\n",
       "Family Guy                  351498\n",
       "Death Note                  345495\n",
       "Avatar: The Last Airbender  333861\n",
       "Futurama                    246880\n",
       "Arcane                      231331\n",
       "Love, Death & Robots        180565"
      ]
     },
     "execution_count": 440,
     "metadata": {},
     "output_type": "execute_result"
    }
   ],
   "source": [
    "top10_len=df.nlargest(10,'Votes')[['Titles','Votes']]\n",
    "a=top10_len.set_index('Titles')\n",
    "a\n",
    "#top 10 series with most votes."
   ]
  },
  {
   "cell_type": "code",
   "execution_count": 214,
   "id": "02b31676",
   "metadata": {},
   "outputs": [
    {
     "data": {
      "text/plain": [
       "Text(0.5, 1.0, 'Top 10 series with respect to votes')"
      ]
     },
     "execution_count": 214,
     "metadata": {},
     "output_type": "execute_result"
    },
    {
     "data": {
      "image/png": "[encoded data removed]",
      "text/plain": [
       "<Figure size 640x480 with 1 Axes>"
      ]
     },
     "metadata": {},
     "output_type": "display_data"
    }
   ],
   "source": [
    "sns.barplot(x=a.index,y='Votes',data=top10_len)\n",
    "plt.xticks(rotation=90);\n",
    "plt.title('Top 10 series with respect to votes')\n",
    "#this plot shows the top 10 series according to votes."
   ]
  },
  {
   "cell_type": "code",
   "execution_count": null,
   "id": "51ba7310",
   "metadata": {},
   "outputs": [],
   "source": [
    "# Bivariant : \n",
    "# In the above picture we have used Seaborn library i.e bar plot  above\n",
    "# It shows the top 10 series with respect to voting number \n",
    "# We can observe that the attack on titan series has most numbers of votes.\n"
   ]
  },
  {
   "cell_type": "code",
   "execution_count": 215,
   "id": "a8fb0ad3",
   "metadata": {},
   "outputs": [
    {
     "data": {
      "text/html": [
       "<div>\n",
       "<style scoped>\n",
       "    .dataframe tbody tr th:only-of-type {\n",
       "        vertical-align: middle;\n",
       "    }\n",
       "\n",
       "    .dataframe tbody tr th {\n",
       "        vertical-align: top;\n",
       "    }\n",
       "\n",
       "    .dataframe thead th {\n",
       "        text-align: right;\n",
       "    }\n",
       "</style>\n",
       "<table border=\"1\" class=\"dataframe\">\n",
       "  <thead>\n",
       "    <tr style=\"text-align: right;\">\n",
       "      <th></th>\n",
       "      <th>Rating</th>\n",
       "    </tr>\n",
       "    <tr>\n",
       "      <th>Titles</th>\n",
       "      <th></th>\n",
       "    </tr>\n",
       "  </thead>\n",
       "  <tbody>\n",
       "    <tr>\n",
       "      <th>Bluey</th>\n",
       "      <td>9.5</td>\n",
       "    </tr>\n",
       "    <tr>\n",
       "      <th>Avatar: The Last Airbender</th>\n",
       "      <td>9.3</td>\n",
       "    </tr>\n",
       "    <tr>\n",
       "      <th>The Big Lez Show</th>\n",
       "      <td>9.2</td>\n",
       "    </tr>\n",
       "    <tr>\n",
       "      <th>Dragon Ball Z Abridged</th>\n",
       "      <td>9.2</td>\n",
       "    </tr>\n",
       "    <tr>\n",
       "      <th>Rick and Morty</th>\n",
       "      <td>9.1</td>\n",
       "    </tr>\n",
       "    <tr>\n",
       "      <th>Attack on Titan</th>\n",
       "      <td>9.1</td>\n",
       "    </tr>\n",
       "    <tr>\n",
       "      <th>Fullmetal Alchemist: Brotherhood</th>\n",
       "      <td>9.1</td>\n",
       "    </tr>\n",
       "    <tr>\n",
       "      <th>Bleach: Thousand-Year Blood War</th>\n",
       "      <td>9.1</td>\n",
       "    </tr>\n",
       "    <tr>\n",
       "      <th>The Legend of Hanuman</th>\n",
       "      <td>9.1</td>\n",
       "    </tr>\n",
       "    <tr>\n",
       "      <th>Jorel's Brother</th>\n",
       "      <td>9.1</td>\n",
       "    </tr>\n",
       "  </tbody>\n",
       "</table>\n",
       "</div>"
      ],
      "text/plain": [
       "                                  Rating\n",
       "Titles                                  \n",
       "Bluey                                9.5\n",
       "Avatar: The Last Airbender           9.3\n",
       "The Big Lez Show                     9.2\n",
       "Dragon Ball Z Abridged               9.2\n",
       "Rick and Morty                       9.1\n",
       "Attack on Titan                      9.1\n",
       "Fullmetal Alchemist: Brotherhood     9.1\n",
       "Bleach: Thousand-Year Blood War      9.1\n",
       "The Legend of Hanuman                9.1\n",
       "Jorel's Brother                      9.1"
      ]
     },
     "execution_count": 215,
     "metadata": {},
     "output_type": "execute_result"
    }
   ],
   "source": [
    "top10_len=df.nlargest(10,'Rating')[['Titles','Rating']]\n",
    "a=top10_len.set_index('Titles')\n",
    "a\n",
    "#top 10 titles by its rating."
   ]
  },
  {
   "cell_type": "code",
   "execution_count": 216,
   "id": "5d71361f",
   "metadata": {},
   "outputs": [
    {
     "name": "stderr",
     "output_type": "stream",
     "text": [
      "No artists with labels found to put in legend.  Note that artists whose label start with an underscore are ignored when legend() is called with no argument.\n"
     ]
    },
    {
     "data": {
      "text/plain": [
       "<matplotlib.legend.Legend at 0x1ad4ba237f0>"
      ]
     },
     "execution_count": 216,
     "metadata": {},
     "output_type": "execute_result"
    },
    {
     "data": {
      "image/png": "[encoded data removed]",
      "text/plain": [
       "<Figure size 640x480 with 1 Axes>"
      ]
     },
     "metadata": {},
     "output_type": "display_data"
    }
   ],
   "source": [
    "sns.barplot(x='Rating',y=a.index,data=a,dodge=False)\n",
    "plt.legend(bbox_to_anchor=(1.05,1),loc=2)\n",
    "#the plot of top 10 shows with their ratings."
   ]
  },
  {
   "cell_type": "code",
   "execution_count": 298,
   "id": "aad36aea",
   "metadata": {},
   "outputs": [
    {
     "data": {
      "text/html": [
       "<div>\n",
       "<style scoped>\n",
       "    .dataframe tbody tr th:only-of-type {\n",
       "        vertical-align: middle;\n",
       "    }\n",
       "\n",
       "    .dataframe tbody tr th {\n",
       "        vertical-align: top;\n",
       "    }\n",
       "\n",
       "    .dataframe thead th {\n",
       "        text-align: right;\n",
       "    }\n",
       "</style>\n",
       "<table border=\"1\" class=\"dataframe\">\n",
       "  <thead>\n",
       "    <tr style=\"text-align: right;\">\n",
       "      <th></th>\n",
       "      <th>Runtime (min)</th>\n",
       "    </tr>\n",
       "    <tr>\n",
       "      <th>Titles</th>\n",
       "      <th></th>\n",
       "    </tr>\n",
       "  </thead>\n",
       "  <tbody>\n",
       "    <tr>\n",
       "      <th>The Adventures of Tintin</th>\n",
       "      <td>900</td>\n",
       "    </tr>\n",
       "    <tr>\n",
       "      <th>Lovely Complex</th>\n",
       "      <td>701</td>\n",
       "    </tr>\n",
       "    <tr>\n",
       "      <th>The Road Runner Show</th>\n",
       "      <td>522</td>\n",
       "    </tr>\n",
       "    <tr>\n",
       "      <th>Mike Tyson Mysteries</th>\n",
       "      <td>384</td>\n",
       "    </tr>\n",
       "    <tr>\n",
       "      <th>Transformers Prime</th>\n",
       "      <td>360</td>\n",
       "    </tr>\n",
       "    <tr>\n",
       "      <th>Spy x Family</th>\n",
       "      <td>325</td>\n",
       "    </tr>\n",
       "    <tr>\n",
       "      <th>The Boondocks</th>\n",
       "      <td>203</td>\n",
       "    </tr>\n",
       "    <tr>\n",
       "      <th>Bob's Burgers</th>\n",
       "      <td>174</td>\n",
       "    </tr>\n",
       "    <tr>\n",
       "      <th>Thunderbirds</th>\n",
       "      <td>133</td>\n",
       "    </tr>\n",
       "    <tr>\n",
       "      <th>Mission Hill</th>\n",
       "      <td>99</td>\n",
       "    </tr>\n",
       "  </tbody>\n",
       "</table>\n",
       "</div>"
      ],
      "text/plain": [
       "                          Runtime (min)\n",
       "Titles                                 \n",
       "The Adventures of Tintin            900\n",
       "Lovely Complex                      701\n",
       "The Road Runner Show                522\n",
       "Mike Tyson Mysteries                384\n",
       "Transformers Prime                  360\n",
       "Spy x Family                        325\n",
       "The Boondocks                       203\n",
       "Bob's Burgers                       174\n",
       "Thunderbirds                        133\n",
       "Mission Hill                         99"
      ]
     },
     "execution_count": 298,
     "metadata": {},
     "output_type": "execute_result"
    }
   ],
   "source": [
    "top10_len=df.nlargest(10,'Runtime (min)')[['Titles','Runtime (min)']]\n",
    "a=top10_len.set_index('Titles')\n",
    "a\n"
   ]
  },
  {
   "cell_type": "code",
   "execution_count": 299,
   "id": "9ebe3c5c",
   "metadata": {},
   "outputs": [
    {
     "name": "stderr",
     "output_type": "stream",
     "text": [
      "No artists with labels found to put in legend.  Note that artists whose label start with an underscore are ignored when legend() is called with no argument.\n"
     ]
    },
    {
     "data": {
      "text/plain": [
       "Text(0.5, 1.0, 'Top 10 series with runtime')"
      ]
     },
     "execution_count": 299,
     "metadata": {},
     "output_type": "execute_result"
    },
    {
     "data": {
      "image/png": "[encoded data removed]",
      "text/plain": [
       "<Figure size 640x480 with 1 Axes>"
      ]
     },
     "metadata": {},
     "output_type": "display_data"
    }
   ],
   "source": [
    "sns.barplot(x='Runtime (min)',y=a.index,data=a,dodge=False)\n",
    "plt.legend(bbox_to_anchor=(1.05,1),loc=2)\n",
    "plt.title('Top 10 series with runtime')"
   ]
  },
  {
   "cell_type": "code",
   "execution_count": 219,
   "id": "468eb7cd",
   "metadata": {},
   "outputs": [],
   "source": [
    "# Bivariant : \n",
    "# In the above picture we have used Seaborn library i.e bar plot  above\n",
    "# It shows the top 10 series with respect to runtime, We can observe wolf's Rain has the highest duration in our dataframe."
   ]
  },
  {
   "cell_type": "code",
   "execution_count": 3,
   "id": "0593f88e",
   "metadata": {},
   "outputs": [
    {
     "ename": "NameError",
     "evalue": "name 'px' is not defined",
     "output_type": "error",
     "traceback": [
      "\u001b[1;31m---------------------------------------------------------------------------\u001b[0m",
      "\u001b[1;31mNameError\u001b[0m                                 Traceback (most recent call last)",
      "\u001b[1;32m~\\AppData\\Local\\Temp\\ipykernel_13456\\3860849164.py\u001b[0m in \u001b[0;36m<module>\u001b[1;34m\u001b[0m\n\u001b[1;32m----> 1\u001b[1;33m \u001b[0mpx\u001b[0m\u001b[1;33m.\u001b[0m\u001b[0mscatter\u001b[0m\u001b[1;33m(\u001b[0m\u001b[0mdf\u001b[0m\u001b[1;33m,\u001b[0m\u001b[0mx\u001b[0m\u001b[1;33m=\u001b[0m\u001b[1;34m'Votes'\u001b[0m\u001b[1;33m,\u001b[0m\u001b[0my\u001b[0m\u001b[1;33m=\u001b[0m\u001b[1;34m'Rating'\u001b[0m\u001b[1;33m,\u001b[0m\u001b[0mtitle\u001b[0m\u001b[1;33m=\u001b[0m\u001b[1;34m'Density of votes with respect to Rating'\u001b[0m\u001b[1;33m)\u001b[0m\u001b[1;33m\u001b[0m\u001b[1;33m\u001b[0m\u001b[0m\n\u001b[0m",
      "\u001b[1;31mNameError\u001b[0m: name 'px' is not defined"
     ]
    }
   ],
   "source": [
    "px.scatter(df,x='Votes',y='Rating',title='Density of votes with respect to Rating')"
   ]
  },
  {
   "cell_type": "code",
   "execution_count": 302,
   "id": "264cbc6d",
   "metadata": {},
   "outputs": [],
   "source": [
    "# Bivariant  \n",
    "# In the above picture we have used plotly library i.e scater plot  above\n",
    "# It shows the Density of Rating with respect to Votes \n",
    " "
   ]
  },
  {
   "cell_type": "code",
   "execution_count": 310,
   "id": "47f7e3cf",
   "metadata": {},
   "outputs": [
    {
     "data": {
      "text/plain": [
       "Text(0.5, 1.0, 'Density of Votes with respect to runtime')"
      ]
     },
     "execution_count": 310,
     "metadata": {},
     "output_type": "execute_result"
    },
    {
     "data": {
      "image/png": "[encoded data removed]",
      "text/plain": [
       "<Figure size 640x480 with 1 Axes>"
      ]
     },
     "metadata": {},
     "output_type": "display_data"
    }
   ],
   "source": [
    "sns.scatterplot(data=df,x='Runtime (min)',y='Votes')\n",
    "plt.title('Density of Votes with respect to runtime')"
   ]
  },
  {
   "cell_type": "code",
   "execution_count": 304,
   "id": "41026212",
   "metadata": {},
   "outputs": [],
   "source": [
    "# Bivariant\n",
    "# In the above picture we have used Seaborn library i.e Scatter plot  above\n",
    "# It shows the density of votes is max beeen 0-100 runtime \n",
    "# We can observe that the when the runtime is less it has more number of votes."
   ]
  },
  {
   "cell_type": "code",
   "execution_count": 305,
   "id": "08291c07",
   "metadata": {},
   "outputs": [
    {
     "ename": "ValueError",
     "evalue": "Could not interpret value `Genre` for parameter `x`",
     "output_type": "error",
     "traceback": [
      "\u001b[1;31m---------------------------------------------------------------------------\u001b[0m",
      "\u001b[1;31mValueError\u001b[0m                                Traceback (most recent call last)",
      "\u001b[1;32m~\\AppData\\Local\\Temp\\ipykernel_10932\\1771213005.py\u001b[0m in \u001b[0;36m<module>\u001b[1;34m\u001b[0m\n\u001b[1;32m----> 1\u001b[1;33m \u001b[0msns\u001b[0m\u001b[1;33m.\u001b[0m\u001b[0mscatterplot\u001b[0m\u001b[1;33m(\u001b[0m\u001b[0mdata\u001b[0m\u001b[1;33m=\u001b[0m\u001b[0mdf\u001b[0m\u001b[1;33m,\u001b[0m\u001b[0mx\u001b[0m\u001b[1;33m=\u001b[0m\u001b[1;34m'Genre'\u001b[0m\u001b[1;33m,\u001b[0m\u001b[0my\u001b[0m\u001b[1;33m=\u001b[0m\u001b[1;34m'Rating'\u001b[0m\u001b[1;33m)\u001b[0m\u001b[1;33m\u001b[0m\u001b[1;33m\u001b[0m\u001b[0m\n\u001b[0m\u001b[0;32m      2\u001b[0m \u001b[0mplt\u001b[0m\u001b[1;33m.\u001b[0m\u001b[0mxticks\u001b[0m\u001b[1;33m(\u001b[0m\u001b[0mrotation\u001b[0m\u001b[1;33m=\u001b[0m\u001b[1;36m90\u001b[0m\u001b[1;33m)\u001b[0m\u001b[1;33m;\u001b[0m\u001b[1;33m\u001b[0m\u001b[1;33m\u001b[0m\u001b[0m\n\u001b[0;32m      3\u001b[0m \u001b[0mplt\u001b[0m\u001b[1;33m.\u001b[0m\u001b[0mtitle\u001b[0m\u001b[1;33m(\u001b[0m\u001b[1;34m'Genre v/s Rating'\u001b[0m\u001b[1;33m)\u001b[0m\u001b[1;33m\u001b[0m\u001b[1;33m\u001b[0m\u001b[0m\n",
      "\u001b[1;32m~\\anaconda3\\lib\\site-packages\\seaborn\\_decorators.py\u001b[0m in \u001b[0;36minner_f\u001b[1;34m(*args, **kwargs)\u001b[0m\n\u001b[0;32m     44\u001b[0m             )\n\u001b[0;32m     45\u001b[0m         \u001b[0mkwargs\u001b[0m\u001b[1;33m.\u001b[0m\u001b[0mupdate\u001b[0m\u001b[1;33m(\u001b[0m\u001b[1;33m{\u001b[0m\u001b[0mk\u001b[0m\u001b[1;33m:\u001b[0m \u001b[0marg\u001b[0m \u001b[1;32mfor\u001b[0m \u001b[0mk\u001b[0m\u001b[1;33m,\u001b[0m \u001b[0marg\u001b[0m \u001b[1;32min\u001b[0m \u001b[0mzip\u001b[0m\u001b[1;33m(\u001b[0m\u001b[0msig\u001b[0m\u001b[1;33m.\u001b[0m\u001b[0mparameters\u001b[0m\u001b[1;33m,\u001b[0m \u001b[0margs\u001b[0m\u001b[1;33m)\u001b[0m\u001b[1;33m}\u001b[0m\u001b[1;33m)\u001b[0m\u001b[1;33m\u001b[0m\u001b[1;33m\u001b[0m\u001b[0m\n\u001b[1;32m---> 46\u001b[1;33m         \u001b[1;32mreturn\u001b[0m \u001b[0mf\u001b[0m\u001b[1;33m(\u001b[0m\u001b[1;33m**\u001b[0m\u001b[0mkwargs\u001b[0m\u001b[1;33m)\u001b[0m\u001b[1;33m\u001b[0m\u001b[1;33m\u001b[0m\u001b[0m\n\u001b[0m\u001b[0;32m     47\u001b[0m     \u001b[1;32mreturn\u001b[0m \u001b[0minner_f\u001b[0m\u001b[1;33m\u001b[0m\u001b[1;33m\u001b[0m\u001b[0m\n\u001b[0;32m     48\u001b[0m \u001b[1;33m\u001b[0m\u001b[0m\n",
      "\u001b[1;32m~\\anaconda3\\lib\\site-packages\\seaborn\\relational.py\u001b[0m in \u001b[0;36mscatterplot\u001b[1;34m(x, y, hue, style, size, data, palette, hue_order, hue_norm, sizes, size_order, size_norm, markers, style_order, x_bins, y_bins, units, estimator, ci, n_boot, alpha, x_jitter, y_jitter, legend, ax, **kwargs)\u001b[0m\n\u001b[0;32m    806\u001b[0m \u001b[1;33m\u001b[0m\u001b[0m\n\u001b[0;32m    807\u001b[0m     \u001b[0mvariables\u001b[0m \u001b[1;33m=\u001b[0m \u001b[0m_ScatterPlotter\u001b[0m\u001b[1;33m.\u001b[0m\u001b[0mget_semantics\u001b[0m\u001b[1;33m(\u001b[0m\u001b[0mlocals\u001b[0m\u001b[1;33m(\u001b[0m\u001b[1;33m)\u001b[0m\u001b[1;33m)\u001b[0m\u001b[1;33m\u001b[0m\u001b[1;33m\u001b[0m\u001b[0m\n\u001b[1;32m--> 808\u001b[1;33m     p = _ScatterPlotter(\n\u001b[0m\u001b[0;32m    809\u001b[0m         \u001b[0mdata\u001b[0m\u001b[1;33m=\u001b[0m\u001b[0mdata\u001b[0m\u001b[1;33m,\u001b[0m \u001b[0mvariables\u001b[0m\u001b[1;33m=\u001b[0m\u001b[0mvariables\u001b[0m\u001b[1;33m,\u001b[0m\u001b[1;33m\u001b[0m\u001b[1;33m\u001b[0m\u001b[0m\n\u001b[0;32m    810\u001b[0m         \u001b[0mx_bins\u001b[0m\u001b[1;33m=\u001b[0m\u001b[0mx_bins\u001b[0m\u001b[1;33m,\u001b[0m \u001b[0my_bins\u001b[0m\u001b[1;33m=\u001b[0m\u001b[0my_bins\u001b[0m\u001b[1;33m,\u001b[0m\u001b[1;33m\u001b[0m\u001b[1;33m\u001b[0m\u001b[0m\n",
      "\u001b[1;32m~\\anaconda3\\lib\\site-packages\\seaborn\\relational.py\u001b[0m in \u001b[0;36m__init__\u001b[1;34m(self, data, variables, x_bins, y_bins, estimator, ci, n_boot, alpha, x_jitter, y_jitter, legend)\u001b[0m\n\u001b[0;32m    585\u001b[0m         )\n\u001b[0;32m    586\u001b[0m \u001b[1;33m\u001b[0m\u001b[0m\n\u001b[1;32m--> 587\u001b[1;33m         \u001b[0msuper\u001b[0m\u001b[1;33m(\u001b[0m\u001b[1;33m)\u001b[0m\u001b[1;33m.\u001b[0m\u001b[0m__init__\u001b[0m\u001b[1;33m(\u001b[0m\u001b[0mdata\u001b[0m\u001b[1;33m=\u001b[0m\u001b[0mdata\u001b[0m\u001b[1;33m,\u001b[0m \u001b[0mvariables\u001b[0m\u001b[1;33m=\u001b[0m\u001b[0mvariables\u001b[0m\u001b[1;33m)\u001b[0m\u001b[1;33m\u001b[0m\u001b[1;33m\u001b[0m\u001b[0m\n\u001b[0m\u001b[0;32m    588\u001b[0m \u001b[1;33m\u001b[0m\u001b[0m\n\u001b[0;32m    589\u001b[0m         \u001b[0mself\u001b[0m\u001b[1;33m.\u001b[0m\u001b[0malpha\u001b[0m \u001b[1;33m=\u001b[0m \u001b[0malpha\u001b[0m\u001b[1;33m\u001b[0m\u001b[1;33m\u001b[0m\u001b[0m\n",
      "\u001b[1;32m~\\anaconda3\\lib\\site-packages\\seaborn\\_core.py\u001b[0m in \u001b[0;36m__init__\u001b[1;34m(self, data, variables)\u001b[0m\n\u001b[0;32m    603\u001b[0m     \u001b[1;32mdef\u001b[0m \u001b[0m__init__\u001b[0m\u001b[1;33m(\u001b[0m\u001b[0mself\u001b[0m\u001b[1;33m,\u001b[0m \u001b[0mdata\u001b[0m\u001b[1;33m=\u001b[0m\u001b[1;32mNone\u001b[0m\u001b[1;33m,\u001b[0m \u001b[0mvariables\u001b[0m\u001b[1;33m=\u001b[0m\u001b[1;33m{\u001b[0m\u001b[1;33m}\u001b[0m\u001b[1;33m)\u001b[0m\u001b[1;33m:\u001b[0m\u001b[1;33m\u001b[0m\u001b[1;33m\u001b[0m\u001b[0m\n\u001b[0;32m    604\u001b[0m \u001b[1;33m\u001b[0m\u001b[0m\n\u001b[1;32m--> 605\u001b[1;33m         \u001b[0mself\u001b[0m\u001b[1;33m.\u001b[0m\u001b[0massign_variables\u001b[0m\u001b[1;33m(\u001b[0m\u001b[0mdata\u001b[0m\u001b[1;33m,\u001b[0m \u001b[0mvariables\u001b[0m\u001b[1;33m)\u001b[0m\u001b[1;33m\u001b[0m\u001b[1;33m\u001b[0m\u001b[0m\n\u001b[0m\u001b[0;32m    606\u001b[0m \u001b[1;33m\u001b[0m\u001b[0m\n\u001b[0;32m    607\u001b[0m         \u001b[1;32mfor\u001b[0m \u001b[0mvar\u001b[0m\u001b[1;33m,\u001b[0m \u001b[0mcls\u001b[0m \u001b[1;32min\u001b[0m \u001b[0mself\u001b[0m\u001b[1;33m.\u001b[0m\u001b[0m_semantic_mappings\u001b[0m\u001b[1;33m.\u001b[0m\u001b[0mitems\u001b[0m\u001b[1;33m(\u001b[0m\u001b[1;33m)\u001b[0m\u001b[1;33m:\u001b[0m\u001b[1;33m\u001b[0m\u001b[1;33m\u001b[0m\u001b[0m\n",
      "\u001b[1;32m~\\anaconda3\\lib\\site-packages\\seaborn\\_core.py\u001b[0m in \u001b[0;36massign_variables\u001b[1;34m(self, data, variables)\u001b[0m\n\u001b[0;32m    666\u001b[0m         \u001b[1;32melse\u001b[0m\u001b[1;33m:\u001b[0m\u001b[1;33m\u001b[0m\u001b[1;33m\u001b[0m\u001b[0m\n\u001b[0;32m    667\u001b[0m             \u001b[0mself\u001b[0m\u001b[1;33m.\u001b[0m\u001b[0minput_format\u001b[0m \u001b[1;33m=\u001b[0m \u001b[1;34m\"long\"\u001b[0m\u001b[1;33m\u001b[0m\u001b[1;33m\u001b[0m\u001b[0m\n\u001b[1;32m--> 668\u001b[1;33m             plot_data, variables = self._assign_variables_longform(\n\u001b[0m\u001b[0;32m    669\u001b[0m                 \u001b[0mdata\u001b[0m\u001b[1;33m,\u001b[0m \u001b[1;33m**\u001b[0m\u001b[0mvariables\u001b[0m\u001b[1;33m,\u001b[0m\u001b[1;33m\u001b[0m\u001b[1;33m\u001b[0m\u001b[0m\n\u001b[0;32m    670\u001b[0m             )\n",
      "\u001b[1;32m~\\anaconda3\\lib\\site-packages\\seaborn\\_core.py\u001b[0m in \u001b[0;36m_assign_variables_longform\u001b[1;34m(self, data, **kwargs)\u001b[0m\n\u001b[0;32m    901\u001b[0m \u001b[1;33m\u001b[0m\u001b[0m\n\u001b[0;32m    902\u001b[0m                 \u001b[0merr\u001b[0m \u001b[1;33m=\u001b[0m \u001b[1;34mf\"Could not interpret value `{val}` for parameter `{key}`\"\u001b[0m\u001b[1;33m\u001b[0m\u001b[1;33m\u001b[0m\u001b[0m\n\u001b[1;32m--> 903\u001b[1;33m                 \u001b[1;32mraise\u001b[0m \u001b[0mValueError\u001b[0m\u001b[1;33m(\u001b[0m\u001b[0merr\u001b[0m\u001b[1;33m)\u001b[0m\u001b[1;33m\u001b[0m\u001b[1;33m\u001b[0m\u001b[0m\n\u001b[0m\u001b[0;32m    904\u001b[0m \u001b[1;33m\u001b[0m\u001b[0m\n\u001b[0;32m    905\u001b[0m             \u001b[1;32melse\u001b[0m\u001b[1;33m:\u001b[0m\u001b[1;33m\u001b[0m\u001b[1;33m\u001b[0m\u001b[0m\n",
      "\u001b[1;31mValueError\u001b[0m: Could not interpret value `Genre` for parameter `x`"
     ]
    }
   ],
   "source": [
    "sns.scatterplot(data=df,x='Genre',y='Rating')\n",
    "plt.xticks(rotation=90);\n",
    "plt.title('Genre v/s Rating')"
   ]
  },
  {
   "cell_type": "code",
   "execution_count": 225,
   "id": "cf1999b3",
   "metadata": {},
   "outputs": [],
   "source": [
    "# bivariant\n",
    "# In the above picture we have used Seaborn library i.e Scatter plot  above\n",
    "# It shows that the series which has Genre Action and adventure has the maximum rating as compared to other Genre "
   ]
  },
  {
   "cell_type": "markdown",
   "id": "ce85da14",
   "metadata": {},
   "source": [
    "MULTIVARIENT"
   ]
  },
  {
   "cell_type": "code",
   "execution_count": 226,
   "id": "9db5dd14",
   "metadata": {},
   "outputs": [
    {
     "data": {
      "text/plain": [
       "Text(0.5, 1.0, 'Coorelation b/w diff. features')"
      ]
     },
     "execution_count": 226,
     "metadata": {},
     "output_type": "execute_result"
    },
    {
     "data": {
      "image/png": "[encoded data removed]",
      "text/plain": [
       "<Figure size 800x800 with 2 Axes>"
      ]
     },
     "metadata": {},
     "output_type": "display_data"
    }
   ],
   "source": [
    "corr = df.corr()\n",
    "plt.figure(figsize=(8,8))\n",
    "sns.heatmap(corr, vmax=.8, linewidth=.01, square=True, annot=True)\n",
    "plt.title('Coorelation b/w diff. features')\n",
    "#heatmap"
   ]
  },
  {
   "cell_type": "code",
   "execution_count": 227,
   "id": "e090283a",
   "metadata": {},
   "outputs": [
    {
     "data": {
      "text/plain": [
       "32"
      ]
     },
     "execution_count": 227,
     "metadata": {},
     "output_type": "execute_result"
    }
   ],
   "source": [
    "a=df[df['Votes']>80000]\n",
    "len(a)"
   ]
  },
  {
   "cell_type": "code",
   "execution_count": 444,
   "id": "d3fb38b7",
   "metadata": {},
   "outputs": [
    {
     "data": {
      "text/plain": [
       "<AxesSubplot:xlabel='Rating', ylabel='Votes'>"
      ]
     },
     "execution_count": 444,
     "metadata": {},
     "output_type": "execute_result"
    },
    {
     "data": {
      "image/png": "[encoded data removed]",
      "text/plain": [
       "<Figure size 640x480 with 1 Axes>"
      ]
     },
     "metadata": {},
     "output_type": "display_data"
    }
   ],
   "source": [
    "sns.barplot(data=a,x=df['Rating'],y=df['Votes'],hue=df['Certificate'])"
   ]
  },
  {
   "cell_type": "code",
   "execution_count": 443,
   "id": "babe180d",
   "metadata": {},
   "outputs": [],
   "source": [
    "# Multivariant\n",
    "# In the above picture we have used Seaborn library i.e bar plot  above\n",
    "# It shows that the TV-Y certificate  has maximum numbaer of votes i.e votes increases rating also increases."
   ]
  },
  {
   "cell_type": "code",
   "execution_count": 230,
   "id": "4d48715b",
   "metadata": {},
   "outputs": [
    {
     "data": {
      "text/html": [
       "<div>\n",
       "<style scoped>\n",
       "    .dataframe tbody tr th:only-of-type {\n",
       "        vertical-align: middle;\n",
       "    }\n",
       "\n",
       "    .dataframe tbody tr th {\n",
       "        vertical-align: top;\n",
       "    }\n",
       "\n",
       "    .dataframe thead th {\n",
       "        text-align: right;\n",
       "    }\n",
       "</style>\n",
       "<table border=\"1\" class=\"dataframe\">\n",
       "  <thead>\n",
       "    <tr style=\"text-align: right;\">\n",
       "      <th></th>\n",
       "      <th>Titles</th>\n",
       "      <th>Start year</th>\n",
       "      <th>Rating</th>\n",
       "      <th>Runtime (min)</th>\n",
       "      <th>Casting</th>\n",
       "      <th>Votes</th>\n",
       "      <th>Certificate</th>\n",
       "      <th>Genre</th>\n",
       "      <th>rating_cat</th>\n",
       "    </tr>\n",
       "  </thead>\n",
       "  <tbody>\n",
       "    <tr>\n",
       "      <th>0</th>\n",
       "      <td>Bluey</td>\n",
       "      <td>2018</td>\n",
       "      <td>9.5</td>\n",
       "      <td>7</td>\n",
       "      <td>David McCormack, Melanie Zanet...</td>\n",
       "      <td>16331</td>\n",
       "      <td>TV-Y</td>\n",
       "      <td>Family, Family</td>\n",
       "      <td>Excellent</td>\n",
       "    </tr>\n",
       "    <tr>\n",
       "      <th>1</th>\n",
       "      <td>Avatar: The Last Airbender</td>\n",
       "      <td>2005</td>\n",
       "      <td>9.3</td>\n",
       "      <td>23</td>\n",
       "      <td>Dee Bradley Baker, Zach Tyler ...</td>\n",
       "      <td>333861</td>\n",
       "      <td>TV-Y7-FV</td>\n",
       "      <td>Action, Adventure</td>\n",
       "      <td>Excellent</td>\n",
       "    </tr>\n",
       "    <tr>\n",
       "      <th>2</th>\n",
       "      <td>The Big Lez Show</td>\n",
       "      <td>2012</td>\n",
       "      <td>9.2</td>\n",
       "      <td>10</td>\n",
       "      <td>Jarrad Wright, Tom Hollis, Cod...</td>\n",
       "      <td>1903</td>\n",
       "      <td>TV-MA</td>\n",
       "      <td>Adventure, Comedy</td>\n",
       "      <td>Excellent</td>\n",
       "    </tr>\n",
       "    <tr>\n",
       "      <th>3</th>\n",
       "      <td>Dragon Ball Z Abridged</td>\n",
       "      <td>2008</td>\n",
       "      <td>9.2</td>\n",
       "      <td>23</td>\n",
       "      <td>Lawrence Simpson, Nick Landis,...</td>\n",
       "      <td>1249</td>\n",
       "      <td>TV-14</td>\n",
       "      <td>Action, Comedy</td>\n",
       "      <td>Excellent</td>\n",
       "    </tr>\n",
       "    <tr>\n",
       "      <th>4</th>\n",
       "      <td>Rick and Morty</td>\n",
       "      <td>2013</td>\n",
       "      <td>9.1</td>\n",
       "      <td>24</td>\n",
       "      <td>Justin Roiland, Chris Parnell,...</td>\n",
       "      <td>554944</td>\n",
       "      <td>TV-MA</td>\n",
       "      <td>Adventure, Comedy</td>\n",
       "      <td>Excellent</td>\n",
       "    </tr>\n",
       "    <tr>\n",
       "      <th>5</th>\n",
       "      <td>Attack on Titan</td>\n",
       "      <td>2013</td>\n",
       "      <td>9.1</td>\n",
       "      <td>24</td>\n",
       "      <td>Josh Grelle, Bryce Papenbrook,...</td>\n",
       "      <td>414958</td>\n",
       "      <td>TV-MA</td>\n",
       "      <td>Action, Adventure</td>\n",
       "      <td>Excellent</td>\n",
       "    </tr>\n",
       "    <tr>\n",
       "      <th>6</th>\n",
       "      <td>Fullmetal Alchemist: Brotherhood</td>\n",
       "      <td>2009</td>\n",
       "      <td>9.1</td>\n",
       "      <td>24</td>\n",
       "      <td>Kent Williams, Iemasa Kayumi, ...</td>\n",
       "      <td>179881</td>\n",
       "      <td>TV-14</td>\n",
       "      <td>Action, Adventure</td>\n",
       "      <td>Excellent</td>\n",
       "    </tr>\n",
       "    <tr>\n",
       "      <th>7</th>\n",
       "      <td>Bleach: Thousand-Year Blood War</td>\n",
       "      <td>2022</td>\n",
       "      <td>9.1</td>\n",
       "      <td>25</td>\n",
       "      <td>Masakazu Morita, Johnny Yong B...</td>\n",
       "      <td>19943</td>\n",
       "      <td>TV-MA</td>\n",
       "      <td>Action, Adventure</td>\n",
       "      <td>Excellent</td>\n",
       "    </tr>\n",
       "    <tr>\n",
       "      <th>8</th>\n",
       "      <td>The Legend of Hanuman</td>\n",
       "      <td>2021</td>\n",
       "      <td>9.1</td>\n",
       "      <td>11</td>\n",
       "      <td>Rich Ting, Da Man, Shakti Sing...</td>\n",
       "      <td>10032</td>\n",
       "      <td>PG</td>\n",
       "      <td>Adventure, Fantasy</td>\n",
       "      <td>Excellent</td>\n",
       "    </tr>\n",
       "    <tr>\n",
       "      <th>9</th>\n",
       "      <td>Jorel's Brother</td>\n",
       "      <td>2014</td>\n",
       "      <td>9.1</td>\n",
       "      <td>41</td>\n",
       "      <td>Andrei Duarte, Melissa Garcia,...</td>\n",
       "      <td>1157</td>\n",
       "      <td>TV-PG</td>\n",
       "      <td>Short, Comedy</td>\n",
       "      <td>Excellent</td>\n",
       "    </tr>\n",
       "    <tr>\n",
       "      <th>10</th>\n",
       "      <td>Arcane</td>\n",
       "      <td>2021</td>\n",
       "      <td>9.0</td>\n",
       "      <td>24</td>\n",
       "      <td>Hailee Steinfeld, Kevin Alejan...</td>\n",
       "      <td>231331</td>\n",
       "      <td>TV-14</td>\n",
       "      <td>Action, Adventure</td>\n",
       "      <td>Excellent</td>\n",
       "    </tr>\n",
       "    <tr>\n",
       "      <th>11</th>\n",
       "      <td>Hunter x Hunter</td>\n",
       "      <td>2011</td>\n",
       "      <td>9.0</td>\n",
       "      <td>22</td>\n",
       "      <td>Issei Futamata, Megumi Han, Cr...</td>\n",
       "      <td>112689</td>\n",
       "      <td>TV-14</td>\n",
       "      <td>Action, Adventure</td>\n",
       "      <td>Excellent</td>\n",
       "    </tr>\n",
       "    <tr>\n",
       "      <th>12</th>\n",
       "      <td>Batman: The Animated Series</td>\n",
       "      <td>1992</td>\n",
       "      <td>9.0</td>\n",
       "      <td>23</td>\n",
       "      <td>Kevin Conroy, Loren Lester, Ef...</td>\n",
       "      <td>109089</td>\n",
       "      <td>TV-PG</td>\n",
       "      <td>Action, Adventure</td>\n",
       "      <td>Excellent</td>\n",
       "    </tr>\n",
       "    <tr>\n",
       "      <th>13</th>\n",
       "      <td>Legend of the Galactic Heroes</td>\n",
       "      <td>1988</td>\n",
       "      <td>9.0</td>\n",
       "      <td>25</td>\n",
       "      <td>Yûsaku Yara, Ryô Horikawa, Kat...</td>\n",
       "      <td>4022</td>\n",
       "      <td>TV-MA</td>\n",
       "      <td>Action, Drama</td>\n",
       "      <td>Excellent</td>\n",
       "    </tr>\n",
       "    <tr>\n",
       "      <th>14</th>\n",
       "      <td>One Piece</td>\n",
       "      <td>1999</td>\n",
       "      <td>8.9</td>\n",
       "      <td>24</td>\n",
       "      <td>Mayumi Tanaka, Laurent Vernin,...</td>\n",
       "      <td>147597</td>\n",
       "      <td>TV-14</td>\n",
       "      <td>Action, Adventure</td>\n",
       "      <td>Excellent</td>\n",
       "    </tr>\n",
       "    <tr>\n",
       "      <th>15</th>\n",
       "      <td>Gravity Falls</td>\n",
       "      <td>2012</td>\n",
       "      <td>8.9</td>\n",
       "      <td>23</td>\n",
       "      <td>Jason Ritter, Alex Hirsch, Kri...</td>\n",
       "      <td>119802</td>\n",
       "      <td>TV-Y7</td>\n",
       "      <td>Adventure, Comedy</td>\n",
       "      <td>Excellent</td>\n",
       "    </tr>\n",
       "    <tr>\n",
       "      <th>16</th>\n",
       "      <td>Death Note</td>\n",
       "      <td>2006</td>\n",
       "      <td>8.9</td>\n",
       "      <td>23</td>\n",
       "      <td>Mamoru Miyano, Brad Swaile, Vi...</td>\n",
       "      <td>345495</td>\n",
       "      <td>TV-14</td>\n",
       "      <td>Crime, Drama</td>\n",
       "      <td>Excellent</td>\n",
       "    </tr>\n",
       "    <tr>\n",
       "      <th>17</th>\n",
       "      <td>Cowboy Bebop</td>\n",
       "      <td>1998</td>\n",
       "      <td>8.9</td>\n",
       "      <td>24</td>\n",
       "      <td>Kôichi Yamadera, Unshô Ishizuk...</td>\n",
       "      <td>127552</td>\n",
       "      <td>TV-14</td>\n",
       "      <td>Action, Adventure</td>\n",
       "      <td>Excellent</td>\n",
       "    </tr>\n",
       "    <tr>\n",
       "      <th>18</th>\n",
       "      <td>Hey Duggee</td>\n",
       "      <td>2014</td>\n",
       "      <td>8.9</td>\n",
       "      <td>7</td>\n",
       "      <td>Alexander Armstrong, Jasmine B...</td>\n",
       "      <td>1240</td>\n",
       "      <td>TV-Y</td>\n",
       "      <td>Comedy, Family</td>\n",
       "      <td>Excellent</td>\n",
       "    </tr>\n",
       "    <tr>\n",
       "      <th>19</th>\n",
       "      <td>Silver Fang</td>\n",
       "      <td>1986</td>\n",
       "      <td>8.9</td>\n",
       "      <td>25</td>\n",
       "      <td>Eiko Yamada, Keiichi Noda, Hid...</td>\n",
       "      <td>3014</td>\n",
       "      <td>TV-MA</td>\n",
       "      <td>Action, Adventure</td>\n",
       "      <td>Excellent</td>\n",
       "    </tr>\n",
       "    <tr>\n",
       "      <th>20</th>\n",
       "      <td>Hungarian Folk Tales</td>\n",
       "      <td>1980</td>\n",
       "      <td>8.9</td>\n",
       "      <td>24</td>\n",
       "      <td>Gyula Szabó, Piroska Molnár, G...</td>\n",
       "      <td>1487</td>\n",
       "      <td>TV-MA</td>\n",
       "      <td>NaN</td>\n",
       "      <td>Excellent</td>\n",
       "    </tr>\n",
       "    <tr>\n",
       "      <th>21</th>\n",
       "      <td>Vinland Saga</td>\n",
       "      <td>2019</td>\n",
       "      <td>8.8</td>\n",
       "      <td>25</td>\n",
       "      <td>Yûto Uemura, Mike Haimoto, Ale...</td>\n",
       "      <td>52439</td>\n",
       "      <td>TV-14</td>\n",
       "      <td>Action, Adventure</td>\n",
       "      <td>Excellent</td>\n",
       "    </tr>\n",
       "    <tr>\n",
       "      <th>22</th>\n",
       "      <td>BoJack Horseman</td>\n",
       "      <td>2014</td>\n",
       "      <td>8.8</td>\n",
       "      <td>24</td>\n",
       "      <td>Will Arnett, Amy Sedaris, Alis...</td>\n",
       "      <td>170791</td>\n",
       "      <td>TV-PG</td>\n",
       "      <td>Comedy, Drama</td>\n",
       "      <td>Excellent</td>\n",
       "    </tr>\n",
       "    <tr>\n",
       "      <th>23</th>\n",
       "      <td>【Oshi No Ko】</td>\n",
       "      <td>2023</td>\n",
       "      <td>8.8</td>\n",
       "      <td>24</td>\n",
       "      <td>Takeo Otsuka, Yurie Igoma, Meg...</td>\n",
       "      <td>3588</td>\n",
       "      <td>TV-14</td>\n",
       "      <td>Drama, Fantasy</td>\n",
       "      <td>Excellent</td>\n",
       "    </tr>\n",
       "    <tr>\n",
       "      <th>24</th>\n",
       "      <td>Dragon Ball Z</td>\n",
       "      <td>1989</td>\n",
       "      <td>8.8</td>\n",
       "      <td>24</td>\n",
       "      <td>Doc Harris, Christopher Sabat,...</td>\n",
       "      <td>137594</td>\n",
       "      <td>TV-PG</td>\n",
       "      <td>Action, Adventure</td>\n",
       "      <td>Excellent</td>\n",
       "    </tr>\n",
       "  </tbody>\n",
       "</table>\n",
       "</div>"
      ],
      "text/plain": [
       "                              Titles  Start year  Rating  Runtime (min)  \\\n",
       "0                              Bluey        2018     9.5              7   \n",
       "1         Avatar: The Last Airbender        2005     9.3             23   \n",
       "2                   The Big Lez Show        2012     9.2             10   \n",
       "3             Dragon Ball Z Abridged        2008     9.2             23   \n",
       "4                     Rick and Morty        2013     9.1             24   \n",
       "5                    Attack on Titan        2013     9.1             24   \n",
       "6   Fullmetal Alchemist: Brotherhood        2009     9.1             24   \n",
       "7    Bleach: Thousand-Year Blood War        2022     9.1             25   \n",
       "8              The Legend of Hanuman        2021     9.1             11   \n",
       "9                    Jorel's Brother        2014     9.1             41   \n",
       "10                            Arcane        2021     9.0             24   \n",
       "11                   Hunter x Hunter        2011     9.0             22   \n",
       "12       Batman: The Animated Series        1992     9.0             23   \n",
       "13     Legend of the Galactic Heroes        1988     9.0             25   \n",
       "14                         One Piece        1999     8.9             24   \n",
       "15                     Gravity Falls        2012     8.9             23   \n",
       "16                        Death Note        2006     8.9             23   \n",
       "17                      Cowboy Bebop        1998     8.9             24   \n",
       "18                        Hey Duggee        2014     8.9              7   \n",
       "19                       Silver Fang        1986     8.9             25   \n",
       "20              Hungarian Folk Tales        1980     8.9             24   \n",
       "21                      Vinland Saga        2019     8.8             25   \n",
       "22                   BoJack Horseman        2014     8.8             24   \n",
       "23                      【Oshi No Ko】        2023     8.8             24   \n",
       "24                     Dragon Ball Z        1989     8.8             24   \n",
       "\n",
       "                                              Casting   Votes Certificate  \\\n",
       "0                   David McCormack, Melanie Zanet...   16331        TV-Y   \n",
       "1                   Dee Bradley Baker, Zach Tyler ...  333861    TV-Y7-FV   \n",
       "2                   Jarrad Wright, Tom Hollis, Cod...    1903       TV-MA   \n",
       "3                   Lawrence Simpson, Nick Landis,...    1249       TV-14   \n",
       "4                   Justin Roiland, Chris Parnell,...  554944       TV-MA   \n",
       "5                   Josh Grelle, Bryce Papenbrook,...  414958       TV-MA   \n",
       "6                   Kent Williams, Iemasa Kayumi, ...  179881       TV-14   \n",
       "7                   Masakazu Morita, Johnny Yong B...   19943       TV-MA   \n",
       "8                   Rich Ting, Da Man, Shakti Sing...   10032          PG   \n",
       "9                   Andrei Duarte, Melissa Garcia,...    1157       TV-PG   \n",
       "10                  Hailee Steinfeld, Kevin Alejan...  231331       TV-14   \n",
       "11                  Issei Futamata, Megumi Han, Cr...  112689       TV-14   \n",
       "12                  Kevin Conroy, Loren Lester, Ef...  109089       TV-PG   \n",
       "13                  Yûsaku Yara, Ryô Horikawa, Kat...    4022       TV-MA   \n",
       "14                  Mayumi Tanaka, Laurent Vernin,...  147597       TV-14   \n",
       "15                  Jason Ritter, Alex Hirsch, Kri...  119802       TV-Y7   \n",
       "16                  Mamoru Miyano, Brad Swaile, Vi...  345495       TV-14   \n",
       "17                  Kôichi Yamadera, Unshô Ishizuk...  127552       TV-14   \n",
       "18                  Alexander Armstrong, Jasmine B...    1240        TV-Y   \n",
       "19                  Eiko Yamada, Keiichi Noda, Hid...    3014       TV-MA   \n",
       "20                  Gyula Szabó, Piroska Molnár, G...    1487       TV-MA   \n",
       "21                  Yûto Uemura, Mike Haimoto, Ale...   52439       TV-14   \n",
       "22                  Will Arnett, Amy Sedaris, Alis...  170791       TV-PG   \n",
       "23                  Takeo Otsuka, Yurie Igoma, Meg...    3588       TV-14   \n",
       "24                  Doc Harris, Christopher Sabat,...  137594       TV-PG   \n",
       "\n",
       "                  Genre rating_cat  \n",
       "0        Family, Family  Excellent  \n",
       "1     Action, Adventure  Excellent  \n",
       "2     Adventure, Comedy  Excellent  \n",
       "3        Action, Comedy  Excellent  \n",
       "4     Adventure, Comedy  Excellent  \n",
       "5     Action, Adventure  Excellent  \n",
       "6     Action, Adventure  Excellent  \n",
       "7     Action, Adventure  Excellent  \n",
       "8    Adventure, Fantasy  Excellent  \n",
       "9         Short, Comedy  Excellent  \n",
       "10    Action, Adventure  Excellent  \n",
       "11    Action, Adventure  Excellent  \n",
       "12    Action, Adventure  Excellent  \n",
       "13        Action, Drama  Excellent  \n",
       "14    Action, Adventure  Excellent  \n",
       "15    Adventure, Comedy  Excellent  \n",
       "16         Crime, Drama  Excellent  \n",
       "17    Action, Adventure  Excellent  \n",
       "18       Comedy, Family  Excellent  \n",
       "19    Action, Adventure  Excellent  \n",
       "20                  NaN  Excellent  \n",
       "21    Action, Adventure  Excellent  \n",
       "22        Comedy, Drama  Excellent  \n",
       "23       Drama, Fantasy  Excellent  \n",
       "24    Action, Adventure  Excellent  "
      ]
     },
     "execution_count": 230,
     "metadata": {},
     "output_type": "execute_result"
    }
   ],
   "source": [
    "df.head(25)"
   ]
  },
  {
   "cell_type": "code",
   "execution_count": 231,
   "id": "ac7f6a5a",
   "metadata": {},
   "outputs": [
    {
     "data": {
      "text/plain": [
       "0                               Bluey\n",
       "1          Avatar: The Last Airbender\n",
       "2                    The Big Lez Show\n",
       "3              Dragon Ball Z Abridged\n",
       "4                      Rick and Morty\n",
       "5                     Attack on Titan\n",
       "6    Fullmetal Alchemist: Brotherhood\n",
       "7     Bleach: Thousand-Year Blood War\n",
       "8               The Legend of Hanuman\n",
       "9                     Jorel's Brother\n",
       "Name: Titles, dtype: object"
      ]
     },
     "execution_count": 231,
     "metadata": {},
     "output_type": "execute_result"
    }
   ],
   "source": [
    "a=df['Titles'].head(10)\n",
    "a"
   ]
  },
  {
   "cell_type": "code",
   "execution_count": 232,
   "id": "a768b894",
   "metadata": {},
   "outputs": [
    {
     "data": {
      "text/plain": [
       "<matplotlib.legend.Legend at 0x1ad4dcd2580>"
      ]
     },
     "execution_count": 232,
     "metadata": {},
     "output_type": "execute_result"
    },
    {
     "data": {
      "image/png": "[encoded data removed]",
      "text/plain": [
       "<Figure size 640x480 with 1 Axes>"
      ]
     },
     "metadata": {},
     "output_type": "display_data"
    }
   ],
   "source": [
    "sns.scatterplot(x=df['Votes'],y=df['Rating'],hue=df['Certificate'])\n",
    "plt.legend(bbox_to_anchor=(1.5,1))\n",
    "#multivariate scatterplot with rating , votes and Certificate."
   ]
  },
  {
   "cell_type": "code",
   "execution_count": 235,
   "id": "cc69e9f2",
   "metadata": {
    "scrolled": true
   },
   "outputs": [
    {
     "data": {
      "text/plain": [
       "<matplotlib.legend.Legend at 0x1ad4dcc8cd0>"
      ]
     },
     "execution_count": 235,
     "metadata": {},
     "output_type": "execute_result"
    },
    {
     "data": {
      "image/png": "[encoded data removed]",
      "text/plain": [
       "<Figure size 640x480 with 1 Axes>"
      ]
     },
     "metadata": {},
     "output_type": "display_data"
    }
   ],
   "source": [
    "a=df['Genre'].head(25)\n",
    "sns.scatterplot(x=df['Rating'],y=a,hue=df['Certificate'])\n",
    "plt.legend(bbox_to_anchor=(1.5,1))\n",
    "#multivariate of categorical , categorical and numerical."
   ]
  },
  {
   "cell_type": "code",
   "execution_count": 236,
   "id": "900abeb0",
   "metadata": {},
   "outputs": [],
   "source": [
    "# multivariant\n",
    "# In the above picture we have used Seaborn library i.e Scatter plot  above\n",
    "# It shows that the rating density is more near 50000 votes and rating is increasing as per votes"
   ]
  },
  {
   "cell_type": "markdown",
   "id": "568a7d65",
   "metadata": {},
   "source": []
  },
  {
   "cell_type": "markdown",
   "id": "b188ce87",
   "metadata": {},
   "source": [
    "# Event 1"
   ]
  },
  {
   "cell_type": "markdown",
   "id": "483b948f",
   "metadata": {},
   "source": [
    "# If a person wants to watch an Anime Series whose rating is more than 8.5 or above it and the runtime should be less than 25 mins, then these are the top 10 series that he can watch:"
   ]
  },
  {
   "cell_type": "code",
   "execution_count": 313,
   "id": "6dfd7bcf",
   "metadata": {},
   "outputs": [
    {
     "data": {
      "text/html": [
       "<div>\n",
       "<style scoped>\n",
       "    .dataframe tbody tr th:only-of-type {\n",
       "        vertical-align: middle;\n",
       "    }\n",
       "\n",
       "    .dataframe tbody tr th {\n",
       "        vertical-align: top;\n",
       "    }\n",
       "\n",
       "    .dataframe thead th {\n",
       "        text-align: right;\n",
       "    }\n",
       "</style>\n",
       "<table border=\"1\" class=\"dataframe\">\n",
       "  <thead>\n",
       "    <tr style=\"text-align: right;\">\n",
       "      <th></th>\n",
       "      <th>Titles</th>\n",
       "      <th>Start year</th>\n",
       "      <th>Rating</th>\n",
       "      <th>Runtime (min)</th>\n",
       "      <th>Casting</th>\n",
       "      <th>Votes</th>\n",
       "      <th>Certificate</th>\n",
       "      <th>Genre1</th>\n",
       "      <th>Genre2</th>\n",
       "      <th>rating_cat</th>\n",
       "    </tr>\n",
       "  </thead>\n",
       "  <tbody>\n",
       "    <tr>\n",
       "      <th>0</th>\n",
       "      <td>Bluey</td>\n",
       "      <td>2018</td>\n",
       "      <td>9.5</td>\n",
       "      <td>7</td>\n",
       "      <td>David McCormack, Melanie Zanet...</td>\n",
       "      <td>16331</td>\n",
       "      <td>TV-Y</td>\n",
       "      <td>Family</td>\n",
       "      <td>Family</td>\n",
       "      <td>Excellent</td>\n",
       "    </tr>\n",
       "    <tr>\n",
       "      <th>1</th>\n",
       "      <td>Avatar: The Last Airbender</td>\n",
       "      <td>2005</td>\n",
       "      <td>9.3</td>\n",
       "      <td>23</td>\n",
       "      <td>Dee Bradley Baker, Zach Tyler ...</td>\n",
       "      <td>333861</td>\n",
       "      <td>TV-Y7-FV</td>\n",
       "      <td>Action</td>\n",
       "      <td>Adventure</td>\n",
       "      <td>Excellent</td>\n",
       "    </tr>\n",
       "    <tr>\n",
       "      <th>2</th>\n",
       "      <td>The Big Lez Show</td>\n",
       "      <td>2012</td>\n",
       "      <td>9.2</td>\n",
       "      <td>10</td>\n",
       "      <td>Jarrad Wright, Tom Hollis, Cod...</td>\n",
       "      <td>1903</td>\n",
       "      <td>TV-MA</td>\n",
       "      <td>Adventure</td>\n",
       "      <td>Comedy</td>\n",
       "      <td>Excellent</td>\n",
       "    </tr>\n",
       "    <tr>\n",
       "      <th>3</th>\n",
       "      <td>Dragon Ball Z Abridged</td>\n",
       "      <td>2008</td>\n",
       "      <td>9.2</td>\n",
       "      <td>23</td>\n",
       "      <td>Lawrence Simpson, Nick Landis,...</td>\n",
       "      <td>1249</td>\n",
       "      <td>TV-14</td>\n",
       "      <td>Action</td>\n",
       "      <td>Comedy</td>\n",
       "      <td>Excellent</td>\n",
       "    </tr>\n",
       "    <tr>\n",
       "      <th>8</th>\n",
       "      <td>The Legend of Hanuman</td>\n",
       "      <td>2021</td>\n",
       "      <td>9.1</td>\n",
       "      <td>11</td>\n",
       "      <td>Rich Ting, Da Man, Shakti Sing...</td>\n",
       "      <td>10032</td>\n",
       "      <td>PG</td>\n",
       "      <td>Adventure</td>\n",
       "      <td>Fantasy</td>\n",
       "      <td>Excellent</td>\n",
       "    </tr>\n",
       "    <tr>\n",
       "      <th>11</th>\n",
       "      <td>Hunter x Hunter</td>\n",
       "      <td>2011</td>\n",
       "      <td>9.0</td>\n",
       "      <td>22</td>\n",
       "      <td>Issei Futamata, Megumi Han, Cr...</td>\n",
       "      <td>112689</td>\n",
       "      <td>TV-14</td>\n",
       "      <td>Action</td>\n",
       "      <td>Adventure</td>\n",
       "      <td>Excellent</td>\n",
       "    </tr>\n",
       "    <tr>\n",
       "      <th>12</th>\n",
       "      <td>Batman: The Animated Series</td>\n",
       "      <td>1992</td>\n",
       "      <td>9.0</td>\n",
       "      <td>23</td>\n",
       "      <td>Kevin Conroy, Loren Lester, Ef...</td>\n",
       "      <td>109089</td>\n",
       "      <td>TV-PG</td>\n",
       "      <td>Action</td>\n",
       "      <td>Adventure</td>\n",
       "      <td>Excellent</td>\n",
       "    </tr>\n",
       "    <tr>\n",
       "      <th>15</th>\n",
       "      <td>Gravity Falls</td>\n",
       "      <td>2012</td>\n",
       "      <td>8.9</td>\n",
       "      <td>23</td>\n",
       "      <td>Jason Ritter, Alex Hirsch, Kri...</td>\n",
       "      <td>119802</td>\n",
       "      <td>TV-Y7</td>\n",
       "      <td>Adventure</td>\n",
       "      <td>Comedy</td>\n",
       "      <td>Excellent</td>\n",
       "    </tr>\n",
       "    <tr>\n",
       "      <th>16</th>\n",
       "      <td>Death Note</td>\n",
       "      <td>2006</td>\n",
       "      <td>8.9</td>\n",
       "      <td>23</td>\n",
       "      <td>Mamoru Miyano, Brad Swaile, Vi...</td>\n",
       "      <td>345495</td>\n",
       "      <td>TV-14</td>\n",
       "      <td>Crime</td>\n",
       "      <td>Drama</td>\n",
       "      <td>Excellent</td>\n",
       "    </tr>\n",
       "    <tr>\n",
       "      <th>18</th>\n",
       "      <td>Hey Duggee</td>\n",
       "      <td>2014</td>\n",
       "      <td>8.9</td>\n",
       "      <td>7</td>\n",
       "      <td>Alexander Armstrong, Jasmine B...</td>\n",
       "      <td>1240</td>\n",
       "      <td>TV-Y</td>\n",
       "      <td>Comedy</td>\n",
       "      <td>Family</td>\n",
       "      <td>Excellent</td>\n",
       "    </tr>\n",
       "  </tbody>\n",
       "</table>\n",
       "</div>"
      ],
      "text/plain": [
       "                         Titles  Start year  Rating  Runtime (min)  \\\n",
       "0                         Bluey        2018     9.5              7   \n",
       "1    Avatar: The Last Airbender        2005     9.3             23   \n",
       "2              The Big Lez Show        2012     9.2             10   \n",
       "3        Dragon Ball Z Abridged        2008     9.2             23   \n",
       "8         The Legend of Hanuman        2021     9.1             11   \n",
       "11              Hunter x Hunter        2011     9.0             22   \n",
       "12  Batman: The Animated Series        1992     9.0             23   \n",
       "15                Gravity Falls        2012     8.9             23   \n",
       "16                   Death Note        2006     8.9             23   \n",
       "18                   Hey Duggee        2014     8.9              7   \n",
       "\n",
       "                                              Casting   Votes Certificate  \\\n",
       "0                   David McCormack, Melanie Zanet...   16331        TV-Y   \n",
       "1                   Dee Bradley Baker, Zach Tyler ...  333861    TV-Y7-FV   \n",
       "2                   Jarrad Wright, Tom Hollis, Cod...    1903       TV-MA   \n",
       "3                   Lawrence Simpson, Nick Landis,...    1249       TV-14   \n",
       "8                   Rich Ting, Da Man, Shakti Sing...   10032          PG   \n",
       "11                  Issei Futamata, Megumi Han, Cr...  112689       TV-14   \n",
       "12                  Kevin Conroy, Loren Lester, Ef...  109089       TV-PG   \n",
       "15                  Jason Ritter, Alex Hirsch, Kri...  119802       TV-Y7   \n",
       "16                  Mamoru Miyano, Brad Swaile, Vi...  345495       TV-14   \n",
       "18                  Alexander Armstrong, Jasmine B...    1240        TV-Y   \n",
       "\n",
       "        Genre1      Genre2 rating_cat  \n",
       "0       Family      Family  Excellent  \n",
       "1       Action   Adventure  Excellent  \n",
       "2    Adventure      Comedy  Excellent  \n",
       "3       Action      Comedy  Excellent  \n",
       "8    Adventure     Fantasy  Excellent  \n",
       "11      Action   Adventure  Excellent  \n",
       "12      Action   Adventure  Excellent  \n",
       "15   Adventure      Comedy  Excellent  \n",
       "16       Crime       Drama  Excellent  \n",
       "18      Comedy      Family  Excellent  "
      ]
     },
     "execution_count": 313,
     "metadata": {},
     "output_type": "execute_result"
    }
   ],
   "source": [
    "df[(df['Rating']>8.5) & (df['Runtime (min)']<24)].head(10)"
   ]
  },
  {
   "cell_type": "markdown",
   "id": "6659c693",
   "metadata": {},
   "source": [
    "# let's assume a person wants to compare two series which he manually picked so that he can see which is better to watch"
   ]
  },
  {
   "cell_type": "code",
   "execution_count": 275,
   "id": "b8b0d5c1",
   "metadata": {},
   "outputs": [
    {
     "data": {
      "text/html": [
       "<div>\n",
       "<style scoped>\n",
       "    .dataframe tbody tr th:only-of-type {\n",
       "        vertical-align: middle;\n",
       "    }\n",
       "\n",
       "    .dataframe tbody tr th {\n",
       "        vertical-align: top;\n",
       "    }\n",
       "\n",
       "    .dataframe thead th {\n",
       "        text-align: right;\n",
       "    }\n",
       "</style>\n",
       "<table border=\"1\" class=\"dataframe\">\n",
       "  <thead>\n",
       "    <tr style=\"text-align: right;\">\n",
       "      <th></th>\n",
       "      <th>Titles</th>\n",
       "      <th>Start year</th>\n",
       "      <th>Rating</th>\n",
       "      <th>Runtime (min)</th>\n",
       "      <th>Casting</th>\n",
       "      <th>Votes</th>\n",
       "      <th>Certificate</th>\n",
       "      <th>Genre</th>\n",
       "      <th>rating_cat</th>\n",
       "    </tr>\n",
       "  </thead>\n",
       "  <tbody>\n",
       "    <tr>\n",
       "      <th>14</th>\n",
       "      <td>One Piece</td>\n",
       "      <td>1999</td>\n",
       "      <td>8.9</td>\n",
       "      <td>24</td>\n",
       "      <td>Mayumi Tanaka, Laurent Vernin,...</td>\n",
       "      <td>147597</td>\n",
       "      <td>TV-14</td>\n",
       "      <td>Action, Adventure</td>\n",
       "      <td>Excellent</td>\n",
       "    </tr>\n",
       "  </tbody>\n",
       "</table>\n",
       "</div>"
      ],
      "text/plain": [
       "       Titles  Start year  Rating  Runtime (min)  \\\n",
       "14  One Piece        1999     8.9             24   \n",
       "\n",
       "                                              Casting   Votes Certificate  \\\n",
       "14                  Mayumi Tanaka, Laurent Vernin,...  147597       TV-14   \n",
       "\n",
       "                 Genre rating_cat  \n",
       "14   Action, Adventure  Excellent  "
      ]
     },
     "execution_count": 275,
     "metadata": {},
     "output_type": "execute_result"
    }
   ],
   "source": [
    "df[df['Titles']=='One Piece']"
   ]
  },
  {
   "cell_type": "code",
   "execution_count": 276,
   "id": "a99ab23e",
   "metadata": {},
   "outputs": [
    {
     "data": {
      "text/html": [
       "<div>\n",
       "<style scoped>\n",
       "    .dataframe tbody tr th:only-of-type {\n",
       "        vertical-align: middle;\n",
       "    }\n",
       "\n",
       "    .dataframe tbody tr th {\n",
       "        vertical-align: top;\n",
       "    }\n",
       "\n",
       "    .dataframe thead th {\n",
       "        text-align: right;\n",
       "    }\n",
       "</style>\n",
       "<table border=\"1\" class=\"dataframe\">\n",
       "  <thead>\n",
       "    <tr style=\"text-align: right;\">\n",
       "      <th></th>\n",
       "      <th>Titles</th>\n",
       "      <th>Start year</th>\n",
       "      <th>Rating</th>\n",
       "      <th>Runtime (min)</th>\n",
       "      <th>Casting</th>\n",
       "      <th>Votes</th>\n",
       "      <th>Certificate</th>\n",
       "      <th>Genre</th>\n",
       "      <th>rating_cat</th>\n",
       "    </tr>\n",
       "  </thead>\n",
       "  <tbody>\n",
       "    <tr>\n",
       "      <th>16</th>\n",
       "      <td>Death Note</td>\n",
       "      <td>2006</td>\n",
       "      <td>8.9</td>\n",
       "      <td>23</td>\n",
       "      <td>Mamoru Miyano, Brad Swaile, Vi...</td>\n",
       "      <td>345495</td>\n",
       "      <td>TV-14</td>\n",
       "      <td>Crime, Drama</td>\n",
       "      <td>Excellent</td>\n",
       "    </tr>\n",
       "  </tbody>\n",
       "</table>\n",
       "</div>"
      ],
      "text/plain": [
       "        Titles  Start year  Rating  Runtime (min)  \\\n",
       "16  Death Note        2006     8.9             23   \n",
       "\n",
       "                                              Casting   Votes Certificate  \\\n",
       "16                  Mamoru Miyano, Brad Swaile, Vi...  345495       TV-14   \n",
       "\n",
       "            Genre rating_cat  \n",
       "16   Crime, Drama  Excellent  "
      ]
     },
     "execution_count": 276,
     "metadata": {},
     "output_type": "execute_result"
    }
   ],
   "source": [
    "df[df['Titles']=='Death Note']"
   ]
  },
  {
   "cell_type": "code",
   "execution_count": 246,
   "id": "f3e8a5ba",
   "metadata": {},
   "outputs": [
    {
     "name": "stdout",
     "output_type": "stream",
     "text": [
      "19943\n"
     ]
    },
    {
     "data": {
      "text/html": [
       "<div>\n",
       "<style scoped>\n",
       "    .dataframe tbody tr th:only-of-type {\n",
       "        vertical-align: middle;\n",
       "    }\n",
       "\n",
       "    .dataframe tbody tr th {\n",
       "        vertical-align: top;\n",
       "    }\n",
       "\n",
       "    .dataframe thead th {\n",
       "        text-align: right;\n",
       "    }\n",
       "</style>\n",
       "<table border=\"1\" class=\"dataframe\">\n",
       "  <thead>\n",
       "    <tr style=\"text-align: right;\">\n",
       "      <th></th>\n",
       "      <th>Titles</th>\n",
       "      <th>Start year</th>\n",
       "      <th>Rating</th>\n",
       "      <th>Runtime (min)</th>\n",
       "      <th>Casting</th>\n",
       "      <th>Votes</th>\n",
       "      <th>Certificate</th>\n",
       "      <th>Genre</th>\n",
       "      <th>rating_cat</th>\n",
       "    </tr>\n",
       "  </thead>\n",
       "  <tbody>\n",
       "    <tr>\n",
       "      <th>7</th>\n",
       "      <td>Bleach: Thousand-Year Blood War</td>\n",
       "      <td>2022</td>\n",
       "      <td>9.1</td>\n",
       "      <td>25</td>\n",
       "      <td>Masakazu Morita, Johnny Yong B...</td>\n",
       "      <td>19943</td>\n",
       "      <td>TV-MA</td>\n",
       "      <td>Action, Adventure</td>\n",
       "      <td>Excellent</td>\n",
       "    </tr>\n",
       "  </tbody>\n",
       "</table>\n",
       "</div>"
      ],
      "text/plain": [
       "                            Titles  Start year  Rating  Runtime (min)  \\\n",
       "7  Bleach: Thousand-Year Blood War        2022     9.1             25   \n",
       "\n",
       "                                             Casting  Votes Certificate  \\\n",
       "7                  Masakazu Morita, Johnny Yong B...  19943       TV-MA   \n",
       "\n",
       "                Genre rating_cat  \n",
       "7   Action, Adventure  Excellent  "
      ]
     },
     "execution_count": 246,
     "metadata": {},
     "output_type": "execute_result"
    }
   ],
   "source": [
    "# user given Votes\n",
    "votes=int(input())\n",
    "df[df['Votes']==votes]"
   ]
  },
  {
   "cell_type": "code",
   "execution_count": 247,
   "id": "be90a14d",
   "metadata": {},
   "outputs": [
    {
     "name": "stdout",
     "output_type": "stream",
     "text": [
      "Enter the runtime: 45\n"
     ]
    },
    {
     "data": {
      "text/html": [
       "<div>\n",
       "<style scoped>\n",
       "    .dataframe tbody tr th:only-of-type {\n",
       "        vertical-align: middle;\n",
       "    }\n",
       "\n",
       "    .dataframe tbody tr th {\n",
       "        vertical-align: top;\n",
       "    }\n",
       "\n",
       "    .dataframe thead th {\n",
       "        text-align: right;\n",
       "    }\n",
       "</style>\n",
       "<table border=\"1\" class=\"dataframe\">\n",
       "  <thead>\n",
       "    <tr style=\"text-align: right;\">\n",
       "      <th></th>\n",
       "      <th>Titles</th>\n",
       "      <th>Start year</th>\n",
       "      <th>Rating</th>\n",
       "      <th>Runtime (min)</th>\n",
       "      <th>Casting</th>\n",
       "      <th>Votes</th>\n",
       "      <th>Certificate</th>\n",
       "      <th>Genre</th>\n",
       "      <th>rating_cat</th>\n",
       "    </tr>\n",
       "  </thead>\n",
       "  <tbody>\n",
       "    <tr>\n",
       "      <th>134</th>\n",
       "      <td>Run with the Wind</td>\n",
       "      <td>2018</td>\n",
       "      <td>8.4</td>\n",
       "      <td>45</td>\n",
       "      <td>Mike Haimoto, Kelly Greenshiel...</td>\n",
       "      <td>1497</td>\n",
       "      <td>TV-14</td>\n",
       "      <td>Comedy, Sport</td>\n",
       "      <td>Excellent</td>\n",
       "    </tr>\n",
       "  </tbody>\n",
       "</table>\n",
       "</div>"
      ],
      "text/plain": [
       "                Titles  Start year  Rating  Runtime (min)  \\\n",
       "134  Run with the Wind        2018     8.4             45   \n",
       "\n",
       "                                               Casting  Votes Certificate  \\\n",
       "134                  Mike Haimoto, Kelly Greenshiel...   1497       TV-14   \n",
       "\n",
       "              Genre rating_cat  \n",
       "134   Comedy, Sport  Excellent  "
      ]
     },
     "execution_count": 247,
     "metadata": {},
     "output_type": "execute_result"
    }
   ],
   "source": [
    "# user given Runtime\n",
    "duration=int(input('Enter the runtime: '))\n",
    "df[df['Runtime (min)']==duration]"
   ]
  },
  {
   "cell_type": "code",
   "execution_count": 254,
   "id": "85421962",
   "metadata": {},
   "outputs": [
    {
     "name": "stdout",
     "output_type": "stream",
     "text": [
      "Enter the year: 2007\n"
     ]
    },
    {
     "data": {
      "text/html": [
       "<div>\n",
       "<style scoped>\n",
       "    .dataframe tbody tr th:only-of-type {\n",
       "        vertical-align: middle;\n",
       "    }\n",
       "\n",
       "    .dataframe tbody tr th {\n",
       "        vertical-align: top;\n",
       "    }\n",
       "\n",
       "    .dataframe thead th {\n",
       "        text-align: right;\n",
       "    }\n",
       "</style>\n",
       "<table border=\"1\" class=\"dataframe\">\n",
       "  <thead>\n",
       "    <tr style=\"text-align: right;\">\n",
       "      <th></th>\n",
       "      <th>Titles</th>\n",
       "      <th>Start year</th>\n",
       "      <th>Rating</th>\n",
       "      <th>Runtime (min)</th>\n",
       "      <th>Casting</th>\n",
       "      <th>Votes</th>\n",
       "      <th>Certificate</th>\n",
       "      <th>Genre</th>\n",
       "      <th>rating_cat</th>\n",
       "    </tr>\n",
       "  </thead>\n",
       "  <tbody>\n",
       "    <tr>\n",
       "      <th>35</th>\n",
       "      <td>Naruto: Shippuden</td>\n",
       "      <td>2007</td>\n",
       "      <td>8.7</td>\n",
       "      <td>24</td>\n",
       "      <td>Alexandre Crepet, Junko Takeuc...</td>\n",
       "      <td>138473</td>\n",
       "      <td>TV-MA</td>\n",
       "      <td>Action, Adventure</td>\n",
       "      <td>Excellent</td>\n",
       "    </tr>\n",
       "    <tr>\n",
       "      <th>146</th>\n",
       "      <td>Jefferson Anderson</td>\n",
       "      <td>2007</td>\n",
       "      <td>8.4</td>\n",
       "      <td>24</td>\n",
       "      <td>Jani Volanen, Kari Hietalahti,...</td>\n",
       "      <td>1639</td>\n",
       "      <td>TV-PG</td>\n",
       "      <td>Comedy, Crime</td>\n",
       "      <td>Excellent</td>\n",
       "    </tr>\n",
       "    <tr>\n",
       "      <th>164</th>\n",
       "      <td>Gurren Lagann</td>\n",
       "      <td>2007</td>\n",
       "      <td>8.3</td>\n",
       "      <td>24</td>\n",
       "      <td>Tetsuya Kakihara, Shizuka Itô,...</td>\n",
       "      <td>19579</td>\n",
       "      <td>TV-MA</td>\n",
       "      <td>Action, Adventure</td>\n",
       "      <td>Excellent</td>\n",
       "    </tr>\n",
       "    <tr>\n",
       "      <th>218</th>\n",
       "      <td>Shaun the Sheep</td>\n",
       "      <td>2007</td>\n",
       "      <td>8.2</td>\n",
       "      <td>24</td>\n",
       "      <td>Justin Fletcher, John Sparkes,...</td>\n",
       "      <td>15619</td>\n",
       "      <td>TV-MA</td>\n",
       "      <td>Short, Comedy</td>\n",
       "      <td>Excellent</td>\n",
       "    </tr>\n",
       "    <tr>\n",
       "      <th>226</th>\n",
       "      <td>Baccano!</td>\n",
       "      <td>2007</td>\n",
       "      <td>8.2</td>\n",
       "      <td>11</td>\n",
       "      <td>Michael C. Pizzuto, J. Michael...</td>\n",
       "      <td>12262</td>\n",
       "      <td>TV-14</td>\n",
       "      <td>Action, Adventure</td>\n",
       "      <td>Excellent</td>\n",
       "    </tr>\n",
       "    <tr>\n",
       "      <th>230</th>\n",
       "      <td>Gyakkyô burai Kaiji</td>\n",
       "      <td>2007</td>\n",
       "      <td>8.2</td>\n",
       "      <td>30</td>\n",
       "      <td>Jack Stansbury, Masato Hagiwar...</td>\n",
       "      <td>3442</td>\n",
       "      <td>TV-MA</td>\n",
       "      <td>Action, Thriller</td>\n",
       "      <td>Excellent</td>\n",
       "    </tr>\n",
       "    <tr>\n",
       "      <th>233</th>\n",
       "      <td>Moribito: Guardian of the Spirit</td>\n",
       "      <td>2007</td>\n",
       "      <td>8.2</td>\n",
       "      <td>30</td>\n",
       "      <td>Mabuki Andô, Naoto Adachi, Kôj...</td>\n",
       "      <td>2839</td>\n",
       "      <td>TV-14</td>\n",
       "      <td>Action, Adventure</td>\n",
       "      <td>Excellent</td>\n",
       "    </tr>\n",
       "    <tr>\n",
       "      <th>256</th>\n",
       "      <td>Phineas and Ferb</td>\n",
       "      <td>2007</td>\n",
       "      <td>8.1</td>\n",
       "      <td>24</td>\n",
       "      <td>Vincent Martella, Dan Povenmir...</td>\n",
       "      <td>51509</td>\n",
       "      <td>TV-Y</td>\n",
       "      <td>Short, Action</td>\n",
       "      <td>Excellent</td>\n",
       "    </tr>\n",
       "    <tr>\n",
       "      <th>290</th>\n",
       "      <td>Mobile Suit Gundam 00</td>\n",
       "      <td>2007</td>\n",
       "      <td>8.1</td>\n",
       "      <td>24</td>\n",
       "      <td>Sam Vincent, Mamoru Miyano, Sh...</td>\n",
       "      <td>2540</td>\n",
       "      <td>TV-MA</td>\n",
       "      <td>Action, Drama</td>\n",
       "      <td>Excellent</td>\n",
       "    </tr>\n",
       "    <tr>\n",
       "      <th>297</th>\n",
       "      <td>When They Cry: Kai</td>\n",
       "      <td>2007</td>\n",
       "      <td>8.1</td>\n",
       "      <td>10</td>\n",
       "      <td>Yukari Tamura, Mai Nakahara, M...</td>\n",
       "      <td>2585</td>\n",
       "      <td>TV-MA</td>\n",
       "      <td>Drama, Horror</td>\n",
       "      <td>Excellent</td>\n",
       "    </tr>\n",
       "    <tr>\n",
       "      <th>301</th>\n",
       "      <td>Nodame kantâbire</td>\n",
       "      <td>2007</td>\n",
       "      <td>8.1</td>\n",
       "      <td>30</td>\n",
       "      <td>Yuri Lowenthal, Laura Bailey, ...</td>\n",
       "      <td>1333</td>\n",
       "      <td>TV-MA</td>\n",
       "      <td>Comedy, Drama</td>\n",
       "      <td>Excellent</td>\n",
       "    </tr>\n",
       "    <tr>\n",
       "      <th>320</th>\n",
       "      <td>Claymore</td>\n",
       "      <td>2007</td>\n",
       "      <td>8.0</td>\n",
       "      <td>23</td>\n",
       "      <td>Todd Haberkorn, Stephanie Youn...</td>\n",
       "      <td>14421</td>\n",
       "      <td>TV-Y7</td>\n",
       "      <td>Action, Adventure</td>\n",
       "      <td>Excellent</td>\n",
       "    </tr>\n",
       "    <tr>\n",
       "      <th>380</th>\n",
       "      <td>Xavier: Renegade Angel</td>\n",
       "      <td>2007</td>\n",
       "      <td>7.9</td>\n",
       "      <td>24</td>\n",
       "      <td>Vernon Chatman, John Lee, Alys...</td>\n",
       "      <td>4647</td>\n",
       "      <td>TV-14</td>\n",
       "      <td>Adventure, Comedy</td>\n",
       "      <td>Good</td>\n",
       "    </tr>\n",
       "    <tr>\n",
       "      <th>404</th>\n",
       "      <td>Lovely Complex</td>\n",
       "      <td>2007</td>\n",
       "      <td>7.9</td>\n",
       "      <td>701</td>\n",
       "      <td>Akemi Okamura, Saori Higashi, ...</td>\n",
       "      <td>3005</td>\n",
       "      <td>TV-PG</td>\n",
       "      <td>Comedy, Romance</td>\n",
       "      <td>Good</td>\n",
       "    </tr>\n",
       "    <tr>\n",
       "      <th>449</th>\n",
       "      <td>Clannad</td>\n",
       "      <td>2007</td>\n",
       "      <td>7.8</td>\n",
       "      <td>24</td>\n",
       "      <td>Yûichi Nakamura, David Matrang...</td>\n",
       "      <td>9913</td>\n",
       "      <td>TV-Y7</td>\n",
       "      <td>Comedy, Drama</td>\n",
       "      <td>Good</td>\n",
       "    </tr>\n",
       "  </tbody>\n",
       "</table>\n",
       "</div>"
      ],
      "text/plain": [
       "                               Titles  Start year  Rating  Runtime (min)  \\\n",
       "35                  Naruto: Shippuden        2007     8.7             24   \n",
       "146                Jefferson Anderson        2007     8.4             24   \n",
       "164                     Gurren Lagann        2007     8.3             24   \n",
       "218                   Shaun the Sheep        2007     8.2             24   \n",
       "226                          Baccano!        2007     8.2             11   \n",
       "230               Gyakkyô burai Kaiji        2007     8.2             30   \n",
       "233  Moribito: Guardian of the Spirit        2007     8.2             30   \n",
       "256                  Phineas and Ferb        2007     8.1             24   \n",
       "290             Mobile Suit Gundam 00        2007     8.1             24   \n",
       "297                When They Cry: Kai        2007     8.1             10   \n",
       "301                  Nodame kantâbire        2007     8.1             30   \n",
       "320                          Claymore        2007     8.0             23   \n",
       "380            Xavier: Renegade Angel        2007     7.9             24   \n",
       "404                    Lovely Complex        2007     7.9            701   \n",
       "449                           Clannad        2007     7.8             24   \n",
       "\n",
       "                                               Casting   Votes Certificate  \\\n",
       "35                   Alexandre Crepet, Junko Takeuc...  138473       TV-MA   \n",
       "146                  Jani Volanen, Kari Hietalahti,...    1639       TV-PG   \n",
       "164                  Tetsuya Kakihara, Shizuka Itô,...   19579       TV-MA   \n",
       "218                  Justin Fletcher, John Sparkes,...   15619       TV-MA   \n",
       "226                  Michael C. Pizzuto, J. Michael...   12262       TV-14   \n",
       "230                  Jack Stansbury, Masato Hagiwar...    3442       TV-MA   \n",
       "233                  Mabuki Andô, Naoto Adachi, Kôj...    2839       TV-14   \n",
       "256                  Vincent Martella, Dan Povenmir...   51509        TV-Y   \n",
       "290                  Sam Vincent, Mamoru Miyano, Sh...    2540       TV-MA   \n",
       "297                  Yukari Tamura, Mai Nakahara, M...    2585       TV-MA   \n",
       "301                  Yuri Lowenthal, Laura Bailey, ...    1333       TV-MA   \n",
       "320                  Todd Haberkorn, Stephanie Youn...   14421       TV-Y7   \n",
       "380                  Vernon Chatman, John Lee, Alys...    4647       TV-14   \n",
       "404                  Akemi Okamura, Saori Higashi, ...    3005       TV-PG   \n",
       "449                  Yûichi Nakamura, David Matrang...    9913       TV-Y7   \n",
       "\n",
       "                  Genre rating_cat  \n",
       "35    Action, Adventure  Excellent  \n",
       "146       Comedy, Crime  Excellent  \n",
       "164   Action, Adventure  Excellent  \n",
       "218       Short, Comedy  Excellent  \n",
       "226   Action, Adventure  Excellent  \n",
       "230    Action, Thriller  Excellent  \n",
       "233   Action, Adventure  Excellent  \n",
       "256       Short, Action  Excellent  \n",
       "290       Action, Drama  Excellent  \n",
       "297       Drama, Horror  Excellent  \n",
       "301       Comedy, Drama  Excellent  \n",
       "320   Action, Adventure  Excellent  \n",
       "380   Adventure, Comedy       Good  \n",
       "404     Comedy, Romance       Good  \n",
       "449       Comedy, Drama       Good  "
      ]
     },
     "execution_count": 254,
     "metadata": {},
     "output_type": "execute_result"
    }
   ],
   "source": [
    "# user given startyear\n",
    "year=int(input('Enter the year: '))\n",
    "df[df['Start year']==year]\n"
   ]
  },
  {
   "cell_type": "code",
   "execution_count": 273,
   "id": "d89a426f",
   "metadata": {},
   "outputs": [
    {
     "name": "stdout",
     "output_type": "stream",
     "text": [
      "Enter the rating: 9.1\n"
     ]
    },
    {
     "data": {
      "text/html": [
       "<div>\n",
       "<style scoped>\n",
       "    .dataframe tbody tr th:only-of-type {\n",
       "        vertical-align: middle;\n",
       "    }\n",
       "\n",
       "    .dataframe tbody tr th {\n",
       "        vertical-align: top;\n",
       "    }\n",
       "\n",
       "    .dataframe thead th {\n",
       "        text-align: right;\n",
       "    }\n",
       "</style>\n",
       "<table border=\"1\" class=\"dataframe\">\n",
       "  <thead>\n",
       "    <tr style=\"text-align: right;\">\n",
       "      <th></th>\n",
       "      <th>Titles</th>\n",
       "      <th>Start year</th>\n",
       "      <th>Rating</th>\n",
       "      <th>Runtime (min)</th>\n",
       "      <th>Casting</th>\n",
       "      <th>Votes</th>\n",
       "      <th>Certificate</th>\n",
       "      <th>Genre</th>\n",
       "      <th>rating_cat</th>\n",
       "    </tr>\n",
       "  </thead>\n",
       "  <tbody>\n",
       "    <tr>\n",
       "      <th>4</th>\n",
       "      <td>Rick and Morty</td>\n",
       "      <td>2013</td>\n",
       "      <td>9.1</td>\n",
       "      <td>24</td>\n",
       "      <td>Justin Roiland, Chris Parnell,...</td>\n",
       "      <td>554944</td>\n",
       "      <td>TV-MA</td>\n",
       "      <td>Adventure, Comedy</td>\n",
       "      <td>Excellent</td>\n",
       "    </tr>\n",
       "    <tr>\n",
       "      <th>5</th>\n",
       "      <td>Attack on Titan</td>\n",
       "      <td>2013</td>\n",
       "      <td>9.1</td>\n",
       "      <td>24</td>\n",
       "      <td>Josh Grelle, Bryce Papenbrook,...</td>\n",
       "      <td>414958</td>\n",
       "      <td>TV-MA</td>\n",
       "      <td>Action, Adventure</td>\n",
       "      <td>Excellent</td>\n",
       "    </tr>\n",
       "    <tr>\n",
       "      <th>6</th>\n",
       "      <td>Fullmetal Alchemist: Brotherhood</td>\n",
       "      <td>2009</td>\n",
       "      <td>9.1</td>\n",
       "      <td>24</td>\n",
       "      <td>Kent Williams, Iemasa Kayumi, ...</td>\n",
       "      <td>179881</td>\n",
       "      <td>TV-14</td>\n",
       "      <td>Action, Adventure</td>\n",
       "      <td>Excellent</td>\n",
       "    </tr>\n",
       "    <tr>\n",
       "      <th>7</th>\n",
       "      <td>Bleach: Thousand-Year Blood War</td>\n",
       "      <td>2022</td>\n",
       "      <td>9.1</td>\n",
       "      <td>25</td>\n",
       "      <td>Masakazu Morita, Johnny Yong B...</td>\n",
       "      <td>19943</td>\n",
       "      <td>TV-MA</td>\n",
       "      <td>Action, Adventure</td>\n",
       "      <td>Excellent</td>\n",
       "    </tr>\n",
       "    <tr>\n",
       "      <th>8</th>\n",
       "      <td>The Legend of Hanuman</td>\n",
       "      <td>2021</td>\n",
       "      <td>9.1</td>\n",
       "      <td>11</td>\n",
       "      <td>Rich Ting, Da Man, Shakti Sing...</td>\n",
       "      <td>10032</td>\n",
       "      <td>PG</td>\n",
       "      <td>Adventure, Fantasy</td>\n",
       "      <td>Excellent</td>\n",
       "    </tr>\n",
       "    <tr>\n",
       "      <th>9</th>\n",
       "      <td>Jorel's Brother</td>\n",
       "      <td>2014</td>\n",
       "      <td>9.1</td>\n",
       "      <td>41</td>\n",
       "      <td>Andrei Duarte, Melissa Garcia,...</td>\n",
       "      <td>1157</td>\n",
       "      <td>TV-PG</td>\n",
       "      <td>Short, Comedy</td>\n",
       "      <td>Excellent</td>\n",
       "    </tr>\n",
       "  </tbody>\n",
       "</table>\n",
       "</div>"
      ],
      "text/plain": [
       "                             Titles  Start year  Rating  Runtime (min)  \\\n",
       "4                    Rick and Morty        2013     9.1             24   \n",
       "5                   Attack on Titan        2013     9.1             24   \n",
       "6  Fullmetal Alchemist: Brotherhood        2009     9.1             24   \n",
       "7   Bleach: Thousand-Year Blood War        2022     9.1             25   \n",
       "8             The Legend of Hanuman        2021     9.1             11   \n",
       "9                   Jorel's Brother        2014     9.1             41   \n",
       "\n",
       "                                             Casting   Votes Certificate  \\\n",
       "4                  Justin Roiland, Chris Parnell,...  554944       TV-MA   \n",
       "5                  Josh Grelle, Bryce Papenbrook,...  414958       TV-MA   \n",
       "6                  Kent Williams, Iemasa Kayumi, ...  179881       TV-14   \n",
       "7                  Masakazu Morita, Johnny Yong B...   19943       TV-MA   \n",
       "8                  Rich Ting, Da Man, Shakti Sing...   10032          PG   \n",
       "9                  Andrei Duarte, Melissa Garcia,...    1157       TV-PG   \n",
       "\n",
       "                 Genre rating_cat  \n",
       "4    Adventure, Comedy  Excellent  \n",
       "5    Action, Adventure  Excellent  \n",
       "6    Action, Adventure  Excellent  \n",
       "7    Action, Adventure  Excellent  \n",
       "8   Adventure, Fantasy  Excellent  \n",
       "9        Short, Comedy  Excellent  "
      ]
     },
     "execution_count": 273,
     "metadata": {},
     "output_type": "execute_result"
    }
   ],
   "source": [
    "# user input rating\n",
    "rating=float(input('Enter the rating: '))\n",
    "df[df['Rating']==rating]"
   ]
  },
  {
   "cell_type": "markdown",
   "id": "ff6aaed6",
   "metadata": {},
   "source": [
    "# Suppose a person wants to  get sugggested to watch an anime with his own manual requirements."
   ]
  },
  {
   "cell_type": "code",
   "execution_count": 274,
   "id": "0bb1bb91",
   "metadata": {},
   "outputs": [
    {
     "name": "stdout",
     "output_type": "stream",
     "text": [
      "Enter the votes: 10032\n",
      "Enter the runtime: 11\n",
      "Enter the year: 2021\n",
      "Enter the Rating: 9.1\n"
     ]
    },
    {
     "data": {
      "text/html": [
       "<div>\n",
       "<style scoped>\n",
       "    .dataframe tbody tr th:only-of-type {\n",
       "        vertical-align: middle;\n",
       "    }\n",
       "\n",
       "    .dataframe tbody tr th {\n",
       "        vertical-align: top;\n",
       "    }\n",
       "\n",
       "    .dataframe thead th {\n",
       "        text-align: right;\n",
       "    }\n",
       "</style>\n",
       "<table border=\"1\" class=\"dataframe\">\n",
       "  <thead>\n",
       "    <tr style=\"text-align: right;\">\n",
       "      <th></th>\n",
       "      <th>Titles</th>\n",
       "      <th>Start year</th>\n",
       "      <th>Rating</th>\n",
       "      <th>Runtime (min)</th>\n",
       "      <th>Casting</th>\n",
       "      <th>Votes</th>\n",
       "      <th>Certificate</th>\n",
       "      <th>Genre</th>\n",
       "      <th>rating_cat</th>\n",
       "    </tr>\n",
       "  </thead>\n",
       "  <tbody>\n",
       "    <tr>\n",
       "      <th>8</th>\n",
       "      <td>The Legend of Hanuman</td>\n",
       "      <td>2021</td>\n",
       "      <td>9.1</td>\n",
       "      <td>11</td>\n",
       "      <td>Rich Ting, Da Man, Shakti Sing...</td>\n",
       "      <td>10032</td>\n",
       "      <td>PG</td>\n",
       "      <td>Adventure, Fantasy</td>\n",
       "      <td>Excellent</td>\n",
       "    </tr>\n",
       "  </tbody>\n",
       "</table>\n",
       "</div>"
      ],
      "text/plain": [
       "                  Titles  Start year  Rating  Runtime (min)  \\\n",
       "8  The Legend of Hanuman        2021     9.1             11   \n",
       "\n",
       "                                             Casting  Votes Certificate  \\\n",
       "8                  Rich Ting, Da Man, Shakti Sing...  10032          PG   \n",
       "\n",
       "                 Genre rating_cat  \n",
       "8   Adventure, Fantasy  Excellent  "
      ]
     },
     "execution_count": 274,
     "metadata": {},
     "output_type": "execute_result"
    }
   ],
   "source": [
    "votes=int(input('Enter the votes: '))\n",
    "duration=int(input('Enter the runtime: '))\n",
    "year=int(input('Enter the year: '))\n",
    "rating=float(input('Enter the Rating: '))\n",
    "a=df[(df['Rating']==rating)&(df['Votes']==votes)&(df['Start year']==year)&(df['Runtime (min)']==duration)]\n",
    "a"
   ]
  },
  {
   "cell_type": "code",
   "execution_count": null,
   "id": "9071f9d2",
   "metadata": {},
   "outputs": [],
   "source": []
  }
 ],
 "metadata": {
  "kernelspec": {
   "display_name": "Python 3 (ipykernel)",
   "language": "python",
   "name": "python3"
  },
  "language_info": {
   "codemirror_mode": {
    "name": "ipython",
    "version": 3
   },
   "file_extension": ".py",
   "mimetype": "text/x-python",
   "name": "python",
   "nbconvert_exporter": "python",
   "pygments_lexer": "ipython3",
   "version": "3.9.13"
  }
 },
 "nbformat": 4,
 "nbformat_minor": 5
}
